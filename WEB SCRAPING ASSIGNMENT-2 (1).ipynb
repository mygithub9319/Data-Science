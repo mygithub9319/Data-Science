{
 "cells": [
  {
   "cell_type": "markdown",
   "metadata": {},
   "source": [
    "### Q1: Write a python program to scrape data for “Data Analyst” Job position in \n",
    "“Bangalore” location. You have to scrape the job-title, job-location, company_name,\n",
    "experience_required. You have to scrape first 10 jobs data.\n",
    "This task will be done in following steps:\n",
    "1. first get the webpage https://www.naukri.com/\n",
    "2. Enter “Data Analyst” in “Skill,Designations,Companies” field and enter “Bangalore” \n",
    "in “enter the location” field.\n",
    "3. Then click the search button.\n",
    "4. Then scrape the data for the first 10 jobs results you get.\n",
    "5. Finally create a dataframe of the scraped data.\n",
    "Note- All of the above steps have to be done in code. No step is to be done manually.\n",
    "\n"
   ]
  },
  {
   "cell_type": "code",
   "execution_count": 14,
   "metadata": {},
   "outputs": [],
   "source": [
    "# Lets now import all the required libraries\n",
    "\n",
    "import selenium\n",
    "import pandas as pd\n",
    "from selenium import webdriver"
   ]
  },
  {
   "cell_type": "code",
   "execution_count": 15,
   "metadata": {},
   "outputs": [],
   "source": [
    "# lets first connect to the web driver\n",
    "driver = webdriver.Chrome(r\"C:\\Users\\admin\\Downloads\\chromedriver_win32 (1)\\chromedriver.exe\")"
   ]
  },
  {
   "cell_type": "code",
   "execution_count": 16,
   "metadata": {},
   "outputs": [],
   "source": [
    "url = \"https://www.naukri.com/\"\n",
    "driver.get(url)"
   ]
  },
  {
   "cell_type": "code",
   "execution_count": 17,
   "metadata": {},
   "outputs": [
    {
     "data": {
      "text/plain": [
       "<selenium.webdriver.remote.webelement.WebElement (session=\"7f05decd1c3ec55d79960cb3c2dfe3f5\", element=\"e2f2ab06-079d-44a3-bbe7-68505ba69f2f\")>"
      ]
     },
     "execution_count": 17,
     "metadata": {},
     "output_type": "execute_result"
    }
   ],
   "source": [
    "search_job = driver.find_element_by_id(\"qsb-keyword-sugg\")\n",
    "search_job"
   ]
  },
  {
   "cell_type": "code",
   "execution_count": 18,
   "metadata": {},
   "outputs": [],
   "source": [
    "search_job.send_keys(\"Data Analyst\")"
   ]
  },
  {
   "cell_type": "code",
   "execution_count": 19,
   "metadata": {},
   "outputs": [],
   "source": [
    "# finding element for job location bar\n",
    "search_loc = driver.find_element_by_id(\"qsb-location-sugg\")\n",
    "search_loc.send_keys(\"Bangalore\")\n"
   ]
  },
  {
   "cell_type": "code",
   "execution_count": 20,
   "metadata": {},
   "outputs": [
    {
     "data": {
      "text/plain": [
       "<selenium.webdriver.remote.webelement.WebElement (session=\"7f05decd1c3ec55d79960cb3c2dfe3f5\", element=\"fc7dc313-a731-4f5f-b23f-63a1e9297ba8\")>"
      ]
     },
     "execution_count": 20,
     "metadata": {},
     "output_type": "execute_result"
    }
   ],
   "source": [
    "# do click using xpath function\n",
    "search_btn = driver.find_element_by_xpath(\"//button[@class='btn']\")\n",
    "\n",
    "search_btn"
   ]
  },
  {
   "cell_type": "code",
   "execution_count": null,
   "metadata": {},
   "outputs": [],
   "source": [
    "search_btn.click()"
   ]
  },
  {
   "cell_type": "markdown",
   "metadata": {},
   "source": [
    "Now we will see in the window opened by webdriver whether the webpage has opened or not.lets check it.\n",
    "\n",
    "so,now lets first create 4 empty lists.in these lists the data will be stored while scraping,we have create 4 features which we have to extract\n",
    "\n",
    "job_titles\n",
    "company_names\n",
    "locations_list\n",
    "exprience_list\n",
    "First,we will extract all the tags where we have the job titles.let me first show you on the webpage in which tags the job titles are put"
   ]
  },
  {
   "cell_type": "code",
   "execution_count": 42,
   "metadata": {},
   "outputs": [
    {
     "data": {
      "text/plain": [
       "[<selenium.webdriver.remote.webelement.WebElement (session=\"7f05decd1c3ec55d79960cb3c2dfe3f5\", element=\"e512e902-760b-4595-af55-b83a02dbbee8\")>,\n",
       " <selenium.webdriver.remote.webelement.WebElement (session=\"7f05decd1c3ec55d79960cb3c2dfe3f5\", element=\"be807fb2-eef6-4ec7-83fb-3df5e892360b\")>,\n",
       " <selenium.webdriver.remote.webelement.WebElement (session=\"7f05decd1c3ec55d79960cb3c2dfe3f5\", element=\"5f24ff96-71d7-42b2-927f-4a6a695db306\")>,\n",
       " <selenium.webdriver.remote.webelement.WebElement (session=\"7f05decd1c3ec55d79960cb3c2dfe3f5\", element=\"047c6a5d-f405-4dac-8e15-2b5c2a2c6751\")>,\n",
       " <selenium.webdriver.remote.webelement.WebElement (session=\"7f05decd1c3ec55d79960cb3c2dfe3f5\", element=\"1fb561c1-303e-4d04-bebd-8bc29d3275f4\")>,\n",
       " <selenium.webdriver.remote.webelement.WebElement (session=\"7f05decd1c3ec55d79960cb3c2dfe3f5\", element=\"b5689ca8-8af9-4cac-bb9f-36e8e6fda1f7\")>,\n",
       " <selenium.webdriver.remote.webelement.WebElement (session=\"7f05decd1c3ec55d79960cb3c2dfe3f5\", element=\"bb58038a-45a5-4169-9097-c7dc53c23125\")>,\n",
       " <selenium.webdriver.remote.webelement.WebElement (session=\"7f05decd1c3ec55d79960cb3c2dfe3f5\", element=\"b428ef49-d9d4-48bd-844b-3a20b8f07e90\")>,\n",
       " <selenium.webdriver.remote.webelement.WebElement (session=\"7f05decd1c3ec55d79960cb3c2dfe3f5\", element=\"fac44582-1a4c-4cfa-a7f4-9b4a8cbb06e6\")>,\n",
       " <selenium.webdriver.remote.webelement.WebElement (session=\"7f05decd1c3ec55d79960cb3c2dfe3f5\", element=\"1cafb3b5-f6a8-4214-aeed-86e6db5ec0c6\")>,\n",
       " <selenium.webdriver.remote.webelement.WebElement (session=\"7f05decd1c3ec55d79960cb3c2dfe3f5\", element=\"2da48c85-9de2-44d7-9070-d191e7650559\")>,\n",
       " <selenium.webdriver.remote.webelement.WebElement (session=\"7f05decd1c3ec55d79960cb3c2dfe3f5\", element=\"54bea8ea-1699-4136-9bf0-87ea6f5e9559\")>,\n",
       " <selenium.webdriver.remote.webelement.WebElement (session=\"7f05decd1c3ec55d79960cb3c2dfe3f5\", element=\"e327c8b9-f316-4d83-bac8-eaefc2efb33d\")>,\n",
       " <selenium.webdriver.remote.webelement.WebElement (session=\"7f05decd1c3ec55d79960cb3c2dfe3f5\", element=\"f263f13a-aa2d-4dc9-a346-fb1720c7c652\")>,\n",
       " <selenium.webdriver.remote.webelement.WebElement (session=\"7f05decd1c3ec55d79960cb3c2dfe3f5\", element=\"e8255f5f-9583-4a06-8d64-c31afd17d99f\")>,\n",
       " <selenium.webdriver.remote.webelement.WebElement (session=\"7f05decd1c3ec55d79960cb3c2dfe3f5\", element=\"68294867-c532-4868-b533-7cb90a2a9321\")>,\n",
       " <selenium.webdriver.remote.webelement.WebElement (session=\"7f05decd1c3ec55d79960cb3c2dfe3f5\", element=\"6450ac6a-bd42-46bf-8571-e59a2d29312c\")>,\n",
       " <selenium.webdriver.remote.webelement.WebElement (session=\"7f05decd1c3ec55d79960cb3c2dfe3f5\", element=\"3b8243a8-930e-44f3-83c0-b6b2b7fc18fe\")>,\n",
       " <selenium.webdriver.remote.webelement.WebElement (session=\"7f05decd1c3ec55d79960cb3c2dfe3f5\", element=\"4c77f1de-a8db-4abb-a1f3-436521ed058c\")>,\n",
       " <selenium.webdriver.remote.webelement.WebElement (session=\"7f05decd1c3ec55d79960cb3c2dfe3f5\", element=\"ffdf6d32-c13a-4a88-a292-1106f9cba3e0\")>]"
      ]
     },
     "execution_count": 42,
     "metadata": {},
     "output_type": "execute_result"
    }
   ],
   "source": [
    "# so lets extract all the tags having the job_titles\n",
    "\n",
    "titles_tags = driver.find_elements_by_xpath(\"//a[@class='title fw500 ellipsis']\")\n",
    "\n",
    "titles_tags"
   ]
  },
  {
   "cell_type": "markdown",
   "metadata": {},
   "source": [
    "Now we have all the tags in which there are the job titles"
   ]
  },
  {
   "cell_type": "markdown",
   "metadata": {},
   "source": [
    "now we will extract the next from these tags one by one by looping these tags"
   ]
  },
  {
   "cell_type": "code",
   "execution_count": 45,
   "metadata": {},
   "outputs": [
    {
     "data": {
      "text/plain": [
       "['Data Analyst',\n",
       " 'Sales Analyst, Data Analyst, Business Analyst',\n",
       " 'Systems and Data Analyst, Safety and Provisioning',\n",
       " 'Data Annotator | Data Entry | Work From Home | Data analyst | Data QC',\n",
       " 'Senior CDP (Customer Data Platform) Analyst',\n",
       " 'Senior Analyst - Data & Analytics',\n",
       " 'Senior Data Analyst - SQL/Tableau/Redshift',\n",
       " 'Business Data Analyst - Alteryx/Hadoop',\n",
       " 'Senior Data Analyst',\n",
       " 'Senior Data Analyst',\n",
       " 'Immediate Opening For Senior Data Analyst (PLSQ) For Pune location',\n",
       " 'Data Analyst - Work from Home',\n",
       " 'Data Analyst',\n",
       " 'Data Analyst',\n",
       " 'Medical Operations Data Analyst',\n",
       " 'ID&A - Data Analyst - Informatica MDM',\n",
       " 'Data analysts',\n",
       " 'Data Analyst',\n",
       " 'Data Scientist / Data Analyst -Business Analyst',\n",
       " 'Business Data Analyst || Girikon Solutions']"
      ]
     },
     "execution_count": 45,
     "metadata": {},
     "output_type": "execute_result"
    }
   ],
   "source": [
    "# Now the text of the job title is inside the tags extracted above.\n",
    "\n",
    "# so we will run a loop to iterate over the tags extracted above and extract the next inside them.\n",
    "\n",
    "job_title = []\n",
    "\n",
    "for i in titles_tags:\n",
    "    job_title.append(i.text)\n",
    "    \n",
    "job_title  \n",
    "\n",
    "    "
   ]
  },
  {
   "cell_type": "markdown",
   "metadata": {},
   "source": [
    "Now we will extract all the html tags where we have the company names.let me first show you in which tags the company names are put on the webpage"
   ]
  },
  {
   "cell_type": "code",
   "execution_count": 31,
   "metadata": {},
   "outputs": [
    {
     "data": {
      "text/plain": [
       "[<selenium.webdriver.remote.webelement.WebElement (session=\"7f05decd1c3ec55d79960cb3c2dfe3f5\", element=\"afe43650-0042-49d2-9974-ee42ac7c5ec8\")>,\n",
       " <selenium.webdriver.remote.webelement.WebElement (session=\"7f05decd1c3ec55d79960cb3c2dfe3f5\", element=\"2726d29e-000c-4103-87c2-87a4031289df\")>,\n",
       " <selenium.webdriver.remote.webelement.WebElement (session=\"7f05decd1c3ec55d79960cb3c2dfe3f5\", element=\"f4be7cf3-9e67-4e65-a7f4-44a92b925c5f\")>,\n",
       " <selenium.webdriver.remote.webelement.WebElement (session=\"7f05decd1c3ec55d79960cb3c2dfe3f5\", element=\"076f10a9-8633-4766-af4a-a047060cbd49\")>,\n",
       " <selenium.webdriver.remote.webelement.WebElement (session=\"7f05decd1c3ec55d79960cb3c2dfe3f5\", element=\"cc9f275a-85b8-4aa9-88a6-fc92b806a864\")>,\n",
       " <selenium.webdriver.remote.webelement.WebElement (session=\"7f05decd1c3ec55d79960cb3c2dfe3f5\", element=\"81947dd2-aaad-4ddc-a0be-a2396d0194cb\")>,\n",
       " <selenium.webdriver.remote.webelement.WebElement (session=\"7f05decd1c3ec55d79960cb3c2dfe3f5\", element=\"b0fe1ef7-67fe-4695-bb4b-0b2568c9ff34\")>,\n",
       " <selenium.webdriver.remote.webelement.WebElement (session=\"7f05decd1c3ec55d79960cb3c2dfe3f5\", element=\"7b44e5c1-f8dd-430e-a0e1-24466940610f\")>,\n",
       " <selenium.webdriver.remote.webelement.WebElement (session=\"7f05decd1c3ec55d79960cb3c2dfe3f5\", element=\"bfb430c5-87bb-483f-ad0f-66a177e11ce1\")>,\n",
       " <selenium.webdriver.remote.webelement.WebElement (session=\"7f05decd1c3ec55d79960cb3c2dfe3f5\", element=\"f09cff6d-46bd-4fe7-b2dc-fb9ab2c2df99\")>,\n",
       " <selenium.webdriver.remote.webelement.WebElement (session=\"7f05decd1c3ec55d79960cb3c2dfe3f5\", element=\"2061b3b9-fca7-44ef-b98f-43bb3270cb84\")>,\n",
       " <selenium.webdriver.remote.webelement.WebElement (session=\"7f05decd1c3ec55d79960cb3c2dfe3f5\", element=\"1d726f88-7972-40b0-aa70-f62e23fec9fc\")>,\n",
       " <selenium.webdriver.remote.webelement.WebElement (session=\"7f05decd1c3ec55d79960cb3c2dfe3f5\", element=\"443402b3-ade5-4865-8707-05a4d584cb6e\")>,\n",
       " <selenium.webdriver.remote.webelement.WebElement (session=\"7f05decd1c3ec55d79960cb3c2dfe3f5\", element=\"19ae1b22-d0b2-449b-8875-fae79b23e9cc\")>,\n",
       " <selenium.webdriver.remote.webelement.WebElement (session=\"7f05decd1c3ec55d79960cb3c2dfe3f5\", element=\"74209156-d7a5-4a95-86e3-57f9d41b9217\")>,\n",
       " <selenium.webdriver.remote.webelement.WebElement (session=\"7f05decd1c3ec55d79960cb3c2dfe3f5\", element=\"d9df31be-7dcd-421c-a567-222bbf54e208\")>,\n",
       " <selenium.webdriver.remote.webelement.WebElement (session=\"7f05decd1c3ec55d79960cb3c2dfe3f5\", element=\"4c703515-2a87-4031-8101-16e709ea42bd\")>,\n",
       " <selenium.webdriver.remote.webelement.WebElement (session=\"7f05decd1c3ec55d79960cb3c2dfe3f5\", element=\"f3c35294-f455-49a3-9fff-38a44c82d960\")>,\n",
       " <selenium.webdriver.remote.webelement.WebElement (session=\"7f05decd1c3ec55d79960cb3c2dfe3f5\", element=\"955773fe-aa9a-45d3-b742-182555342b6f\")>,\n",
       " <selenium.webdriver.remote.webelement.WebElement (session=\"7f05decd1c3ec55d79960cb3c2dfe3f5\", element=\"6d9ea729-2a9e-4de7-a3a4-062d53189fee\")>]"
      ]
     },
     "execution_count": 31,
     "metadata": {},
     "output_type": "execute_result"
    }
   ],
   "source": [
    "# so lets extract ll the tags having the comapny names\n",
    "\n",
    "companies_tags = driver.find_elements_by_xpath(\"//a[@class='subTitle ellipsis fleft']\")\n",
    "\n",
    "companies_tags"
   ]
  },
  {
   "cell_type": "code",
   "execution_count": 32,
   "metadata": {},
   "outputs": [
    {
     "data": {
      "text/plain": [
       "['Enzen Global Solutions Pvt. Ltd',\n",
       " 'Meesho',\n",
       " 'AECOM India Private Limited',\n",
       " 'saarthi.ai',\n",
       " 'Indegene',\n",
       " 'Indegene',\n",
       " 'Pronto Consulting Services',\n",
       " 'Talent Placers',\n",
       " 'Publicis Groupe',\n",
       " 'Publicis Groupe',\n",
       " 'Harman Connected Services',\n",
       " 'POWER STORES E COMMERCE PRIVATE LIMITED',\n",
       " 'Innovsource Services Private Limited',\n",
       " 'Enzen Global Solutions',\n",
       " 'Tricog Health India Private Limited',\n",
       " 'Shell India Markets Private Limited',\n",
       " 'IBM India Pvt. Limited',\n",
       " 'Kwalee ltd.',\n",
       " 'Inflexion Analytix Private Limited',\n",
       " 'Girikon Solutions Pvt. Ltd.']"
      ]
     },
     "execution_count": 32,
     "metadata": {},
     "output_type": "execute_result"
    }
   ],
   "source": [
    "# Now the text of the companies_tags is inside the tags extracted above.\n",
    "\n",
    "# so we will run a loop to iterate over the tags extracted above and extract the next inside them.\n",
    "\n",
    "\n",
    "\n",
    "company_name = []\n",
    "\n",
    "for i in companies_tags:\n",
    "    company_name.append(i.text)\n",
    "    \n",
    "    \n",
    "company_name\n",
    "    "
   ]
  },
  {
   "cell_type": "markdown",
   "metadata": {},
   "source": [
    "Now we will extract all the html tags where we have the company names.let me first show you in which tags the company names are put on the webpage"
   ]
  },
  {
   "cell_type": "code",
   "execution_count": 36,
   "metadata": {},
   "outputs": [
    {
     "data": {
      "text/plain": [
       "[<selenium.webdriver.remote.webelement.WebElement (session=\"7f05decd1c3ec55d79960cb3c2dfe3f5\", element=\"07831e47-2424-4262-b95d-32aaeb67c1d4\")>,\n",
       " <selenium.webdriver.remote.webelement.WebElement (session=\"7f05decd1c3ec55d79960cb3c2dfe3f5\", element=\"624fb934-3c5f-41cb-a834-a3fa6cf36149\")>,\n",
       " <selenium.webdriver.remote.webelement.WebElement (session=\"7f05decd1c3ec55d79960cb3c2dfe3f5\", element=\"0e14e190-25c2-4283-9d54-c76a7ae0b125\")>,\n",
       " <selenium.webdriver.remote.webelement.WebElement (session=\"7f05decd1c3ec55d79960cb3c2dfe3f5\", element=\"d17a84f6-8b2a-4966-939c-2278e68fe99a\")>,\n",
       " <selenium.webdriver.remote.webelement.WebElement (session=\"7f05decd1c3ec55d79960cb3c2dfe3f5\", element=\"f4565183-66e1-4772-95be-d568c86fa084\")>,\n",
       " <selenium.webdriver.remote.webelement.WebElement (session=\"7f05decd1c3ec55d79960cb3c2dfe3f5\", element=\"db46c004-84ab-4c49-a8f3-f74d6bdb4830\")>,\n",
       " <selenium.webdriver.remote.webelement.WebElement (session=\"7f05decd1c3ec55d79960cb3c2dfe3f5\", element=\"bd2c6277-96c1-489d-a4c6-49fc624d3bd1\")>,\n",
       " <selenium.webdriver.remote.webelement.WebElement (session=\"7f05decd1c3ec55d79960cb3c2dfe3f5\", element=\"1546af57-0980-4f82-b6b7-fa8b65eb4a73\")>,\n",
       " <selenium.webdriver.remote.webelement.WebElement (session=\"7f05decd1c3ec55d79960cb3c2dfe3f5\", element=\"ca5b1cd9-4b84-4d9d-87aa-68bb30897c4d\")>,\n",
       " <selenium.webdriver.remote.webelement.WebElement (session=\"7f05decd1c3ec55d79960cb3c2dfe3f5\", element=\"7ec21be3-eaf4-4d94-9199-c13ba4f8df70\")>,\n",
       " <selenium.webdriver.remote.webelement.WebElement (session=\"7f05decd1c3ec55d79960cb3c2dfe3f5\", element=\"81bbd9c1-7cc4-4128-87b3-7914ab837994\")>,\n",
       " <selenium.webdriver.remote.webelement.WebElement (session=\"7f05decd1c3ec55d79960cb3c2dfe3f5\", element=\"d3760d6f-cac0-423a-9961-5ce448fe6b55\")>,\n",
       " <selenium.webdriver.remote.webelement.WebElement (session=\"7f05decd1c3ec55d79960cb3c2dfe3f5\", element=\"d76274c4-d8dd-4682-910c-f38554ea97e1\")>,\n",
       " <selenium.webdriver.remote.webelement.WebElement (session=\"7f05decd1c3ec55d79960cb3c2dfe3f5\", element=\"b840dbee-bd60-4fd8-a537-4c67ee8659af\")>,\n",
       " <selenium.webdriver.remote.webelement.WebElement (session=\"7f05decd1c3ec55d79960cb3c2dfe3f5\", element=\"28be2847-7e4a-4a30-bac0-98403a730a29\")>,\n",
       " <selenium.webdriver.remote.webelement.WebElement (session=\"7f05decd1c3ec55d79960cb3c2dfe3f5\", element=\"839d477d-802e-4b72-b2f7-d53ffe3a41db\")>,\n",
       " <selenium.webdriver.remote.webelement.WebElement (session=\"7f05decd1c3ec55d79960cb3c2dfe3f5\", element=\"14a879fc-00ca-4a3a-8a34-cb84ce6de838\")>,\n",
       " <selenium.webdriver.remote.webelement.WebElement (session=\"7f05decd1c3ec55d79960cb3c2dfe3f5\", element=\"62219a82-a02b-473f-9f82-aa34141c2afd\")>,\n",
       " <selenium.webdriver.remote.webelement.WebElement (session=\"7f05decd1c3ec55d79960cb3c2dfe3f5\", element=\"9e486198-2cac-4b22-964f-42d5ede1fcdf\")>,\n",
       " <selenium.webdriver.remote.webelement.WebElement (session=\"7f05decd1c3ec55d79960cb3c2dfe3f5\", element=\"ee7b808f-654d-41e6-b09b-a16dec5ccb26\")>]"
      ]
     },
     "execution_count": 36,
     "metadata": {},
     "output_type": "execute_result"
    }
   ],
   "source": [
    "# so lets extract all the tags having the job_Location\n",
    "\n",
    "Location_tags = driver.find_elements_by_xpath(\"//li[@class='fleft grey-text br2 placeHolderLi location']//span[1]\")\n",
    "\n",
    "Location_tags"
   ]
  },
  {
   "cell_type": "code",
   "execution_count": 37,
   "metadata": {},
   "outputs": [
    {
     "data": {
      "text/plain": [
       "['Bangalore/Bengaluru',\n",
       " 'Bangalore/Bengaluru',\n",
       " 'Bangalore/Bengaluru',\n",
       " 'Bangalore/Bengaluru',\n",
       " 'Bangalore/Bengaluru',\n",
       " 'Bangalore/Bengaluru',\n",
       " 'Noida, Mumbai, Indore, Hyderabad/Secunderabad, Pune, Chennai, Bangalore/Bengaluru',\n",
       " 'Bangalore/Bengaluru',\n",
       " 'Bangalore/Bengaluru',\n",
       " 'Bangalore/Bengaluru',\n",
       " 'Pune, Bangalore/Bengaluru',\n",
       " 'Pune, Bangalore/Bengaluru, Mumbai (All Areas)',\n",
       " 'Bangalore/Bengaluru',\n",
       " 'Bangalore/Bengaluru',\n",
       " 'Bangalore/Bengaluru(Vyalikaval)',\n",
       " 'Bangalore/Bengaluru',\n",
       " 'Bangalore/Bengaluru',\n",
       " 'Bangalore/Bengaluru',\n",
       " 'Hyderabad/Secunderabad, Chennai, Bangalore/Bengaluru',\n",
       " 'Noida, Bangalore/Bengaluru']"
      ]
     },
     "execution_count": 37,
     "metadata": {},
     "output_type": "execute_result"
    }
   ],
   "source": [
    "# Now the text of the Location_tags is inside the tags extracted above.\n",
    "\n",
    "# so we will run a loop to iterate over the tags extracted above and extract the next inside them.\n",
    "\n",
    "\n",
    "\n",
    "Location_name = []\n",
    "\n",
    "for i in Location_tags:\n",
    "    Location_name.append(i.text)\n",
    "    \n",
    "    \n",
    "Location_name"
   ]
  },
  {
   "cell_type": "code",
   "execution_count": 38,
   "metadata": {},
   "outputs": [
    {
     "data": {
      "text/plain": [
       "[<selenium.webdriver.remote.webelement.WebElement (session=\"7f05decd1c3ec55d79960cb3c2dfe3f5\", element=\"40a9e711-8589-4a80-97a5-9bff661efd6e\")>,\n",
       " <selenium.webdriver.remote.webelement.WebElement (session=\"7f05decd1c3ec55d79960cb3c2dfe3f5\", element=\"7d618502-db15-4eab-82eb-9777e2399d1c\")>,\n",
       " <selenium.webdriver.remote.webelement.WebElement (session=\"7f05decd1c3ec55d79960cb3c2dfe3f5\", element=\"5d812396-a549-49c9-8223-9dced0d99c8d\")>,\n",
       " <selenium.webdriver.remote.webelement.WebElement (session=\"7f05decd1c3ec55d79960cb3c2dfe3f5\", element=\"611d1628-0b30-4cba-aa99-a8f5d4d90e65\")>,\n",
       " <selenium.webdriver.remote.webelement.WebElement (session=\"7f05decd1c3ec55d79960cb3c2dfe3f5\", element=\"63481c7b-6a15-42cf-b186-63d3b384b0d3\")>,\n",
       " <selenium.webdriver.remote.webelement.WebElement (session=\"7f05decd1c3ec55d79960cb3c2dfe3f5\", element=\"c089d84b-6495-4b65-a8a3-2e2f91886d07\")>,\n",
       " <selenium.webdriver.remote.webelement.WebElement (session=\"7f05decd1c3ec55d79960cb3c2dfe3f5\", element=\"08b6172d-01ad-4978-9dd8-bdd5a0719f24\")>,\n",
       " <selenium.webdriver.remote.webelement.WebElement (session=\"7f05decd1c3ec55d79960cb3c2dfe3f5\", element=\"3c192aa5-febf-490f-98b1-215aa0f2611c\")>,\n",
       " <selenium.webdriver.remote.webelement.WebElement (session=\"7f05decd1c3ec55d79960cb3c2dfe3f5\", element=\"fa1ebbbd-256f-4158-9c97-7bb28a8f532f\")>,\n",
       " <selenium.webdriver.remote.webelement.WebElement (session=\"7f05decd1c3ec55d79960cb3c2dfe3f5\", element=\"22dbcbad-1a62-404a-a405-760cbba21b00\")>,\n",
       " <selenium.webdriver.remote.webelement.WebElement (session=\"7f05decd1c3ec55d79960cb3c2dfe3f5\", element=\"6b4892ad-b09b-42a5-b243-a40d21aea931\")>,\n",
       " <selenium.webdriver.remote.webelement.WebElement (session=\"7f05decd1c3ec55d79960cb3c2dfe3f5\", element=\"d06dae4d-c172-4f17-9a99-09e16d8a0438\")>,\n",
       " <selenium.webdriver.remote.webelement.WebElement (session=\"7f05decd1c3ec55d79960cb3c2dfe3f5\", element=\"acfb3b2a-23d0-4b5d-99c9-31e7be9ea462\")>,\n",
       " <selenium.webdriver.remote.webelement.WebElement (session=\"7f05decd1c3ec55d79960cb3c2dfe3f5\", element=\"0850c084-66a4-4d3e-8ff7-bf936559256b\")>,\n",
       " <selenium.webdriver.remote.webelement.WebElement (session=\"7f05decd1c3ec55d79960cb3c2dfe3f5\", element=\"da6b0823-86a1-400a-b226-984546245dec\")>,\n",
       " <selenium.webdriver.remote.webelement.WebElement (session=\"7f05decd1c3ec55d79960cb3c2dfe3f5\", element=\"d9c30a66-312e-4798-8d62-775032e339b1\")>,\n",
       " <selenium.webdriver.remote.webelement.WebElement (session=\"7f05decd1c3ec55d79960cb3c2dfe3f5\", element=\"ff21fbe0-113a-4d85-8087-743c732db13d\")>,\n",
       " <selenium.webdriver.remote.webelement.WebElement (session=\"7f05decd1c3ec55d79960cb3c2dfe3f5\", element=\"1e3460d1-9ac6-45a2-8a54-caccd6672a30\")>,\n",
       " <selenium.webdriver.remote.webelement.WebElement (session=\"7f05decd1c3ec55d79960cb3c2dfe3f5\", element=\"4a66e690-7308-4ff3-8c12-f4d96fef4a3e\")>,\n",
       " <selenium.webdriver.remote.webelement.WebElement (session=\"7f05decd1c3ec55d79960cb3c2dfe3f5\", element=\"97f8d3ec-5626-466c-a125-f1558d6bb1ff\")>]"
      ]
     },
     "execution_count": 38,
     "metadata": {},
     "output_type": "execute_result"
    }
   ],
   "source": [
    "# so lets extract all the tags having the exprience required data.\n",
    "\n",
    "exprience_tags = driver.find_elements_by_xpath(\"//li[@class='fleft grey-text br2 placeHolderLi experience']//span\")\n",
    "\n",
    "exprience_tags"
   ]
  },
  {
   "cell_type": "code",
   "execution_count": 39,
   "metadata": {},
   "outputs": [
    {
     "data": {
      "text/plain": [
       "['6-8 Yrs',\n",
       " '2-4 Yrs',\n",
       " '3-5 Yrs',\n",
       " '0-2 Yrs',\n",
       " '4-9 Yrs',\n",
       " '3-8 Yrs',\n",
       " '6-10 Yrs',\n",
       " '5-8 Yrs',\n",
       " '1-3 Yrs',\n",
       " '1-5 Yrs',\n",
       " '3-6 Yrs',\n",
       " '2-5 Yrs',\n",
       " '1-6 Yrs',\n",
       " '3-7 Yrs',\n",
       " '3-6 Yrs',\n",
       " '6-9 Yrs',\n",
       " '5-10 Yrs',\n",
       " '2-7 Yrs',\n",
       " '0-3 Yrs',\n",
       " '5-10 Yrs']"
      ]
     },
     "execution_count": 39,
     "metadata": {},
     "output_type": "execute_result"
    }
   ],
   "source": [
    "# Now the text of the exprience_list is inside the tags extracted above.\n",
    "\n",
    "# so we will run a loop to iterate over the tags extracted above and extract the next inside them.\n",
    "\n",
    "exprience_list = []\n",
    "for i in exprience_tags:\n",
    "    exprience_list.append(i.text)\n",
    "    \n",
    "    \n",
    "    \n",
    "exprience_list"
   ]
  },
  {
   "cell_type": "markdown",
   "metadata": {},
   "source": [
    "so,now we have extracted the data required from the webpage and stored them in the 4 lists mentioned above.now before creating a dataframe for these lists.lets first check the length of each of the list.beacuse if the length of all the lists are not equal then dataframe can not be performed."
   ]
  },
  {
   "cell_type": "code",
   "execution_count": 46,
   "metadata": {},
   "outputs": [
    {
     "name": "stdout",
     "output_type": "stream",
     "text": [
      "20 20 20 20\n"
     ]
    }
   ],
   "source": [
    "print(len(job_title),len(company_name),len(Location_name),len(exprience_list))"
   ]
  },
  {
   "cell_type": "code",
   "execution_count": 47,
   "metadata": {},
   "outputs": [],
   "source": [
    "# import pandas as pd\n",
    "jobs = pd.DataFrame({})\n",
    "jobs['title']=job_title\n",
    "jobs['company']=company_name\n",
    "jobs['exprience']=exprience_list\n",
    "jobs['Location']=Location_name"
   ]
  },
  {
   "cell_type": "code",
   "execution_count": 50,
   "metadata": {},
   "outputs": [
    {
     "data": {
      "text/html": [
       "<div>\n",
       "<style scoped>\n",
       "    .dataframe tbody tr th:only-of-type {\n",
       "        vertical-align: middle;\n",
       "    }\n",
       "\n",
       "    .dataframe tbody tr th {\n",
       "        vertical-align: top;\n",
       "    }\n",
       "\n",
       "    .dataframe thead th {\n",
       "        text-align: right;\n",
       "    }\n",
       "</style>\n",
       "<table border=\"1\" class=\"dataframe\">\n",
       "  <thead>\n",
       "    <tr style=\"text-align: right;\">\n",
       "      <th></th>\n",
       "      <th>title</th>\n",
       "      <th>company</th>\n",
       "      <th>exprience</th>\n",
       "      <th>Location</th>\n",
       "    </tr>\n",
       "  </thead>\n",
       "  <tbody>\n",
       "    <tr>\n",
       "      <th>0</th>\n",
       "      <td>Data Analyst</td>\n",
       "      <td>Enzen Global Solutions Pvt. Ltd</td>\n",
       "      <td>6-8 Yrs</td>\n",
       "      <td>Bangalore/Bengaluru</td>\n",
       "    </tr>\n",
       "    <tr>\n",
       "      <th>1</th>\n",
       "      <td>Sales Analyst, Data Analyst, Business Analyst</td>\n",
       "      <td>Meesho</td>\n",
       "      <td>2-4 Yrs</td>\n",
       "      <td>Bangalore/Bengaluru</td>\n",
       "    </tr>\n",
       "    <tr>\n",
       "      <th>2</th>\n",
       "      <td>Systems and Data Analyst, Safety and Provisioning</td>\n",
       "      <td>AECOM India Private Limited</td>\n",
       "      <td>3-5 Yrs</td>\n",
       "      <td>Bangalore/Bengaluru</td>\n",
       "    </tr>\n",
       "    <tr>\n",
       "      <th>3</th>\n",
       "      <td>Data Annotator | Data Entry | Work From Home |...</td>\n",
       "      <td>saarthi.ai</td>\n",
       "      <td>0-2 Yrs</td>\n",
       "      <td>Bangalore/Bengaluru</td>\n",
       "    </tr>\n",
       "    <tr>\n",
       "      <th>4</th>\n",
       "      <td>Senior CDP (Customer Data Platform) Analyst</td>\n",
       "      <td>Indegene</td>\n",
       "      <td>4-9 Yrs</td>\n",
       "      <td>Bangalore/Bengaluru</td>\n",
       "    </tr>\n",
       "    <tr>\n",
       "      <th>5</th>\n",
       "      <td>Senior Analyst - Data &amp; Analytics</td>\n",
       "      <td>Indegene</td>\n",
       "      <td>3-8 Yrs</td>\n",
       "      <td>Bangalore/Bengaluru</td>\n",
       "    </tr>\n",
       "    <tr>\n",
       "      <th>6</th>\n",
       "      <td>Senior Data Analyst - SQL/Tableau/Redshift</td>\n",
       "      <td>Pronto Consulting Services</td>\n",
       "      <td>6-10 Yrs</td>\n",
       "      <td>Noida, Mumbai, Indore, Hyderabad/Secunderabad,...</td>\n",
       "    </tr>\n",
       "    <tr>\n",
       "      <th>7</th>\n",
       "      <td>Business Data Analyst - Alteryx/Hadoop</td>\n",
       "      <td>Talent Placers</td>\n",
       "      <td>5-8 Yrs</td>\n",
       "      <td>Bangalore/Bengaluru</td>\n",
       "    </tr>\n",
       "    <tr>\n",
       "      <th>8</th>\n",
       "      <td>Senior Data Analyst</td>\n",
       "      <td>Publicis Groupe</td>\n",
       "      <td>1-3 Yrs</td>\n",
       "      <td>Bangalore/Bengaluru</td>\n",
       "    </tr>\n",
       "    <tr>\n",
       "      <th>9</th>\n",
       "      <td>Senior Data Analyst</td>\n",
       "      <td>Publicis Groupe</td>\n",
       "      <td>1-5 Yrs</td>\n",
       "      <td>Bangalore/Bengaluru</td>\n",
       "    </tr>\n",
       "  </tbody>\n",
       "</table>\n",
       "</div>"
      ],
      "text/plain": [
       "                                               title  \\\n",
       "0                                       Data Analyst   \n",
       "1      Sales Analyst, Data Analyst, Business Analyst   \n",
       "2  Systems and Data Analyst, Safety and Provisioning   \n",
       "3  Data Annotator | Data Entry | Work From Home |...   \n",
       "4        Senior CDP (Customer Data Platform) Analyst   \n",
       "5                  Senior Analyst - Data & Analytics   \n",
       "6         Senior Data Analyst - SQL/Tableau/Redshift   \n",
       "7             Business Data Analyst - Alteryx/Hadoop   \n",
       "8                                Senior Data Analyst   \n",
       "9                                Senior Data Analyst   \n",
       "\n",
       "                           company exprience  \\\n",
       "0  Enzen Global Solutions Pvt. Ltd   6-8 Yrs   \n",
       "1                           Meesho   2-4 Yrs   \n",
       "2      AECOM India Private Limited   3-5 Yrs   \n",
       "3                       saarthi.ai   0-2 Yrs   \n",
       "4                         Indegene   4-9 Yrs   \n",
       "5                         Indegene   3-8 Yrs   \n",
       "6       Pronto Consulting Services  6-10 Yrs   \n",
       "7                   Talent Placers   5-8 Yrs   \n",
       "8                  Publicis Groupe   1-3 Yrs   \n",
       "9                  Publicis Groupe   1-5 Yrs   \n",
       "\n",
       "                                            Location  \n",
       "0                                Bangalore/Bengaluru  \n",
       "1                                Bangalore/Bengaluru  \n",
       "2                                Bangalore/Bengaluru  \n",
       "3                                Bangalore/Bengaluru  \n",
       "4                                Bangalore/Bengaluru  \n",
       "5                                Bangalore/Bengaluru  \n",
       "6  Noida, Mumbai, Indore, Hyderabad/Secunderabad,...  \n",
       "7                                Bangalore/Bengaluru  \n",
       "8                                Bangalore/Bengaluru  \n",
       "9                                Bangalore/Bengaluru  "
      ]
     },
     "execution_count": 50,
     "metadata": {},
     "output_type": "execute_result"
    }
   ],
   "source": [
    "jobs[:10]"
   ]
  },
  {
   "cell_type": "code",
   "execution_count": null,
   "metadata": {},
   "outputs": [],
   "source": []
  },
  {
   "cell_type": "markdown",
   "metadata": {},
   "source": [
    "### Q2: Write a python program to scrape data for “Data Scientist” Job position in \n",
    "“Bangalore” location. You have to scrape the job-title, job-location,\n",
    "company_name, full job-description. You have to scrape first 10 jobs data.\n",
    "This task will be done in following steps:\n",
    "1. first get the webpage https://www.naukri.com/\n",
    "2. Enter “Data Scientist” in “Skill,Designations,Companies” field and enter \n",
    "“Bangalore” in “enter the location” field.\n",
    "3. Then click the search button.\n",
    "4. Then scrape the data for the first 10 jobs results you get.\n",
    "5. Finally create a dataframe of the scraped data.\n",
    "Note- 1. All of the above steps have to be done in code. No step is to be done \n",
    "manually"
   ]
  },
  {
   "cell_type": "code",
   "execution_count": 52,
   "metadata": {},
   "outputs": [],
   "source": [
    "# lets now import all the required libraries\n",
    "import selenium\n",
    "import pandas as pd\n",
    "from selenium import webdriver"
   ]
  },
  {
   "cell_type": "code",
   "execution_count": 53,
   "metadata": {},
   "outputs": [],
   "source": [
    "driver = webdriver.Chrome(r\"C:\\Users\\admin\\Downloads\\chromedriver_win32 (1)\\chromedriver.exe\")"
   ]
  },
  {
   "cell_type": "code",
   "execution_count": 54,
   "metadata": {},
   "outputs": [],
   "source": [
    "url = \"https://www.naukri.com/\"\n",
    "driver.get(url)"
   ]
  },
  {
   "cell_type": "code",
   "execution_count": 55,
   "metadata": {},
   "outputs": [
    {
     "data": {
      "text/plain": [
       "<selenium.webdriver.remote.webelement.WebElement (session=\"4e9c94c718c0dbe12695467bf4cba7be\", element=\"c1be113d-d731-4fdc-a7a2-75fee03f3778\")>"
      ]
     },
     "execution_count": 55,
     "metadata": {},
     "output_type": "execute_result"
    }
   ],
   "source": [
    "search_job = driver.find_element_by_id('qsb-keyword-sugg')\n",
    "search_job"
   ]
  },
  {
   "cell_type": "code",
   "execution_count": 57,
   "metadata": {},
   "outputs": [],
   "source": [
    "search_job.send_keys(\"Data Scientist\")"
   ]
  },
  {
   "cell_type": "code",
   "execution_count": 58,
   "metadata": {},
   "outputs": [],
   "source": [
    "# finding element for job location bar\n",
    "search_loc = driver.find_element_by_id(\"qsb-location-sugg\")\n",
    "search_loc.send_keys(\"Bangalore\")"
   ]
  },
  {
   "cell_type": "code",
   "execution_count": 61,
   "metadata": {},
   "outputs": [
    {
     "data": {
      "text/plain": [
       "<selenium.webdriver.remote.webelement.WebElement (session=\"4e9c94c718c0dbe12695467bf4cba7be\", element=\"5876c4b9-270e-4a89-8c1d-b6b07c9221a5\")>"
      ]
     },
     "execution_count": 61,
     "metadata": {},
     "output_type": "execute_result"
    }
   ],
   "source": [
    "# do click using xpath function\n",
    "\n",
    "search_btn = driver.find_element_by_xpath(\"//button[@class='btn']\")\n",
    "search_btn "
   ]
  },
  {
   "cell_type": "code",
   "execution_count": 62,
   "metadata": {},
   "outputs": [],
   "source": [
    "search_btn.click()"
   ]
  },
  {
   "cell_type": "markdown",
   "metadata": {},
   "source": [
    "so,now lets first create 4 empty lists.in these lists the data will be stored while scraping,we have create 4 features which\n",
    "we have to extract \n",
    "1. job_titles\n",
    "2. company_names\n",
    "3. locations_list\n",
    "4. exprience_list\n",
    "\n",
    "First,we will extract all the tags where we have the job titles.let me first show you on the webpage in which tags the job titles\n",
    "are put"
   ]
  },
  {
   "cell_type": "code",
   "execution_count": 64,
   "metadata": {},
   "outputs": [
    {
     "data": {
      "text/plain": [
       "[<selenium.webdriver.remote.webelement.WebElement (session=\"4e9c94c718c0dbe12695467bf4cba7be\", element=\"d9dab029-46a5-4116-949e-be43128e3a52\")>,\n",
       " <selenium.webdriver.remote.webelement.WebElement (session=\"4e9c94c718c0dbe12695467bf4cba7be\", element=\"cf8be701-b553-4aad-9a23-9da055210a72\")>,\n",
       " <selenium.webdriver.remote.webelement.WebElement (session=\"4e9c94c718c0dbe12695467bf4cba7be\", element=\"b17746d4-3e7f-4c65-a74c-b5cca002f5cb\")>,\n",
       " <selenium.webdriver.remote.webelement.WebElement (session=\"4e9c94c718c0dbe12695467bf4cba7be\", element=\"c972c8b5-e1ce-4694-a538-028ae5afc67a\")>,\n",
       " <selenium.webdriver.remote.webelement.WebElement (session=\"4e9c94c718c0dbe12695467bf4cba7be\", element=\"fbfe03c6-0893-4f67-97cb-3d94faebb815\")>,\n",
       " <selenium.webdriver.remote.webelement.WebElement (session=\"4e9c94c718c0dbe12695467bf4cba7be\", element=\"5ca3e39a-8880-4330-ac83-337cdffddd9c\")>,\n",
       " <selenium.webdriver.remote.webelement.WebElement (session=\"4e9c94c718c0dbe12695467bf4cba7be\", element=\"764bca24-3a68-4104-9b4a-38110bba62c0\")>,\n",
       " <selenium.webdriver.remote.webelement.WebElement (session=\"4e9c94c718c0dbe12695467bf4cba7be\", element=\"2d4f07de-35d7-4bb6-a78d-962e5bd62dca\")>,\n",
       " <selenium.webdriver.remote.webelement.WebElement (session=\"4e9c94c718c0dbe12695467bf4cba7be\", element=\"9df6f18d-1bdc-4059-b99e-e73fa94f79ff\")>,\n",
       " <selenium.webdriver.remote.webelement.WebElement (session=\"4e9c94c718c0dbe12695467bf4cba7be\", element=\"72c267d0-20e3-4113-9ae6-b578c55a25cc\")>,\n",
       " <selenium.webdriver.remote.webelement.WebElement (session=\"4e9c94c718c0dbe12695467bf4cba7be\", element=\"607dbae1-6a69-4063-ad4e-e8df7157e496\")>,\n",
       " <selenium.webdriver.remote.webelement.WebElement (session=\"4e9c94c718c0dbe12695467bf4cba7be\", element=\"97f4c6a4-e4cc-401d-9d8c-e692c12c769e\")>,\n",
       " <selenium.webdriver.remote.webelement.WebElement (session=\"4e9c94c718c0dbe12695467bf4cba7be\", element=\"6856e50e-0f9b-4e20-a1a9-afa336047f0c\")>,\n",
       " <selenium.webdriver.remote.webelement.WebElement (session=\"4e9c94c718c0dbe12695467bf4cba7be\", element=\"babe1f96-c0a0-4b85-9160-a6e1a9f26546\")>,\n",
       " <selenium.webdriver.remote.webelement.WebElement (session=\"4e9c94c718c0dbe12695467bf4cba7be\", element=\"2bcf56c0-1357-432c-88bc-3c408f3fe273\")>,\n",
       " <selenium.webdriver.remote.webelement.WebElement (session=\"4e9c94c718c0dbe12695467bf4cba7be\", element=\"57a444d8-873f-4e24-bdf4-f42e15812754\")>,\n",
       " <selenium.webdriver.remote.webelement.WebElement (session=\"4e9c94c718c0dbe12695467bf4cba7be\", element=\"f96df29a-7fc8-4fa4-9295-0ea27ef78c3d\")>,\n",
       " <selenium.webdriver.remote.webelement.WebElement (session=\"4e9c94c718c0dbe12695467bf4cba7be\", element=\"e393bad9-b4e1-4bff-ab10-61c15d531a11\")>,\n",
       " <selenium.webdriver.remote.webelement.WebElement (session=\"4e9c94c718c0dbe12695467bf4cba7be\", element=\"ae80a4fb-75d3-4ef8-8f00-23b93d622cf0\")>,\n",
       " <selenium.webdriver.remote.webelement.WebElement (session=\"4e9c94c718c0dbe12695467bf4cba7be\", element=\"a287c948-f84b-474d-a746-40e9149b5cf6\")>]"
      ]
     },
     "execution_count": 64,
     "metadata": {},
     "output_type": "execute_result"
    }
   ],
   "source": [
    "# so lets extract all the tags having the job_titles\n",
    "\n",
    "titles_tags = driver.find_elements_by_xpath(\"//a[@class='title fw500 ellipsis']\")\n",
    "titles_tags"
   ]
  },
  {
   "cell_type": "markdown",
   "metadata": {},
   "source": [
    "Now we have all the tags in which there are the job titles"
   ]
  },
  {
   "cell_type": "code",
   "execution_count": 65,
   "metadata": {},
   "outputs": [
    {
     "data": {
      "text/plain": [
       "['Senior Data Scientist',\n",
       " 'Senior Data Scientist',\n",
       " 'Sr. Data Scientist / Tech Lead - Data Science',\n",
       " 'Senior Data Scientist',\n",
       " 'Data Engineers , Data Scientist and SAP',\n",
       " 'Data Scientist',\n",
       " 'Data Scientist 4',\n",
       " 'Immediate Openings For DATA Scientist with 6 To 7 yrs of Experience',\n",
       " 'Data Scientist /Sr.Data Scientist',\n",
       " 'Senior Software Engineer - Data Scientist',\n",
       " 'Senior Associate - Data Scientist',\n",
       " 'Senior Data Scientist',\n",
       " 'Senior Data Scientist',\n",
       " 'Sr Data Scientist',\n",
       " 'Senior Data Scientist',\n",
       " 'Senior Data Scientist',\n",
       " 'Senior Data Scientist',\n",
       " 'Sr Data Scientist',\n",
       " 'Senior Data Scientist',\n",
       " 'Sr . Data Scientist']"
      ]
     },
     "execution_count": 65,
     "metadata": {},
     "output_type": "execute_result"
    }
   ],
   "source": [
    "job_titles = []\n",
    "\n",
    "for i in titles_tags:\n",
    "    job_titles.append(i.text)\n",
    "    \n",
    "job_titles"
   ]
  },
  {
   "cell_type": "markdown",
   "metadata": {},
   "source": [
    "Now we will extract all the html tags where we have the company names.let me first show you in which tags the company names are put on the webpage"
   ]
  },
  {
   "cell_type": "code",
   "execution_count": 66,
   "metadata": {},
   "outputs": [
    {
     "data": {
      "text/plain": [
       "[<selenium.webdriver.remote.webelement.WebElement (session=\"4e9c94c718c0dbe12695467bf4cba7be\", element=\"fb2a08e4-c5bd-45f3-86b5-4b596d218a34\")>,\n",
       " <selenium.webdriver.remote.webelement.WebElement (session=\"4e9c94c718c0dbe12695467bf4cba7be\", element=\"6ddfe034-0ebd-4a0b-bb7e-c823b65f23ab\")>,\n",
       " <selenium.webdriver.remote.webelement.WebElement (session=\"4e9c94c718c0dbe12695467bf4cba7be\", element=\"1867ae6f-d8ab-4327-b5cd-b771bb3c538d\")>,\n",
       " <selenium.webdriver.remote.webelement.WebElement (session=\"4e9c94c718c0dbe12695467bf4cba7be\", element=\"7402308c-c392-43bf-8900-928b28c67e1e\")>,\n",
       " <selenium.webdriver.remote.webelement.WebElement (session=\"4e9c94c718c0dbe12695467bf4cba7be\", element=\"870e82e6-a1bb-403a-9a5c-9e8a345d9f64\")>,\n",
       " <selenium.webdriver.remote.webelement.WebElement (session=\"4e9c94c718c0dbe12695467bf4cba7be\", element=\"11347a92-d579-432c-8400-69435e8ecd55\")>,\n",
       " <selenium.webdriver.remote.webelement.WebElement (session=\"4e9c94c718c0dbe12695467bf4cba7be\", element=\"79254362-bc82-4341-b5d6-25568a620b94\")>,\n",
       " <selenium.webdriver.remote.webelement.WebElement (session=\"4e9c94c718c0dbe12695467bf4cba7be\", element=\"90dca8d0-f82f-4742-a1f2-d38cf55f5fa5\")>,\n",
       " <selenium.webdriver.remote.webelement.WebElement (session=\"4e9c94c718c0dbe12695467bf4cba7be\", element=\"f805109d-95e8-4f9c-b26f-6d1c091bd2a5\")>,\n",
       " <selenium.webdriver.remote.webelement.WebElement (session=\"4e9c94c718c0dbe12695467bf4cba7be\", element=\"2875e763-3a39-462f-8a44-555f1b75e07c\")>,\n",
       " <selenium.webdriver.remote.webelement.WebElement (session=\"4e9c94c718c0dbe12695467bf4cba7be\", element=\"f01c7054-5ad3-4f3c-8a2b-22bfb7cf44c9\")>,\n",
       " <selenium.webdriver.remote.webelement.WebElement (session=\"4e9c94c718c0dbe12695467bf4cba7be\", element=\"a4c47946-7988-48a7-9af3-d79880d6508d\")>,\n",
       " <selenium.webdriver.remote.webelement.WebElement (session=\"4e9c94c718c0dbe12695467bf4cba7be\", element=\"ea33431d-0c16-427d-8167-118113f6c13d\")>,\n",
       " <selenium.webdriver.remote.webelement.WebElement (session=\"4e9c94c718c0dbe12695467bf4cba7be\", element=\"c8f82a63-295e-4dc1-b977-eaff9449b99e\")>,\n",
       " <selenium.webdriver.remote.webelement.WebElement (session=\"4e9c94c718c0dbe12695467bf4cba7be\", element=\"9c728812-e97d-43ae-a978-b04171f49b65\")>,\n",
       " <selenium.webdriver.remote.webelement.WebElement (session=\"4e9c94c718c0dbe12695467bf4cba7be\", element=\"d1c133e5-ee32-4615-83f6-8d9cd25b5a57\")>,\n",
       " <selenium.webdriver.remote.webelement.WebElement (session=\"4e9c94c718c0dbe12695467bf4cba7be\", element=\"650e6b0e-e9ea-4619-9506-3c72b30c7373\")>,\n",
       " <selenium.webdriver.remote.webelement.WebElement (session=\"4e9c94c718c0dbe12695467bf4cba7be\", element=\"a8883c50-a84b-4e98-889f-f08facadf9c9\")>,\n",
       " <selenium.webdriver.remote.webelement.WebElement (session=\"4e9c94c718c0dbe12695467bf4cba7be\", element=\"45fb0c07-2a95-423b-81ab-df7af79fc614\")>,\n",
       " <selenium.webdriver.remote.webelement.WebElement (session=\"4e9c94c718c0dbe12695467bf4cba7be\", element=\"3b50a110-669e-45fb-8ebd-17f885614640\")>]"
      ]
     },
     "execution_count": 66,
     "metadata": {},
     "output_type": "execute_result"
    }
   ],
   "source": [
    "# so lets extract all the tags having the Companies_titles\n",
    "\n",
    "Companies_tags = driver.find_elements_by_xpath(\"//a[@class='subTitle ellipsis fleft']\")\n",
    "\n",
    "Companies_tags"
   ]
  },
  {
   "cell_type": "code",
   "execution_count": 67,
   "metadata": {},
   "outputs": [
    {
     "data": {
      "text/plain": [
       "['Bidgely Technologies Private Limited',\n",
       " 'Goals 101 Data Solutions Pvt. Ltd.',\n",
       " 'Confidential',\n",
       " 'RANDSTAD INDIA PVT LTD',\n",
       " 'Teamware Solutions',\n",
       " 'HotelHub',\n",
       " 'Western Digital',\n",
       " 'Entune IT Consulting Private Limited',\n",
       " 'PERSOLKELLY INDIA PRIVATE LIMITED',\n",
       " 'Ara Resources',\n",
       " 'Novotree Minds Consulting Pvt Limited',\n",
       " 'Gojek Tech',\n",
       " 'GO-JEK India',\n",
       " 'FabHotel Aay Kay Model Town',\n",
       " 'GO-JEK India',\n",
       " 'IBM India Pvt. Limited',\n",
       " 'Kwalee India Pvt Ltd.',\n",
       " 'IBM India Pvt. Limited',\n",
       " 'GlaxoSmithKline Pharmaceuticals Limited',\n",
       " 'Perform Group']"
      ]
     },
     "execution_count": 67,
     "metadata": {},
     "output_type": "execute_result"
    }
   ],
   "source": [
    "company_names = []\n",
    "\n",
    "for i in Companies_tags:\n",
    "    company_names.append(i.text)\n",
    "    \n",
    "company_names\n",
    "    "
   ]
  },
  {
   "cell_type": "code",
   "execution_count": 75,
   "metadata": {},
   "outputs": [
    {
     "data": {
      "text/plain": [
       "[<selenium.webdriver.remote.webelement.WebElement (session=\"4e9c94c718c0dbe12695467bf4cba7be\", element=\"3f710945-785c-4184-a775-d2a33af4ee7a\")>,\n",
       " <selenium.webdriver.remote.webelement.WebElement (session=\"4e9c94c718c0dbe12695467bf4cba7be\", element=\"f6634fae-4097-48d4-ba2f-f8dfbf52019b\")>,\n",
       " <selenium.webdriver.remote.webelement.WebElement (session=\"4e9c94c718c0dbe12695467bf4cba7be\", element=\"cb753a0c-1a4e-4bdb-89e5-c7e616e80c6b\")>,\n",
       " <selenium.webdriver.remote.webelement.WebElement (session=\"4e9c94c718c0dbe12695467bf4cba7be\", element=\"7bcf7dba-4b8f-4ac7-8d8a-994b4837516a\")>,\n",
       " <selenium.webdriver.remote.webelement.WebElement (session=\"4e9c94c718c0dbe12695467bf4cba7be\", element=\"8bf75c7a-6b9d-4e24-9c56-e0a1c0f40c0d\")>,\n",
       " <selenium.webdriver.remote.webelement.WebElement (session=\"4e9c94c718c0dbe12695467bf4cba7be\", element=\"89fcac32-d2c8-49f9-87d7-6dd45f753e2f\")>,\n",
       " <selenium.webdriver.remote.webelement.WebElement (session=\"4e9c94c718c0dbe12695467bf4cba7be\", element=\"a2d9ae7b-75d2-453c-9793-8a0194634064\")>,\n",
       " <selenium.webdriver.remote.webelement.WebElement (session=\"4e9c94c718c0dbe12695467bf4cba7be\", element=\"7d92e38e-012b-43c6-8f71-bfbc541c8946\")>,\n",
       " <selenium.webdriver.remote.webelement.WebElement (session=\"4e9c94c718c0dbe12695467bf4cba7be\", element=\"e1705b5f-e239-42c8-8568-878a126b814a\")>,\n",
       " <selenium.webdriver.remote.webelement.WebElement (session=\"4e9c94c718c0dbe12695467bf4cba7be\", element=\"32a1c6d6-400f-4a39-895a-e61f8b42765d\")>,\n",
       " <selenium.webdriver.remote.webelement.WebElement (session=\"4e9c94c718c0dbe12695467bf4cba7be\", element=\"589d3b3b-e666-47e9-a7c0-952622cc1a07\")>,\n",
       " <selenium.webdriver.remote.webelement.WebElement (session=\"4e9c94c718c0dbe12695467bf4cba7be\", element=\"494edfe4-aa88-49b5-b5ab-c49ec6b8123f\")>,\n",
       " <selenium.webdriver.remote.webelement.WebElement (session=\"4e9c94c718c0dbe12695467bf4cba7be\", element=\"0d8de4de-a9cc-44a8-97eb-c1343f5c8a13\")>,\n",
       " <selenium.webdriver.remote.webelement.WebElement (session=\"4e9c94c718c0dbe12695467bf4cba7be\", element=\"ec2011a3-ade4-4930-b807-b64ea2ce4926\")>,\n",
       " <selenium.webdriver.remote.webelement.WebElement (session=\"4e9c94c718c0dbe12695467bf4cba7be\", element=\"76473455-d895-46bd-8953-626f3bd31044\")>,\n",
       " <selenium.webdriver.remote.webelement.WebElement (session=\"4e9c94c718c0dbe12695467bf4cba7be\", element=\"b0cbb450-6714-44bf-b6d6-39ec1197c6a0\")>,\n",
       " <selenium.webdriver.remote.webelement.WebElement (session=\"4e9c94c718c0dbe12695467bf4cba7be\", element=\"6b5c604b-e150-4ef0-b08c-773dab795841\")>,\n",
       " <selenium.webdriver.remote.webelement.WebElement (session=\"4e9c94c718c0dbe12695467bf4cba7be\", element=\"a4029ab1-11be-4436-85a2-1e22f32640c8\")>,\n",
       " <selenium.webdriver.remote.webelement.WebElement (session=\"4e9c94c718c0dbe12695467bf4cba7be\", element=\"9f53603b-c10b-4295-a10e-96e95fffe50c\")>,\n",
       " <selenium.webdriver.remote.webelement.WebElement (session=\"4e9c94c718c0dbe12695467bf4cba7be\", element=\"f19a8c5a-e6ed-4591-9d2d-6d47a1bf2552\")>]"
      ]
     },
     "execution_count": 75,
     "metadata": {},
     "output_type": "execute_result"
    }
   ],
   "source": [
    "# so lets extract all the tags having the location required data.\n",
    "\n",
    "location_tags = driver.find_elements_by_xpath(\"//li[@class='fleft grey-text br2 placeHolderLi location']//span[1]\")\n",
    "\n",
    "location_tags"
   ]
  },
  {
   "cell_type": "code",
   "execution_count": 76,
   "metadata": {},
   "outputs": [
    {
     "data": {
      "text/plain": [
       "['Bangalore/Bengaluru',\n",
       " 'New Delhi, Bangalore/Bengaluru, Delhi / NCR',\n",
       " 'Bangalore/Bengaluru',\n",
       " 'Bangalore/Bengaluru',\n",
       " 'Bangalore/Bengaluru',\n",
       " 'Bangalore/Bengaluru',\n",
       " 'Bangalore/Bengaluru',\n",
       " 'Kolkata, Hyderabad/Secunderabad, Pune, Ahmedabad, Chennai, Bangalore/Bengaluru, Delhi / NCR, Mumbai (All Areas)',\n",
       " 'Bangalore/Bengaluru',\n",
       " 'Bangalore/Bengaluru',\n",
       " 'Bangalore/Bengaluru',\n",
       " 'Bangalore/Bengaluru',\n",
       " 'Bangalore/Bengaluru',\n",
       " 'Bangalore/Bengaluru',\n",
       " 'Bangalore/Bengaluru',\n",
       " 'Bangalore/Bengaluru',\n",
       " 'Bangalore/Bengaluru',\n",
       " 'Bangalore/Bengaluru',\n",
       " 'Bangalore/Bengaluru',\n",
       " 'Bangalore/Bengaluru']"
      ]
     },
     "execution_count": 76,
     "metadata": {},
     "output_type": "execute_result"
    }
   ],
   "source": [
    "location_name = []\n",
    "\n",
    "for i in location_tags:\n",
    "    location_name.append(i.text)\n",
    "    \n",
    "location_name"
   ]
  },
  {
   "cell_type": "code",
   "execution_count": 77,
   "metadata": {},
   "outputs": [
    {
     "data": {
      "text/plain": [
       "[<selenium.webdriver.remote.webelement.WebElement (session=\"4e9c94c718c0dbe12695467bf4cba7be\", element=\"f7e06b2c-bf1d-4711-9ac5-05a6def52a60\")>,\n",
       " <selenium.webdriver.remote.webelement.WebElement (session=\"4e9c94c718c0dbe12695467bf4cba7be\", element=\"f96242e3-92c2-44a6-9f1c-62a8168a761b\")>,\n",
       " <selenium.webdriver.remote.webelement.WebElement (session=\"4e9c94c718c0dbe12695467bf4cba7be\", element=\"3e9f46b0-5cbc-412d-9774-151dc668d2e7\")>,\n",
       " <selenium.webdriver.remote.webelement.WebElement (session=\"4e9c94c718c0dbe12695467bf4cba7be\", element=\"591ce870-c82d-4a5a-9de9-9e63861a848b\")>,\n",
       " <selenium.webdriver.remote.webelement.WebElement (session=\"4e9c94c718c0dbe12695467bf4cba7be\", element=\"f6c383cd-f2a5-4b89-bbaa-b83bb180e00a\")>,\n",
       " <selenium.webdriver.remote.webelement.WebElement (session=\"4e9c94c718c0dbe12695467bf4cba7be\", element=\"093d3d70-6712-4233-ae4d-ad8d8acebc7e\")>,\n",
       " <selenium.webdriver.remote.webelement.WebElement (session=\"4e9c94c718c0dbe12695467bf4cba7be\", element=\"dd67da4d-0673-4f6b-a23e-908590a937c9\")>,\n",
       " <selenium.webdriver.remote.webelement.WebElement (session=\"4e9c94c718c0dbe12695467bf4cba7be\", element=\"6ae9a150-3fdd-4809-a8a0-d466e71e9f4d\")>,\n",
       " <selenium.webdriver.remote.webelement.WebElement (session=\"4e9c94c718c0dbe12695467bf4cba7be\", element=\"26100a6f-5332-4867-8dda-37ed2b0707f5\")>,\n",
       " <selenium.webdriver.remote.webelement.WebElement (session=\"4e9c94c718c0dbe12695467bf4cba7be\", element=\"2424a58f-dc95-4df2-87b2-88c6f6d24a8c\")>,\n",
       " <selenium.webdriver.remote.webelement.WebElement (session=\"4e9c94c718c0dbe12695467bf4cba7be\", element=\"feecaf1a-0249-4c4a-9c26-f7ce311c4186\")>,\n",
       " <selenium.webdriver.remote.webelement.WebElement (session=\"4e9c94c718c0dbe12695467bf4cba7be\", element=\"5bf6a112-066d-4949-9be3-a82b8550500a\")>,\n",
       " <selenium.webdriver.remote.webelement.WebElement (session=\"4e9c94c718c0dbe12695467bf4cba7be\", element=\"839148ad-bf45-4173-8dc2-2cb2f112fe38\")>,\n",
       " <selenium.webdriver.remote.webelement.WebElement (session=\"4e9c94c718c0dbe12695467bf4cba7be\", element=\"92087399-a2c6-4a7c-90f3-48f02683fc93\")>,\n",
       " <selenium.webdriver.remote.webelement.WebElement (session=\"4e9c94c718c0dbe12695467bf4cba7be\", element=\"5f28fbf9-00f4-42bf-ad7a-c562df54a8bb\")>,\n",
       " <selenium.webdriver.remote.webelement.WebElement (session=\"4e9c94c718c0dbe12695467bf4cba7be\", element=\"ec774d90-3639-4c5a-b96c-6e025d702484\")>,\n",
       " <selenium.webdriver.remote.webelement.WebElement (session=\"4e9c94c718c0dbe12695467bf4cba7be\", element=\"90026e9e-391c-4cd1-a2d1-f9f29f31177b\")>,\n",
       " <selenium.webdriver.remote.webelement.WebElement (session=\"4e9c94c718c0dbe12695467bf4cba7be\", element=\"d9d998c0-2a0e-4475-8fa4-b3f694bb94ef\")>,\n",
       " <selenium.webdriver.remote.webelement.WebElement (session=\"4e9c94c718c0dbe12695467bf4cba7be\", element=\"370b2f83-9f27-4706-ac0b-7f9dade624a8\")>,\n",
       " <selenium.webdriver.remote.webelement.WebElement (session=\"4e9c94c718c0dbe12695467bf4cba7be\", element=\"98cda8aa-602f-4945-b5c1-a2d76b1dd2f1\")>]"
      ]
     },
     "execution_count": 77,
     "metadata": {},
     "output_type": "execute_result"
    }
   ],
   "source": [
    "# so lets extract all the tags having the location required data.\n",
    "\n",
    "description_tags = driver.find_elements_by_xpath(\"//div[@class='job-description fs12 grey-text']\")\n",
    "\n",
    "description_tags"
   ]
  },
  {
   "cell_type": "code",
   "execution_count": 73,
   "metadata": {},
   "outputs": [
    {
     "data": {
      "text/plain": [
       "['You must have delivered advanced statistical and machine learning models as part of com...',\n",
       " 'Roles and Responsibilities: Work as part of a product team in defining, prototyping and...',\n",
       " 'Education - no bar, but preferably from a Statistics academic background (eg MSc-Stats,...',\n",
       " 'Candidate should be well versed in executing statistical models on Regression, Ancova, ...',\n",
       " 'Dynamic recruiting professional with 7 - 10 years of high-performance tech recruiting e...',\n",
       " 'Experience creating and using advanced machine learning algorithms and statistics: regr...',\n",
       " 'Bachelors/ Masters in Computers Science or Statistics5 or more years of experience pref...',\n",
       " 'We have opening with our Company Entune IT Consulting Pvt Ltd Bangalore for DATA SCIENT...',\n",
       " 'We have an urget opppourtunity leading organizationLocation- BangalorePosition-Data Sci...',\n",
       " 'Masters (With 5 years of experience) or PhD degree (2 years of experience) in computer ...',\n",
       " 'Experience or certifications with visualization tools (Tableau / Qlik/PowerBI etc.)Well...',\n",
       " 'What You Will Do Build models (or ML models) that generate or lead to the answer to som...',\n",
       " 'What You Will Do Build models (or ML models) that generate or lead to the answer to som...',\n",
       " 'Bachelors/ Masters degree in Computer Science, Statistics, Mathematics, or related disc...',\n",
       " 'PhD or Masters in a quantitative discipline and at least 3 years of relevant experience...',\n",
       " 'Experience in end-to-end ML engineering / MLOpsDemonstrated experience in understanding...',\n",
       " \"Kwalee is one of the world's leading multiplatform game publishers, with well over 600 ...\",\n",
       " 'Demonstrated extensive experience in building and deploying production quality models i...',\n",
       " 'Flexible to Work in shift operations to cater to our global operationsExperience leadin...',\n",
       " 'Understanding of deep learning fundamentals including network architectures, training a...']"
      ]
     },
     "execution_count": 73,
     "metadata": {},
     "output_type": "execute_result"
    }
   ],
   "source": [
    "job_description = []\n",
    "\n",
    "for i in description_tags:\n",
    "    job_description.append(i.text)\n",
    "    \n",
    "job_description\n",
    "    "
   ]
  },
  {
   "cell_type": "code",
   "execution_count": 78,
   "metadata": {},
   "outputs": [
    {
     "name": "stdout",
     "output_type": "stream",
     "text": [
      "20 20 20 20\n"
     ]
    }
   ],
   "source": [
    "# checking len of function\n",
    "\n",
    "print(len(job_titles),len(company_names),len(location_name),len(job_description))"
   ]
  },
  {
   "cell_type": "code",
   "execution_count": 79,
   "metadata": {},
   "outputs": [],
   "source": [
    "#Import pandas as pd\n",
    "jobs = pd.DataFrame({})\n",
    "jobs['titles']= job_titles\n",
    "jobs['names']= company_names\n",
    "jobs['location']= location_name\n",
    "jobs['description']=job_description"
   ]
  },
  {
   "cell_type": "code",
   "execution_count": 81,
   "metadata": {},
   "outputs": [
    {
     "data": {
      "text/html": [
       "<div>\n",
       "<style scoped>\n",
       "    .dataframe tbody tr th:only-of-type {\n",
       "        vertical-align: middle;\n",
       "    }\n",
       "\n",
       "    .dataframe tbody tr th {\n",
       "        vertical-align: top;\n",
       "    }\n",
       "\n",
       "    .dataframe thead th {\n",
       "        text-align: right;\n",
       "    }\n",
       "</style>\n",
       "<table border=\"1\" class=\"dataframe\">\n",
       "  <thead>\n",
       "    <tr style=\"text-align: right;\">\n",
       "      <th></th>\n",
       "      <th>titles</th>\n",
       "      <th>names</th>\n",
       "      <th>location</th>\n",
       "      <th>description</th>\n",
       "    </tr>\n",
       "  </thead>\n",
       "  <tbody>\n",
       "    <tr>\n",
       "      <th>0</th>\n",
       "      <td>Senior Data Scientist</td>\n",
       "      <td>Bidgely Technologies Private Limited</td>\n",
       "      <td>Bangalore/Bengaluru</td>\n",
       "      <td>You must have delivered advanced statistical a...</td>\n",
       "    </tr>\n",
       "    <tr>\n",
       "      <th>1</th>\n",
       "      <td>Senior Data Scientist</td>\n",
       "      <td>Goals 101 Data Solutions Pvt. Ltd.</td>\n",
       "      <td>New Delhi, Bangalore/Bengaluru, Delhi / NCR</td>\n",
       "      <td>Roles and Responsibilities: Work as part of a ...</td>\n",
       "    </tr>\n",
       "    <tr>\n",
       "      <th>2</th>\n",
       "      <td>Sr. Data Scientist / Tech Lead - Data Science</td>\n",
       "      <td>Confidential</td>\n",
       "      <td>Bangalore/Bengaluru</td>\n",
       "      <td>Education - no bar, but preferably from a Stat...</td>\n",
       "    </tr>\n",
       "    <tr>\n",
       "      <th>3</th>\n",
       "      <td>Senior Data Scientist</td>\n",
       "      <td>RANDSTAD INDIA PVT LTD</td>\n",
       "      <td>Bangalore/Bengaluru</td>\n",
       "      <td>Candidate should be well versed in executing s...</td>\n",
       "    </tr>\n",
       "    <tr>\n",
       "      <th>4</th>\n",
       "      <td>Data Engineers , Data Scientist and SAP</td>\n",
       "      <td>Teamware Solutions</td>\n",
       "      <td>Bangalore/Bengaluru</td>\n",
       "      <td>Dynamic recruiting professional with 7 - 10 ye...</td>\n",
       "    </tr>\n",
       "    <tr>\n",
       "      <th>5</th>\n",
       "      <td>Data Scientist</td>\n",
       "      <td>HotelHub</td>\n",
       "      <td>Bangalore/Bengaluru</td>\n",
       "      <td>Experience creating and using advanced machine...</td>\n",
       "    </tr>\n",
       "    <tr>\n",
       "      <th>6</th>\n",
       "      <td>Data Scientist 4</td>\n",
       "      <td>Western Digital</td>\n",
       "      <td>Bangalore/Bengaluru</td>\n",
       "      <td>Bachelors/ Masters in Computers Science or Sta...</td>\n",
       "    </tr>\n",
       "    <tr>\n",
       "      <th>7</th>\n",
       "      <td>Immediate Openings For DATA Scientist with 6 T...</td>\n",
       "      <td>Entune IT Consulting Private Limited</td>\n",
       "      <td>Kolkata, Hyderabad/Secunderabad, Pune, Ahmedab...</td>\n",
       "      <td>We have opening with our Company Entune IT Con...</td>\n",
       "    </tr>\n",
       "    <tr>\n",
       "      <th>8</th>\n",
       "      <td>Data Scientist /Sr.Data Scientist</td>\n",
       "      <td>PERSOLKELLY INDIA PRIVATE LIMITED</td>\n",
       "      <td>Bangalore/Bengaluru</td>\n",
       "      <td>We have an urget opppourtunity leading organiz...</td>\n",
       "    </tr>\n",
       "    <tr>\n",
       "      <th>9</th>\n",
       "      <td>Senior Software Engineer - Data Scientist</td>\n",
       "      <td>Ara Resources</td>\n",
       "      <td>Bangalore/Bengaluru</td>\n",
       "      <td>Masters (With 5 years of experience) or PhD de...</td>\n",
       "    </tr>\n",
       "  </tbody>\n",
       "</table>\n",
       "</div>"
      ],
      "text/plain": [
       "                                              titles  \\\n",
       "0                              Senior Data Scientist   \n",
       "1                              Senior Data Scientist   \n",
       "2      Sr. Data Scientist / Tech Lead - Data Science   \n",
       "3                              Senior Data Scientist   \n",
       "4            Data Engineers , Data Scientist and SAP   \n",
       "5                                     Data Scientist   \n",
       "6                                   Data Scientist 4   \n",
       "7  Immediate Openings For DATA Scientist with 6 T...   \n",
       "8                  Data Scientist /Sr.Data Scientist   \n",
       "9          Senior Software Engineer - Data Scientist   \n",
       "\n",
       "                                  names  \\\n",
       "0  Bidgely Technologies Private Limited   \n",
       "1    Goals 101 Data Solutions Pvt. Ltd.   \n",
       "2                          Confidential   \n",
       "3                RANDSTAD INDIA PVT LTD   \n",
       "4                    Teamware Solutions   \n",
       "5                              HotelHub   \n",
       "6                       Western Digital   \n",
       "7  Entune IT Consulting Private Limited   \n",
       "8     PERSOLKELLY INDIA PRIVATE LIMITED   \n",
       "9                         Ara Resources   \n",
       "\n",
       "                                            location  \\\n",
       "0                                Bangalore/Bengaluru   \n",
       "1        New Delhi, Bangalore/Bengaluru, Delhi / NCR   \n",
       "2                                Bangalore/Bengaluru   \n",
       "3                                Bangalore/Bengaluru   \n",
       "4                                Bangalore/Bengaluru   \n",
       "5                                Bangalore/Bengaluru   \n",
       "6                                Bangalore/Bengaluru   \n",
       "7  Kolkata, Hyderabad/Secunderabad, Pune, Ahmedab...   \n",
       "8                                Bangalore/Bengaluru   \n",
       "9                                Bangalore/Bengaluru   \n",
       "\n",
       "                                         description  \n",
       "0  You must have delivered advanced statistical a...  \n",
       "1  Roles and Responsibilities: Work as part of a ...  \n",
       "2  Education - no bar, but preferably from a Stat...  \n",
       "3  Candidate should be well versed in executing s...  \n",
       "4  Dynamic recruiting professional with 7 - 10 ye...  \n",
       "5  Experience creating and using advanced machine...  \n",
       "6  Bachelors/ Masters in Computers Science or Sta...  \n",
       "7  We have opening with our Company Entune IT Con...  \n",
       "8  We have an urget opppourtunity leading organiz...  \n",
       "9  Masters (With 5 years of experience) or PhD de...  "
      ]
     },
     "execution_count": 81,
     "metadata": {},
     "output_type": "execute_result"
    }
   ],
   "source": [
    "jobs[:10]"
   ]
  },
  {
   "cell_type": "code",
   "execution_count": null,
   "metadata": {},
   "outputs": [],
   "source": []
  },
  {
   "cell_type": "markdown",
   "metadata": {},
   "source": [
    "### Q3 In this question you have to scrape data using the filters available on the \n",
    "webpage as shown below:\n",
    "    \n",
    "You have to use the location and salary filter.\n",
    "You have to scrape data for “Data Scientist” designation for first 10 job results.\n",
    "You have to scrape the job-title, job-location, company_name,\n",
    "experience_required.\n",
    "The location filter to be used is “Delhi/NCR”\n",
    "The salary filter to be used is “3-6” lakhs\n",
    "The task will be done as shown in the below steps:\n",
    "1. first get the webpage https://www.naukri.com/\n",
    "2. Enter “Data Scientist” in “Skill,Designations,Companies” field \n",
    "3. Then click the search button.\n",
    "4. Then apply the location filter and salary filter by checking the respective boxes\n",
    "4. Then scrape the data for the first 10 jobs results you get.\n",
    "5. Finally create a dataframe of the scraped data.\n",
    "Note- All of the above steps have to be done in code. No step is to be done \n",
    "manually"
   ]
  },
  {
   "cell_type": "code",
   "execution_count": 105,
   "metadata": {},
   "outputs": [],
   "source": [
    "# Lets now import all the required libraries\n",
    "\n",
    "import selenium\n",
    "import pandas as pd\n",
    "from selenium import webdriver"
   ]
  },
  {
   "cell_type": "code",
   "execution_count": 220,
   "metadata": {},
   "outputs": [],
   "source": [
    "# lets first connect to the web driver\n",
    "driver = webdriver.Chrome(r\"C:\\Users\\admin\\Downloads\\chromedriver_win32 (1)\\chromedriver.exe\")"
   ]
  },
  {
   "cell_type": "code",
   "execution_count": 221,
   "metadata": {},
   "outputs": [],
   "source": [
    "url = 'https://www.naukri.com/'\n",
    "driver.get(url)"
   ]
  },
  {
   "cell_type": "code",
   "execution_count": 222,
   "metadata": {},
   "outputs": [
    {
     "data": {
      "text/plain": [
       "<selenium.webdriver.remote.webelement.WebElement (session=\"25bff1494aac21fb74b8fdeb7d4c4e50\", element=\"3a693737-58ff-4d65-9059-61c60081f782\")>"
      ]
     },
     "execution_count": 222,
     "metadata": {},
     "output_type": "execute_result"
    }
   ],
   "source": [
    "search_job = driver.find_element_by_xpath('/html/body/div[1]/div[3]/div[2]/section/div/form/div[1]/div/div/div/div[1]/div[2]/input')\n",
    "search_job"
   ]
  },
  {
   "cell_type": "code",
   "execution_count": 223,
   "metadata": {},
   "outputs": [],
   "source": [
    "search_job.send_keys(\"Data Scientist\")"
   ]
  },
  {
   "cell_type": "code",
   "execution_count": 224,
   "metadata": {},
   "outputs": [],
   "source": [
    "# finding element for job location bar\n",
    "search_loc = driver.find_element_by_xpath('/html/body/div[1]/div[3]/div[2]/section/div/form/div[2]/div/div/div/div[1]/div[2]/input')\n",
    "search_loc.send_keys(\"Delhi/NCR\")"
   ]
  },
  {
   "cell_type": "code",
   "execution_count": 227,
   "metadata": {},
   "outputs": [
    {
     "data": {
      "text/plain": [
       "<selenium.webdriver.remote.webelement.WebElement (session=\"25bff1494aac21fb74b8fdeb7d4c4e50\", element=\"556da9e0-a46d-4bee-ab0b-f27b2a6f9d5a\")>"
      ]
     },
     "execution_count": 227,
     "metadata": {},
     "output_type": "execute_result"
    }
   ],
   "source": [
    "# do click using xpath function\n",
    "search_btn = driver.find_element_by_xpath(\"//button[@class='btn']\")\n",
    "\n",
    "search_btn"
   ]
  },
  {
   "cell_type": "code",
   "execution_count": 228,
   "metadata": {},
   "outputs": [],
   "source": [
    "search_btn.click()"
   ]
  },
  {
   "cell_type": "code",
   "execution_count": null,
   "metadata": {},
   "outputs": [],
   "source": [
    "# scrape data from job opening"
   ]
  },
  {
   "cell_type": "code",
   "execution_count": 229,
   "metadata": {},
   "outputs": [],
   "source": [
    "salary_filter = driver.find_element_by_xpath('/html/body/div[1]/div[3]/div[2]/section[1]/div[2]/div[4]/div[2]/div[2]/label/i')\n",
    "salary_filter.click()"
   ]
  },
  {
   "cell_type": "code",
   "execution_count": 230,
   "metadata": {},
   "outputs": [],
   "source": [
    "location_filter = driver.find_element_by_xpath('/html/body/div[1]/div[3]/div[2]/section[1]/div[2]/div[4]/div[2]/div[2]/label/i')\n",
    "location_filter.click()"
   ]
  },
  {
   "cell_type": "markdown",
   "metadata": {},
   "source": [
    "Now lets first create 4 empty lists.in these lists the data will be stored while scraping,we have create 4 features which we have to extract\n",
    "\n",
    "job_titles\n",
    "\n",
    "job_loaction\n",
    "\n",
    "company_name\n",
    "\n",
    "exprience_required"
   ]
  },
  {
   "cell_type": "code",
   "execution_count": 117,
   "metadata": {},
   "outputs": [
    {
     "data": {
      "text/plain": [
       "[<selenium.webdriver.remote.webelement.WebElement (session=\"59e8955803d7504b4c6b8014e124040c\", element=\"79c5e6e6-45d3-4695-89e3-40340c90244f\")>,\n",
       " <selenium.webdriver.remote.webelement.WebElement (session=\"59e8955803d7504b4c6b8014e124040c\", element=\"12836eb6-75eb-4b69-bf27-c903e4f74129\")>,\n",
       " <selenium.webdriver.remote.webelement.WebElement (session=\"59e8955803d7504b4c6b8014e124040c\", element=\"83d1973e-d77d-4c99-bc3a-d7c6f559b311\")>,\n",
       " <selenium.webdriver.remote.webelement.WebElement (session=\"59e8955803d7504b4c6b8014e124040c\", element=\"f5cfd403-871c-4c47-b4e0-93445b093d6e\")>,\n",
       " <selenium.webdriver.remote.webelement.WebElement (session=\"59e8955803d7504b4c6b8014e124040c\", element=\"f947f2e1-c276-42bd-b183-72197e8f069e\")>,\n",
       " <selenium.webdriver.remote.webelement.WebElement (session=\"59e8955803d7504b4c6b8014e124040c\", element=\"c6ff18fb-146e-4634-b4d9-d15ca80daf35\")>,\n",
       " <selenium.webdriver.remote.webelement.WebElement (session=\"59e8955803d7504b4c6b8014e124040c\", element=\"215fb9d3-c30d-46f8-abaf-fc3a53b48b10\")>,\n",
       " <selenium.webdriver.remote.webelement.WebElement (session=\"59e8955803d7504b4c6b8014e124040c\", element=\"98d00cf3-b9df-430b-83dd-75f2c3c9d939\")>,\n",
       " <selenium.webdriver.remote.webelement.WebElement (session=\"59e8955803d7504b4c6b8014e124040c\", element=\"e3f15082-c57a-4724-aecb-1fccabc56859\")>,\n",
       " <selenium.webdriver.remote.webelement.WebElement (session=\"59e8955803d7504b4c6b8014e124040c\", element=\"f4d16d79-bf46-4eb0-849f-dad1b1d826b5\")>,\n",
       " <selenium.webdriver.remote.webelement.WebElement (session=\"59e8955803d7504b4c6b8014e124040c\", element=\"8543e637-2234-444b-91e2-ad1bcb85b18c\")>,\n",
       " <selenium.webdriver.remote.webelement.WebElement (session=\"59e8955803d7504b4c6b8014e124040c\", element=\"1df7da1a-b608-4377-a2cd-5a9d4b4b5c5a\")>,\n",
       " <selenium.webdriver.remote.webelement.WebElement (session=\"59e8955803d7504b4c6b8014e124040c\", element=\"1bede56b-9d47-4598-8ca0-f1a7e80c0d93\")>,\n",
       " <selenium.webdriver.remote.webelement.WebElement (session=\"59e8955803d7504b4c6b8014e124040c\", element=\"eabd8f92-f05f-4ab2-8136-f93b5cfdc4db\")>,\n",
       " <selenium.webdriver.remote.webelement.WebElement (session=\"59e8955803d7504b4c6b8014e124040c\", element=\"61cd1f75-24df-4ebd-b0d8-96c73d523eee\")>,\n",
       " <selenium.webdriver.remote.webelement.WebElement (session=\"59e8955803d7504b4c6b8014e124040c\", element=\"5ee31b0f-8b44-468c-b07d-d1236d2d4c1a\")>,\n",
       " <selenium.webdriver.remote.webelement.WebElement (session=\"59e8955803d7504b4c6b8014e124040c\", element=\"c6b40037-d191-4398-bfc9-1f60cd58a855\")>,\n",
       " <selenium.webdriver.remote.webelement.WebElement (session=\"59e8955803d7504b4c6b8014e124040c\", element=\"412b7e5f-2fdb-4d3f-bcf5-fa5b3ce998be\")>,\n",
       " <selenium.webdriver.remote.webelement.WebElement (session=\"59e8955803d7504b4c6b8014e124040c\", element=\"ed800491-6b9e-4372-9d91-85d5305bb113\")>,\n",
       " <selenium.webdriver.remote.webelement.WebElement (session=\"59e8955803d7504b4c6b8014e124040c\", element=\"146bf707-a847-4ae5-8d52-0323a0c49863\")>]"
      ]
     },
     "execution_count": 117,
     "metadata": {},
     "output_type": "execute_result"
    }
   ],
   "source": [
    "# so lets extract all the tags having the job_titles\n",
    "\n",
    "titles_tags = driver.find_elements_by_xpath(\"//a[@class='title fw500 ellipsis']\")\n",
    "titles_tags"
   ]
  },
  {
   "cell_type": "code",
   "execution_count": 118,
   "metadata": {},
   "outputs": [
    {
     "data": {
      "text/plain": [
       "['Immediate Openings For DATA Scientist with 6 To 7 yrs of Experience',\n",
       " 'Data Scientist',\n",
       " 'Senior Data Scientist - Noida',\n",
       " 'Data Scientist / Data Analyst',\n",
       " 'Senior Data Scientist',\n",
       " 'Data Scientist - Machine Learning/NLP',\n",
       " 'Data Scientist - Machine Learning/NLP',\n",
       " 'Only Fresher / Data Scientist / Data Analyst / Analytics - MNC Jobs',\n",
       " 'Hiring Data Scientist Develope || IDS Infotech LTD || (Permanent WFH)',\n",
       " 'Hiring Data Scientist Develope || IDS Infotech LTD || (Permanent WFH)',\n",
       " 'Data Scientist',\n",
       " 'Data Scientist/Data Analyst /Business Analyst',\n",
       " 'Data Scientist',\n",
       " 'Data Scientist',\n",
       " 'Data Scientist',\n",
       " 'Data Scientist',\n",
       " 'Data Scientist ( Machine Learning , Pyspark, Cloud , DevOps)',\n",
       " 'Data Scientist ( Machine Learning , Pyspark, Cloud , DevOps)',\n",
       " 'Senior Data Scientist',\n",
       " 'We are hiring- Data Scientist- Noida']"
      ]
     },
     "execution_count": 118,
     "metadata": {},
     "output_type": "execute_result"
    }
   ],
   "source": [
    "Job_titles = []\n",
    "\n",
    "for i in titles_tags:\n",
    "    Job_titles.append(i.text)\n",
    "    \n",
    "Job_titles\n",
    "    "
   ]
  },
  {
   "cell_type": "code",
   "execution_count": 119,
   "metadata": {},
   "outputs": [
    {
     "data": {
      "text/plain": [
       "[<selenium.webdriver.remote.webelement.WebElement (session=\"59e8955803d7504b4c6b8014e124040c\", element=\"69208839-c9dc-4c22-8415-ce34e923ab73\")>,\n",
       " <selenium.webdriver.remote.webelement.WebElement (session=\"59e8955803d7504b4c6b8014e124040c\", element=\"533d65f6-c507-4c32-bfc0-025cc1691c44\")>,\n",
       " <selenium.webdriver.remote.webelement.WebElement (session=\"59e8955803d7504b4c6b8014e124040c\", element=\"54182e64-fe83-4cfb-9583-a3070f96319f\")>,\n",
       " <selenium.webdriver.remote.webelement.WebElement (session=\"59e8955803d7504b4c6b8014e124040c\", element=\"fb10d311-0e12-4678-b011-1bed1dd4e623\")>,\n",
       " <selenium.webdriver.remote.webelement.WebElement (session=\"59e8955803d7504b4c6b8014e124040c\", element=\"92348a04-99cb-476c-9ee7-d64f22359bd2\")>,\n",
       " <selenium.webdriver.remote.webelement.WebElement (session=\"59e8955803d7504b4c6b8014e124040c\", element=\"da495cee-3f21-4e0d-aca6-53550594e54e\")>,\n",
       " <selenium.webdriver.remote.webelement.WebElement (session=\"59e8955803d7504b4c6b8014e124040c\", element=\"c89e9f7b-7327-4ff4-89b9-64e5719fcb8e\")>,\n",
       " <selenium.webdriver.remote.webelement.WebElement (session=\"59e8955803d7504b4c6b8014e124040c\", element=\"ca56c28e-e96e-4ee2-a4a6-a72fdff30898\")>,\n",
       " <selenium.webdriver.remote.webelement.WebElement (session=\"59e8955803d7504b4c6b8014e124040c\", element=\"760a6d6a-f6f9-4a74-993a-847b2ef1586e\")>,\n",
       " <selenium.webdriver.remote.webelement.WebElement (session=\"59e8955803d7504b4c6b8014e124040c\", element=\"ea7dae34-7936-47b2-8e22-c32fe66cae5b\")>,\n",
       " <selenium.webdriver.remote.webelement.WebElement (session=\"59e8955803d7504b4c6b8014e124040c\", element=\"c87d8250-d4fe-47ad-a611-7ca45e86eead\")>,\n",
       " <selenium.webdriver.remote.webelement.WebElement (session=\"59e8955803d7504b4c6b8014e124040c\", element=\"98109ffb-b2a3-444c-b14e-4d82cf1aeea8\")>,\n",
       " <selenium.webdriver.remote.webelement.WebElement (session=\"59e8955803d7504b4c6b8014e124040c\", element=\"d38573cc-2644-4b4b-bd48-080bb6277558\")>,\n",
       " <selenium.webdriver.remote.webelement.WebElement (session=\"59e8955803d7504b4c6b8014e124040c\", element=\"5d6d712a-268b-4f47-8614-f9b253ad3a92\")>,\n",
       " <selenium.webdriver.remote.webelement.WebElement (session=\"59e8955803d7504b4c6b8014e124040c\", element=\"6bba45c2-5daf-4fcf-976c-19d195d4022e\")>,\n",
       " <selenium.webdriver.remote.webelement.WebElement (session=\"59e8955803d7504b4c6b8014e124040c\", element=\"f602360f-4299-48ca-9dca-c546e59068fd\")>,\n",
       " <selenium.webdriver.remote.webelement.WebElement (session=\"59e8955803d7504b4c6b8014e124040c\", element=\"0a09d084-0c71-47f6-9a90-d563138a1091\")>,\n",
       " <selenium.webdriver.remote.webelement.WebElement (session=\"59e8955803d7504b4c6b8014e124040c\", element=\"6fdf59b4-0ade-46c4-988d-1d9a00e2a37f\")>,\n",
       " <selenium.webdriver.remote.webelement.WebElement (session=\"59e8955803d7504b4c6b8014e124040c\", element=\"1586975d-d1f9-4989-a888-ffc2e5642b81\")>,\n",
       " <selenium.webdriver.remote.webelement.WebElement (session=\"59e8955803d7504b4c6b8014e124040c\", element=\"85881848-6ce6-4b3f-b762-0271233d4eac\")>]"
      ]
     },
     "execution_count": 119,
     "metadata": {},
     "output_type": "execute_result"
    }
   ],
   "source": [
    "# so lets extract all the tags having the job_location\n",
    "\n",
    "Location_tags = driver.find_elements_by_xpath(\"//li[@class='fleft grey-text br2 placeHolderLi location']//span[1]\")\n",
    "Location_tags"
   ]
  },
  {
   "cell_type": "code",
   "execution_count": 120,
   "metadata": {},
   "outputs": [
    {
     "data": {
      "text/plain": [
       "['Kolkata, Hyderabad/Secunderabad, Pune, Ahmedabad, Chennai, Bangalore/Bengaluru, Delhi / NCR, Mumbai (All Areas)',\n",
       " 'Gurgaon/Gurugram',\n",
       " 'Noida',\n",
       " 'Gurgaon/Gurugram',\n",
       " 'Hyderabad/Secunderabad, Gurgaon/Gurugram, Bangalore/Bengaluru',\n",
       " 'Gurgaon/Gurugram',\n",
       " 'Gurgaon/Gurugram',\n",
       " 'Noida, Gurgaon/Gurugram, Delhi / NCR',\n",
       " 'Chandigarh, Hyderabad/Secunderabad, Chennai, Bangalore/Bengaluru, Delhi / NCR',\n",
       " 'Chandigarh, Hyderabad/Secunderabad, Chennai, Bangalore/Bengaluru, Delhi / NCR',\n",
       " 'Noida(Sector-59 Noida)',\n",
       " 'Pune, Delhi / NCR, Mumbai (All Areas)',\n",
       " 'Noida(Sector-62 Noida)',\n",
       " 'Noida',\n",
       " 'Gurgaon/Gurugram, Bangalore/Bengaluru',\n",
       " 'Mumbai, Gurgaon/Gurugram, Bangalore/Bengaluru',\n",
       " 'Remote',\n",
       " 'Remote',\n",
       " 'Delhi',\n",
       " 'Delhi / NCR']"
      ]
     },
     "execution_count": 120,
     "metadata": {},
     "output_type": "execute_result"
    }
   ],
   "source": [
    "Job_Location = []\n",
    "\n",
    "for i in Location_tags:\n",
    "    Job_Location.append(i.text)\n",
    "    \n",
    "Job_Location\n",
    "    "
   ]
  },
  {
   "cell_type": "code",
   "execution_count": 121,
   "metadata": {},
   "outputs": [
    {
     "data": {
      "text/plain": [
       "[<selenium.webdriver.remote.webelement.WebElement (session=\"59e8955803d7504b4c6b8014e124040c\", element=\"a051ee11-9ebc-4972-b47f-9642a57e8a42\")>,\n",
       " <selenium.webdriver.remote.webelement.WebElement (session=\"59e8955803d7504b4c6b8014e124040c\", element=\"bd3f408f-e8c0-434a-95bd-e97d6a5d338a\")>,\n",
       " <selenium.webdriver.remote.webelement.WebElement (session=\"59e8955803d7504b4c6b8014e124040c\", element=\"63c566c8-1bab-4026-a9da-18266142cb2f\")>,\n",
       " <selenium.webdriver.remote.webelement.WebElement (session=\"59e8955803d7504b4c6b8014e124040c\", element=\"5f9b7c32-2c30-4ab1-a243-ad9c68ace5ad\")>,\n",
       " <selenium.webdriver.remote.webelement.WebElement (session=\"59e8955803d7504b4c6b8014e124040c\", element=\"34b2e57d-0fe6-415e-a40f-e72c83db4016\")>,\n",
       " <selenium.webdriver.remote.webelement.WebElement (session=\"59e8955803d7504b4c6b8014e124040c\", element=\"11194f0d-bb90-4baa-ad97-2cc073a81d53\")>,\n",
       " <selenium.webdriver.remote.webelement.WebElement (session=\"59e8955803d7504b4c6b8014e124040c\", element=\"64eb162b-d78a-4858-b6d1-1f8411d9564b\")>,\n",
       " <selenium.webdriver.remote.webelement.WebElement (session=\"59e8955803d7504b4c6b8014e124040c\", element=\"dfa56163-4d99-4fa7-8533-e45f10fd6349\")>,\n",
       " <selenium.webdriver.remote.webelement.WebElement (session=\"59e8955803d7504b4c6b8014e124040c\", element=\"86e14c8b-fd82-4473-a710-f66a95deb52a\")>,\n",
       " <selenium.webdriver.remote.webelement.WebElement (session=\"59e8955803d7504b4c6b8014e124040c\", element=\"69aed80d-eb78-411c-9309-77f9fafb235b\")>,\n",
       " <selenium.webdriver.remote.webelement.WebElement (session=\"59e8955803d7504b4c6b8014e124040c\", element=\"6d4cb325-4f1e-4685-ab64-d5dc34aaa6f9\")>,\n",
       " <selenium.webdriver.remote.webelement.WebElement (session=\"59e8955803d7504b4c6b8014e124040c\", element=\"f4ef4c64-6ed9-46bc-a5d8-91086a7247b8\")>,\n",
       " <selenium.webdriver.remote.webelement.WebElement (session=\"59e8955803d7504b4c6b8014e124040c\", element=\"65cc4ec4-87a5-4249-8219-850cc2f5ad93\")>,\n",
       " <selenium.webdriver.remote.webelement.WebElement (session=\"59e8955803d7504b4c6b8014e124040c\", element=\"5fa0cc65-e5fe-43d1-b614-b15f09313016\")>,\n",
       " <selenium.webdriver.remote.webelement.WebElement (session=\"59e8955803d7504b4c6b8014e124040c\", element=\"4613efd3-3d3a-4937-9c30-1e9738593199\")>,\n",
       " <selenium.webdriver.remote.webelement.WebElement (session=\"59e8955803d7504b4c6b8014e124040c\", element=\"96f64c14-684f-4d8a-9f6f-9e0b3153c8e8\")>,\n",
       " <selenium.webdriver.remote.webelement.WebElement (session=\"59e8955803d7504b4c6b8014e124040c\", element=\"042a3631-9f9f-4a2f-bbbb-a90c42d70ceb\")>,\n",
       " <selenium.webdriver.remote.webelement.WebElement (session=\"59e8955803d7504b4c6b8014e124040c\", element=\"df22174c-7483-4791-a5ec-0030fd8498fe\")>,\n",
       " <selenium.webdriver.remote.webelement.WebElement (session=\"59e8955803d7504b4c6b8014e124040c\", element=\"4af5116a-76ba-429e-8fe2-6eae048e1889\")>,\n",
       " <selenium.webdriver.remote.webelement.WebElement (session=\"59e8955803d7504b4c6b8014e124040c\", element=\"b0d8d2aa-ec31-4076-a1b9-72a93b77489f\")>]"
      ]
     },
     "execution_count": 121,
     "metadata": {},
     "output_type": "execute_result"
    }
   ],
   "source": [
    "# so lets extract all the tags having the Comapny_name\n",
    "\n",
    "Companies_tags = driver.find_elements_by_xpath(\"//a[@class='subTitle ellipsis fleft']\")\n",
    "Companies_tags"
   ]
  },
  {
   "cell_type": "code",
   "execution_count": 122,
   "metadata": {},
   "outputs": [
    {
     "data": {
      "text/plain": [
       "['Entune IT Consulting Private Limited',\n",
       " 'Decimal Technologies Pvt Ltd.',\n",
       " 'Optum Global Solutions (India) Private Limited',\n",
       " 'CARS24',\n",
       " 'inVentiv International Pharma Services Pvt. Ltd.',\n",
       " 'TalPro',\n",
       " 'TalPro',\n",
       " 'GABA Consultancy services',\n",
       " 'IDS Infotech Ltd.',\n",
       " 'IDS Infotech Ltd.',\n",
       " 'R Systems International Ltd.',\n",
       " 'Inflexion Analytix Private Limited',\n",
       " 'AlgoScale Technologies Private Limited',\n",
       " 'Ashkom Media India Private Limited',\n",
       " 'UrbanClap',\n",
       " 'Fractal Analytics',\n",
       " 'JUMBO CONSULTANTS',\n",
       " 'JUMBO CONSULTANTS',\n",
       " 'iNICU',\n",
       " 'RANDSTAD INDIA PVT LTD']"
      ]
     },
     "execution_count": 122,
     "metadata": {},
     "output_type": "execute_result"
    }
   ],
   "source": [
    "Company_name = []\n",
    "\n",
    "for i in Companies_tags:\n",
    "    Company_name.append(i.text)\n",
    "    \n",
    "Company_name\n",
    "    "
   ]
  },
  {
   "cell_type": "code",
   "execution_count": 124,
   "metadata": {},
   "outputs": [
    {
     "data": {
      "text/plain": [
       "[<selenium.webdriver.remote.webelement.WebElement (session=\"59e8955803d7504b4c6b8014e124040c\", element=\"26bc641f-ec51-40fd-acb2-8ac6964748c1\")>,\n",
       " <selenium.webdriver.remote.webelement.WebElement (session=\"59e8955803d7504b4c6b8014e124040c\", element=\"6adadaae-b81a-4e13-ad13-5b608b90748b\")>,\n",
       " <selenium.webdriver.remote.webelement.WebElement (session=\"59e8955803d7504b4c6b8014e124040c\", element=\"0c0c7eb2-0254-4f40-9d17-a38e66cb9f26\")>,\n",
       " <selenium.webdriver.remote.webelement.WebElement (session=\"59e8955803d7504b4c6b8014e124040c\", element=\"f8965ed0-7009-4455-b7d2-f29210fa1ed2\")>,\n",
       " <selenium.webdriver.remote.webelement.WebElement (session=\"59e8955803d7504b4c6b8014e124040c\", element=\"bdbd5ff8-3dcc-48e8-9d98-e446c704e60b\")>,\n",
       " <selenium.webdriver.remote.webelement.WebElement (session=\"59e8955803d7504b4c6b8014e124040c\", element=\"c628bd0b-2394-403c-a015-755f359dcecd\")>,\n",
       " <selenium.webdriver.remote.webelement.WebElement (session=\"59e8955803d7504b4c6b8014e124040c\", element=\"efa67b63-bb02-4db4-b6ca-d803586c2574\")>,\n",
       " <selenium.webdriver.remote.webelement.WebElement (session=\"59e8955803d7504b4c6b8014e124040c\", element=\"d7217ea8-7204-4343-be0a-9f78c01932b4\")>,\n",
       " <selenium.webdriver.remote.webelement.WebElement (session=\"59e8955803d7504b4c6b8014e124040c\", element=\"f77c9270-a18c-4dab-add6-c4904811cc81\")>,\n",
       " <selenium.webdriver.remote.webelement.WebElement (session=\"59e8955803d7504b4c6b8014e124040c\", element=\"72294c4b-6301-4795-b4cb-9163f683c32e\")>,\n",
       " <selenium.webdriver.remote.webelement.WebElement (session=\"59e8955803d7504b4c6b8014e124040c\", element=\"634bce98-9cd1-47d8-b03b-44f42194c8a1\")>,\n",
       " <selenium.webdriver.remote.webelement.WebElement (session=\"59e8955803d7504b4c6b8014e124040c\", element=\"ea9ee547-1380-412a-b510-6b25a715bba6\")>,\n",
       " <selenium.webdriver.remote.webelement.WebElement (session=\"59e8955803d7504b4c6b8014e124040c\", element=\"004c8090-152c-499c-a518-c20b391b1c23\")>,\n",
       " <selenium.webdriver.remote.webelement.WebElement (session=\"59e8955803d7504b4c6b8014e124040c\", element=\"dbcb320b-c91e-42a0-bd54-3e70807207b5\")>,\n",
       " <selenium.webdriver.remote.webelement.WebElement (session=\"59e8955803d7504b4c6b8014e124040c\", element=\"924a67e8-36fc-4ec8-8d92-51efc16b8a7a\")>,\n",
       " <selenium.webdriver.remote.webelement.WebElement (session=\"59e8955803d7504b4c6b8014e124040c\", element=\"12477670-5648-4bd9-84f5-3c60f5923a7e\")>,\n",
       " <selenium.webdriver.remote.webelement.WebElement (session=\"59e8955803d7504b4c6b8014e124040c\", element=\"b5c7d38b-0da3-4cd8-8ab0-b27851c1ef7d\")>,\n",
       " <selenium.webdriver.remote.webelement.WebElement (session=\"59e8955803d7504b4c6b8014e124040c\", element=\"e1487510-f490-4b3e-ae64-5840dc2ad09d\")>,\n",
       " <selenium.webdriver.remote.webelement.WebElement (session=\"59e8955803d7504b4c6b8014e124040c\", element=\"2d618745-61e7-4ad2-8129-158dbd9b3b0b\")>,\n",
       " <selenium.webdriver.remote.webelement.WebElement (session=\"59e8955803d7504b4c6b8014e124040c\", element=\"3cbcc41a-ad9d-45a1-a93d-721d651c9aa5\")>]"
      ]
     },
     "execution_count": 124,
     "metadata": {},
     "output_type": "execute_result"
    }
   ],
   "source": [
    "# so lets extract all the tags having the Comapny_name\n",
    "\n",
    "Exprience_tags = driver.find_elements_by_xpath(\"//li[@class='fleft grey-text br2 placeHolderLi experience']//span[1]\")\n",
    "Exprience_tags"
   ]
  },
  {
   "cell_type": "code",
   "execution_count": 126,
   "metadata": {},
   "outputs": [
    {
     "data": {
      "text/plain": [
       "['5-8 Yrs',\n",
       " '1-3 Yrs',\n",
       " '2-6 Yrs',\n",
       " '1-5 Yrs',\n",
       " '3-6 Yrs',\n",
       " '2-6 Yrs',\n",
       " '2-4 Yrs',\n",
       " '0-0 Yrs',\n",
       " '5-10 Yrs',\n",
       " '5-10 Yrs',\n",
       " '5-10 Yrs',\n",
       " '0-3 Yrs',\n",
       " '2-6 Yrs',\n",
       " '3-8 Yrs',\n",
       " '1-3 Yrs',\n",
       " '3-7 Yrs',\n",
       " '4-9 Yrs',\n",
       " '4-9 Yrs',\n",
       " '1-5 Yrs',\n",
       " '3-7 Yrs']"
      ]
     },
     "execution_count": 126,
     "metadata": {},
     "output_type": "execute_result"
    }
   ],
   "source": [
    "Exprience_Required = []\n",
    "\n",
    "for i in Exprience_tags:\n",
    "    Exprience_Required.append(i.text)\n",
    "    \n",
    "Exprience_Required\n",
    "    "
   ]
  },
  {
   "cell_type": "code",
   "execution_count": 127,
   "metadata": {},
   "outputs": [
    {
     "name": "stdout",
     "output_type": "stream",
     "text": [
      "20 20 20 20\n"
     ]
    }
   ],
   "source": [
    "print(len(Job_titles),len(Job_Location),len(Company_name),len(Exprience_Required))"
   ]
  },
  {
   "cell_type": "code",
   "execution_count": 128,
   "metadata": {},
   "outputs": [],
   "source": [
    "#import pandas as pd\n",
    "jobs['titles'] = Job_titles\n",
    "jobs['Location'] = Job_Location\n",
    "jobs['name'] = Company_name\n",
    "jobs['Required'] = Exprience_Required"
   ]
  },
  {
   "cell_type": "code",
   "execution_count": 130,
   "metadata": {},
   "outputs": [
    {
     "data": {
      "text/html": [
       "<div>\n",
       "<style scoped>\n",
       "    .dataframe tbody tr th:only-of-type {\n",
       "        vertical-align: middle;\n",
       "    }\n",
       "\n",
       "    .dataframe tbody tr th {\n",
       "        vertical-align: top;\n",
       "    }\n",
       "\n",
       "    .dataframe thead th {\n",
       "        text-align: right;\n",
       "    }\n",
       "</style>\n",
       "<table border=\"1\" class=\"dataframe\">\n",
       "  <thead>\n",
       "    <tr style=\"text-align: right;\">\n",
       "      <th></th>\n",
       "      <th>titles</th>\n",
       "      <th>names</th>\n",
       "      <th>location</th>\n",
       "      <th>description</th>\n",
       "      <th>Location</th>\n",
       "      <th>name</th>\n",
       "      <th>Required</th>\n",
       "    </tr>\n",
       "  </thead>\n",
       "  <tbody>\n",
       "    <tr>\n",
       "      <th>0</th>\n",
       "      <td>Immediate Openings For DATA Scientist with 6 T...</td>\n",
       "      <td>Bidgely Technologies Private Limited</td>\n",
       "      <td>Bangalore/Bengaluru</td>\n",
       "      <td>You must have delivered advanced statistical a...</td>\n",
       "      <td>Kolkata, Hyderabad/Secunderabad, Pune, Ahmedab...</td>\n",
       "      <td>Entune IT Consulting Private Limited</td>\n",
       "      <td>5-8 Yrs</td>\n",
       "    </tr>\n",
       "    <tr>\n",
       "      <th>1</th>\n",
       "      <td>Data Scientist</td>\n",
       "      <td>Goals 101 Data Solutions Pvt. Ltd.</td>\n",
       "      <td>New Delhi, Bangalore/Bengaluru, Delhi / NCR</td>\n",
       "      <td>Roles and Responsibilities: Work as part of a ...</td>\n",
       "      <td>Gurgaon/Gurugram</td>\n",
       "      <td>Decimal Technologies Pvt Ltd.</td>\n",
       "      <td>1-3 Yrs</td>\n",
       "    </tr>\n",
       "    <tr>\n",
       "      <th>2</th>\n",
       "      <td>Senior Data Scientist - Noida</td>\n",
       "      <td>Confidential</td>\n",
       "      <td>Bangalore/Bengaluru</td>\n",
       "      <td>Education - no bar, but preferably from a Stat...</td>\n",
       "      <td>Noida</td>\n",
       "      <td>Optum Global Solutions (India) Private Limited</td>\n",
       "      <td>2-6 Yrs</td>\n",
       "    </tr>\n",
       "    <tr>\n",
       "      <th>3</th>\n",
       "      <td>Data Scientist / Data Analyst</td>\n",
       "      <td>RANDSTAD INDIA PVT LTD</td>\n",
       "      <td>Bangalore/Bengaluru</td>\n",
       "      <td>Candidate should be well versed in executing s...</td>\n",
       "      <td>Gurgaon/Gurugram</td>\n",
       "      <td>CARS24</td>\n",
       "      <td>1-5 Yrs</td>\n",
       "    </tr>\n",
       "    <tr>\n",
       "      <th>4</th>\n",
       "      <td>Senior Data Scientist</td>\n",
       "      <td>Teamware Solutions</td>\n",
       "      <td>Bangalore/Bengaluru</td>\n",
       "      <td>Dynamic recruiting professional with 7 - 10 ye...</td>\n",
       "      <td>Hyderabad/Secunderabad, Gurgaon/Gurugram, Bang...</td>\n",
       "      <td>inVentiv International Pharma Services Pvt. Ltd.</td>\n",
       "      <td>3-6 Yrs</td>\n",
       "    </tr>\n",
       "    <tr>\n",
       "      <th>5</th>\n",
       "      <td>Data Scientist - Machine Learning/NLP</td>\n",
       "      <td>HotelHub</td>\n",
       "      <td>Bangalore/Bengaluru</td>\n",
       "      <td>Experience creating and using advanced machine...</td>\n",
       "      <td>Gurgaon/Gurugram</td>\n",
       "      <td>TalPro</td>\n",
       "      <td>2-6 Yrs</td>\n",
       "    </tr>\n",
       "    <tr>\n",
       "      <th>6</th>\n",
       "      <td>Data Scientist - Machine Learning/NLP</td>\n",
       "      <td>Western Digital</td>\n",
       "      <td>Bangalore/Bengaluru</td>\n",
       "      <td>Bachelors/ Masters in Computers Science or Sta...</td>\n",
       "      <td>Gurgaon/Gurugram</td>\n",
       "      <td>TalPro</td>\n",
       "      <td>2-4 Yrs</td>\n",
       "    </tr>\n",
       "    <tr>\n",
       "      <th>7</th>\n",
       "      <td>Only Fresher / Data Scientist / Data Analyst /...</td>\n",
       "      <td>Entune IT Consulting Private Limited</td>\n",
       "      <td>Kolkata, Hyderabad/Secunderabad, Pune, Ahmedab...</td>\n",
       "      <td>We have opening with our Company Entune IT Con...</td>\n",
       "      <td>Noida, Gurgaon/Gurugram, Delhi / NCR</td>\n",
       "      <td>GABA Consultancy services</td>\n",
       "      <td>0-0 Yrs</td>\n",
       "    </tr>\n",
       "    <tr>\n",
       "      <th>8</th>\n",
       "      <td>Hiring Data Scientist Develope || IDS Infotech...</td>\n",
       "      <td>PERSOLKELLY INDIA PRIVATE LIMITED</td>\n",
       "      <td>Bangalore/Bengaluru</td>\n",
       "      <td>We have an urget opppourtunity leading organiz...</td>\n",
       "      <td>Chandigarh, Hyderabad/Secunderabad, Chennai, B...</td>\n",
       "      <td>IDS Infotech Ltd.</td>\n",
       "      <td>5-10 Yrs</td>\n",
       "    </tr>\n",
       "    <tr>\n",
       "      <th>9</th>\n",
       "      <td>Hiring Data Scientist Develope || IDS Infotech...</td>\n",
       "      <td>Ara Resources</td>\n",
       "      <td>Bangalore/Bengaluru</td>\n",
       "      <td>Masters (With 5 years of experience) or PhD de...</td>\n",
       "      <td>Chandigarh, Hyderabad/Secunderabad, Chennai, B...</td>\n",
       "      <td>IDS Infotech Ltd.</td>\n",
       "      <td>5-10 Yrs</td>\n",
       "    </tr>\n",
       "  </tbody>\n",
       "</table>\n",
       "</div>"
      ],
      "text/plain": [
       "                                              titles  \\\n",
       "0  Immediate Openings For DATA Scientist with 6 T...   \n",
       "1                                     Data Scientist   \n",
       "2                      Senior Data Scientist - Noida   \n",
       "3                      Data Scientist / Data Analyst   \n",
       "4                              Senior Data Scientist   \n",
       "5              Data Scientist - Machine Learning/NLP   \n",
       "6              Data Scientist - Machine Learning/NLP   \n",
       "7  Only Fresher / Data Scientist / Data Analyst /...   \n",
       "8  Hiring Data Scientist Develope || IDS Infotech...   \n",
       "9  Hiring Data Scientist Develope || IDS Infotech...   \n",
       "\n",
       "                                  names  \\\n",
       "0  Bidgely Technologies Private Limited   \n",
       "1    Goals 101 Data Solutions Pvt. Ltd.   \n",
       "2                          Confidential   \n",
       "3                RANDSTAD INDIA PVT LTD   \n",
       "4                    Teamware Solutions   \n",
       "5                              HotelHub   \n",
       "6                       Western Digital   \n",
       "7  Entune IT Consulting Private Limited   \n",
       "8     PERSOLKELLY INDIA PRIVATE LIMITED   \n",
       "9                         Ara Resources   \n",
       "\n",
       "                                            location  \\\n",
       "0                                Bangalore/Bengaluru   \n",
       "1        New Delhi, Bangalore/Bengaluru, Delhi / NCR   \n",
       "2                                Bangalore/Bengaluru   \n",
       "3                                Bangalore/Bengaluru   \n",
       "4                                Bangalore/Bengaluru   \n",
       "5                                Bangalore/Bengaluru   \n",
       "6                                Bangalore/Bengaluru   \n",
       "7  Kolkata, Hyderabad/Secunderabad, Pune, Ahmedab...   \n",
       "8                                Bangalore/Bengaluru   \n",
       "9                                Bangalore/Bengaluru   \n",
       "\n",
       "                                         description  \\\n",
       "0  You must have delivered advanced statistical a...   \n",
       "1  Roles and Responsibilities: Work as part of a ...   \n",
       "2  Education - no bar, but preferably from a Stat...   \n",
       "3  Candidate should be well versed in executing s...   \n",
       "4  Dynamic recruiting professional with 7 - 10 ye...   \n",
       "5  Experience creating and using advanced machine...   \n",
       "6  Bachelors/ Masters in Computers Science or Sta...   \n",
       "7  We have opening with our Company Entune IT Con...   \n",
       "8  We have an urget opppourtunity leading organiz...   \n",
       "9  Masters (With 5 years of experience) or PhD de...   \n",
       "\n",
       "                                            Location  \\\n",
       "0  Kolkata, Hyderabad/Secunderabad, Pune, Ahmedab...   \n",
       "1                                   Gurgaon/Gurugram   \n",
       "2                                              Noida   \n",
       "3                                   Gurgaon/Gurugram   \n",
       "4  Hyderabad/Secunderabad, Gurgaon/Gurugram, Bang...   \n",
       "5                                   Gurgaon/Gurugram   \n",
       "6                                   Gurgaon/Gurugram   \n",
       "7               Noida, Gurgaon/Gurugram, Delhi / NCR   \n",
       "8  Chandigarh, Hyderabad/Secunderabad, Chennai, B...   \n",
       "9  Chandigarh, Hyderabad/Secunderabad, Chennai, B...   \n",
       "\n",
       "                                               name  Required  \n",
       "0              Entune IT Consulting Private Limited   5-8 Yrs  \n",
       "1                     Decimal Technologies Pvt Ltd.   1-3 Yrs  \n",
       "2    Optum Global Solutions (India) Private Limited   2-6 Yrs  \n",
       "3                                            CARS24   1-5 Yrs  \n",
       "4  inVentiv International Pharma Services Pvt. Ltd.   3-6 Yrs  \n",
       "5                                            TalPro   2-6 Yrs  \n",
       "6                                            TalPro   2-4 Yrs  \n",
       "7                         GABA Consultancy services   0-0 Yrs  \n",
       "8                                 IDS Infotech Ltd.  5-10 Yrs  \n",
       "9                                 IDS Infotech Ltd.  5-10 Yrs  "
      ]
     },
     "execution_count": 130,
     "metadata": {},
     "output_type": "execute_result"
    }
   ],
   "source": [
    "jobs[:10]"
   ]
  },
  {
   "cell_type": "code",
   "execution_count": null,
   "metadata": {},
   "outputs": [],
   "source": []
  },
  {
   "cell_type": "markdown",
   "metadata": {},
   "source": [
    "### Q4: Write a python program to scrape data for first 10 job results for Data scientist \n",
    "Designation in Noida location. You have to scrape company_name, No. of days \n",
    "ago when job was posted, Rating of the company.\n",
    "This task will be done in following steps:\n",
    "1. first get the webpage https://www.glassdoor.co.in/index.htm\n",
    "2. Enter “Data Scientist” in “Job Title,Keyword,Company” field and enter “Noida” \n",
    "in “location” field.\n",
    "3. Then click the search button. You will land up in the below page:\n",
    "4. Then scrape the data for the first 10 jobs results you get in the above shown \n",
    "page.\n",
    "5. Finally create a dataframe of the scraped data.\n",
    "\n",
    "Note- All of the above steps have to be done in code. No step is to be done \n",
    "manually"
   ]
  },
  {
   "cell_type": "code",
   "execution_count": 137,
   "metadata": {},
   "outputs": [],
   "source": [
    "# Lets now import all the required libraries\n",
    "import selenium\n",
    "import pandas as pd\n",
    "from selenium import webdriver"
   ]
  },
  {
   "cell_type": "code",
   "execution_count": 238,
   "metadata": {},
   "outputs": [],
   "source": [
    "# lets first connect the web driver\n",
    "\n",
    "driver = webdriver.Chrome(r\"C:\\Users\\admin\\Downloads\\chromedriver_win32 (1)\\chromedriver.exe\")\n"
   ]
  },
  {
   "cell_type": "code",
   "execution_count": 239,
   "metadata": {},
   "outputs": [],
   "source": [
    "url = \"https://www.glassdoor.co.in/index.htm\"\n",
    "driver.get(url)\n"
   ]
  },
  {
   "cell_type": "code",
   "execution_count": 240,
   "metadata": {},
   "outputs": [
    {
     "data": {
      "text/plain": [
       "<selenium.webdriver.remote.webelement.WebElement (session=\"a427f22f63cde4546da185eb2b82f6e2\", element=\"bbba26e7-aee0-4967-8ac5-e23b460219bc\")>"
      ]
     },
     "execution_count": 240,
     "metadata": {},
     "output_type": "execute_result"
    }
   ],
   "source": [
    "search_job = driver.find_element_by_xpath('/html/body/header/nav[1]/div/div/div/div[4]/div[2]/form/div/div[1]/div/div/input')\n",
    "search_job"
   ]
  },
  {
   "cell_type": "code",
   "execution_count": 241,
   "metadata": {},
   "outputs": [],
   "source": [
    "search_job.send_keys(\"Data Scientist\")"
   ]
  },
  {
   "cell_type": "code",
   "execution_count": 242,
   "metadata": {},
   "outputs": [],
   "source": [
    "# finding element for job location bar\n",
    "search_loc = driver.find_element_by_xpath('/html/body/header/nav[1]/div/div/div/div[4]/div[2]/form/div/div[3]/div/input')\n",
    "search_loc.send_keys(\"Noida\")"
   ]
  },
  {
   "cell_type": "code",
   "execution_count": 244,
   "metadata": {},
   "outputs": [
    {
     "data": {
      "text/plain": [
       "<selenium.webdriver.remote.webelement.WebElement (session=\"a427f22f63cde4546da185eb2b82f6e2\", element=\"8b305481-22ce-47fb-8bcb-77a83e28dd1c\")>"
      ]
     },
     "execution_count": 244,
     "metadata": {},
     "output_type": "execute_result"
    }
   ],
   "source": [
    "# do click using xpath function\n",
    "search_btn = driver.find_element_by_xpath(\"//button[@class='gd-ui-button ml-std col-auto SearchStyles__newSearchButton css-iixdfr']//span\")\n",
    "\n",
    "search_btn"
   ]
  },
  {
   "cell_type": "code",
   "execution_count": 245,
   "metadata": {},
   "outputs": [],
   "source": [
    "search_btn.click()"
   ]
  },
  {
   "cell_type": "code",
   "execution_count": 248,
   "metadata": {},
   "outputs": [
    {
     "data": {
      "text/plain": [
       "[<selenium.webdriver.remote.webelement.WebElement (session=\"a427f22f63cde4546da185eb2b82f6e2\", element=\"bf99ad9e-142c-46b8-9efa-5a70cfb908ad\")>,\n",
       " <selenium.webdriver.remote.webelement.WebElement (session=\"a427f22f63cde4546da185eb2b82f6e2\", element=\"4f4ee291-d9b9-43c6-80fd-1e0d79134ed5\")>,\n",
       " <selenium.webdriver.remote.webelement.WebElement (session=\"a427f22f63cde4546da185eb2b82f6e2\", element=\"0163c452-620e-44be-a279-2cce2d06d612\")>,\n",
       " <selenium.webdriver.remote.webelement.WebElement (session=\"a427f22f63cde4546da185eb2b82f6e2\", element=\"7cd34e68-a9d7-4b64-9019-d8f6384ca9a9\")>,\n",
       " <selenium.webdriver.remote.webelement.WebElement (session=\"a427f22f63cde4546da185eb2b82f6e2\", element=\"bdd2e0e1-b51b-4404-865c-f591003d1572\")>,\n",
       " <selenium.webdriver.remote.webelement.WebElement (session=\"a427f22f63cde4546da185eb2b82f6e2\", element=\"2f8f19b0-c26a-4a13-95e5-3474c84d37be\")>,\n",
       " <selenium.webdriver.remote.webelement.WebElement (session=\"a427f22f63cde4546da185eb2b82f6e2\", element=\"cbc8f045-c23a-4a0c-a16e-42a59ece9a58\")>,\n",
       " <selenium.webdriver.remote.webelement.WebElement (session=\"a427f22f63cde4546da185eb2b82f6e2\", element=\"9211e55c-5a74-4e2b-ad3a-621b90f5a323\")>,\n",
       " <selenium.webdriver.remote.webelement.WebElement (session=\"a427f22f63cde4546da185eb2b82f6e2\", element=\"26de83fe-d16f-4d38-8669-b057bad4b63d\")>,\n",
       " <selenium.webdriver.remote.webelement.WebElement (session=\"a427f22f63cde4546da185eb2b82f6e2\", element=\"6ca16558-4760-499d-abc0-78b899ef4938\")>,\n",
       " <selenium.webdriver.remote.webelement.WebElement (session=\"a427f22f63cde4546da185eb2b82f6e2\", element=\"da55fa36-e2e2-4822-ac4f-b76f6b17c31f\")>,\n",
       " <selenium.webdriver.remote.webelement.WebElement (session=\"a427f22f63cde4546da185eb2b82f6e2\", element=\"0286c867-db74-4073-a6c5-6ff90998675c\")>,\n",
       " <selenium.webdriver.remote.webelement.WebElement (session=\"a427f22f63cde4546da185eb2b82f6e2\", element=\"538e7145-45f6-4c4a-a0b3-b1b4252efd11\")>,\n",
       " <selenium.webdriver.remote.webelement.WebElement (session=\"a427f22f63cde4546da185eb2b82f6e2\", element=\"185bee2d-76a0-4284-bf52-32d7eaa80139\")>,\n",
       " <selenium.webdriver.remote.webelement.WebElement (session=\"a427f22f63cde4546da185eb2b82f6e2\", element=\"f0aeb746-0595-4da4-a4de-492ab6f557d8\")>,\n",
       " <selenium.webdriver.remote.webelement.WebElement (session=\"a427f22f63cde4546da185eb2b82f6e2\", element=\"dd5abd10-2e36-466d-99d3-f126dad5fb79\")>,\n",
       " <selenium.webdriver.remote.webelement.WebElement (session=\"a427f22f63cde4546da185eb2b82f6e2\", element=\"71d53c7d-72da-4e79-9529-4acc17843cf2\")>,\n",
       " <selenium.webdriver.remote.webelement.WebElement (session=\"a427f22f63cde4546da185eb2b82f6e2\", element=\"a5d40dcf-a4f9-497e-93a3-47ddc4a3892e\")>,\n",
       " <selenium.webdriver.remote.webelement.WebElement (session=\"a427f22f63cde4546da185eb2b82f6e2\", element=\"434172b0-b6d4-4fd9-862b-5be1df42b822\")>,\n",
       " <selenium.webdriver.remote.webelement.WebElement (session=\"a427f22f63cde4546da185eb2b82f6e2\", element=\"1ed095f8-751e-42b1-818f-e021a29ceaa2\")>,\n",
       " <selenium.webdriver.remote.webelement.WebElement (session=\"a427f22f63cde4546da185eb2b82f6e2\", element=\"00469d0d-4c91-4f1a-83d6-0676be899773\")>,\n",
       " <selenium.webdriver.remote.webelement.WebElement (session=\"a427f22f63cde4546da185eb2b82f6e2\", element=\"9a9782ee-53e9-4068-b50e-53b27363a85d\")>,\n",
       " <selenium.webdriver.remote.webelement.WebElement (session=\"a427f22f63cde4546da185eb2b82f6e2\", element=\"64b25cff-1f52-4cd7-8700-f818b0efca71\")>,\n",
       " <selenium.webdriver.remote.webelement.WebElement (session=\"a427f22f63cde4546da185eb2b82f6e2\", element=\"c8908581-0b0f-4e7c-933e-f9782c69e0d6\")>,\n",
       " <selenium.webdriver.remote.webelement.WebElement (session=\"a427f22f63cde4546da185eb2b82f6e2\", element=\"7d600207-402e-44e7-879e-ec9413f3579b\")>,\n",
       " <selenium.webdriver.remote.webelement.WebElement (session=\"a427f22f63cde4546da185eb2b82f6e2\", element=\"efa9352b-8e83-4840-9ea8-bcd483336879\")>,\n",
       " <selenium.webdriver.remote.webelement.WebElement (session=\"a427f22f63cde4546da185eb2b82f6e2\", element=\"60966c09-42eb-4247-8564-63f3831e1b6b\")>,\n",
       " <selenium.webdriver.remote.webelement.WebElement (session=\"a427f22f63cde4546da185eb2b82f6e2\", element=\"f7815fe3-937a-40c7-8734-92bf1b489dd0\")>,\n",
       " <selenium.webdriver.remote.webelement.WebElement (session=\"a427f22f63cde4546da185eb2b82f6e2\", element=\"2ba3e70b-775a-41db-ac0d-64c0cb765fd9\")>,\n",
       " <selenium.webdriver.remote.webelement.WebElement (session=\"a427f22f63cde4546da185eb2b82f6e2\", element=\"82fa2fa7-2344-49aa-9854-7fa918d07d2d\")>]"
      ]
     },
     "execution_count": 248,
     "metadata": {},
     "output_type": "execute_result"
    }
   ],
   "source": [
    "\n",
    "# so lets extract all the tags having the Comapny_name\n",
    "\n",
    "Companies_tags = driver.find_elements_by_xpath(\"//div[@class='d-flex justify-content-between align-items-start']\")\n",
    "Companies_tags"
   ]
  },
  {
   "cell_type": "code",
   "execution_count": 249,
   "metadata": {},
   "outputs": [
    {
     "data": {
      "text/plain": [
       "['Liberin Technologies Private Limited',\n",
       " 'Pixel Vision',\n",
       " 'Crowe',\n",
       " 'Newgen Software',\n",
       " 'Ericsson',\n",
       " 'Biz2Credit Inc',\n",
       " 'Salasar New Age Technologies',\n",
       " 'Innovacer',\n",
       " 'NatWest Group',\n",
       " 'Techlive',\n",
       " 'Salasar New Age Technologies',\n",
       " 'Emerging India Analytics',\n",
       " 'Conduent',\n",
       " 'WishFin',\n",
       " 'Deciman',\n",
       " 'SearchUrCollege',\n",
       " 'Aliqan Technologies',\n",
       " 'Innovacer',\n",
       " 'Microsoft',\n",
       " 'NEC Opportunities',\n",
       " 'MasterCard',\n",
       " 'xtLytics',\n",
       " 'Ameriprise Financial',\n",
       " 'xtLytics',\n",
       " 'WhizHack Technologies Pvt Ltd',\n",
       " 'WinZO',\n",
       " 'Priority Vendor',\n",
       " 'Algoscale',\n",
       " 'Applicate IT Solutions Pvt. Ltd.',\n",
       " 'Experfy Inc']"
      ]
     },
     "execution_count": 249,
     "metadata": {},
     "output_type": "execute_result"
    }
   ],
   "source": [
    "company_name= []\n",
    "for i in Companies_tags:\n",
    "    company_name.append(i.text)\n",
    "    \n",
    "company_name\n",
    "    "
   ]
  },
  {
   "cell_type": "code",
   "execution_count": 274,
   "metadata": {},
   "outputs": [
    {
     "data": {
      "text/plain": [
       "[<selenium.webdriver.remote.webelement.WebElement (session=\"a427f22f63cde4546da185eb2b82f6e2\", element=\"ddfbe67c-3541-4e14-98cf-6a7cf1bac910\")>,\n",
       " <selenium.webdriver.remote.webelement.WebElement (session=\"a427f22f63cde4546da185eb2b82f6e2\", element=\"42a3125b-aeec-499b-a6f1-0e46bdc448f9\")>,\n",
       " <selenium.webdriver.remote.webelement.WebElement (session=\"a427f22f63cde4546da185eb2b82f6e2\", element=\"45157953-88a4-4be5-87a9-d409d7bde7d9\")>,\n",
       " <selenium.webdriver.remote.webelement.WebElement (session=\"a427f22f63cde4546da185eb2b82f6e2\", element=\"11b3a992-3dff-441b-8c78-5650c22eb0cd\")>,\n",
       " <selenium.webdriver.remote.webelement.WebElement (session=\"a427f22f63cde4546da185eb2b82f6e2\", element=\"bb9c6d4f-b0b8-4093-962d-c8516fdc4ae0\")>,\n",
       " <selenium.webdriver.remote.webelement.WebElement (session=\"a427f22f63cde4546da185eb2b82f6e2\", element=\"cf5c8bc8-c99a-4925-98cb-043ba30a1d6e\")>,\n",
       " <selenium.webdriver.remote.webelement.WebElement (session=\"a427f22f63cde4546da185eb2b82f6e2\", element=\"de020cdc-ace0-47f7-b684-4bbebe11bf09\")>,\n",
       " <selenium.webdriver.remote.webelement.WebElement (session=\"a427f22f63cde4546da185eb2b82f6e2\", element=\"85605531-851b-4f6e-80ee-6207c132d13a\")>,\n",
       " <selenium.webdriver.remote.webelement.WebElement (session=\"a427f22f63cde4546da185eb2b82f6e2\", element=\"5928b53d-5656-46f5-9257-08da06a21256\")>,\n",
       " <selenium.webdriver.remote.webelement.WebElement (session=\"a427f22f63cde4546da185eb2b82f6e2\", element=\"fe646c97-f68c-44c3-aeb5-82593961c6aa\")>,\n",
       " <selenium.webdriver.remote.webelement.WebElement (session=\"a427f22f63cde4546da185eb2b82f6e2\", element=\"5058b835-8612-4a53-b5e3-6926f00ca21d\")>,\n",
       " <selenium.webdriver.remote.webelement.WebElement (session=\"a427f22f63cde4546da185eb2b82f6e2\", element=\"7b929488-d8f2-4166-80e3-dbda573a5c0b\")>,\n",
       " <selenium.webdriver.remote.webelement.WebElement (session=\"a427f22f63cde4546da185eb2b82f6e2\", element=\"77d9634f-b3b5-4469-944d-230ba8566854\")>,\n",
       " <selenium.webdriver.remote.webelement.WebElement (session=\"a427f22f63cde4546da185eb2b82f6e2\", element=\"a2e5d078-1630-4daf-9971-d81795bbfae5\")>,\n",
       " <selenium.webdriver.remote.webelement.WebElement (session=\"a427f22f63cde4546da185eb2b82f6e2\", element=\"05da244c-4c94-41bc-b2a1-bad8eb02cf9f\")>,\n",
       " <selenium.webdriver.remote.webelement.WebElement (session=\"a427f22f63cde4546da185eb2b82f6e2\", element=\"2bbcf300-6acf-44bb-afea-9bacad31c6f3\")>,\n",
       " <selenium.webdriver.remote.webelement.WebElement (session=\"a427f22f63cde4546da185eb2b82f6e2\", element=\"cf6a99f7-6738-4e1b-b7dc-13cdc598ae69\")>,\n",
       " <selenium.webdriver.remote.webelement.WebElement (session=\"a427f22f63cde4546da185eb2b82f6e2\", element=\"26a61bbb-a5a2-4f34-bfad-65b1a157e9a8\")>,\n",
       " <selenium.webdriver.remote.webelement.WebElement (session=\"a427f22f63cde4546da185eb2b82f6e2\", element=\"007d349f-4b0c-4902-953f-410d128885db\")>,\n",
       " <selenium.webdriver.remote.webelement.WebElement (session=\"a427f22f63cde4546da185eb2b82f6e2\", element=\"8e0e69a1-83d5-4754-a6e9-383ae7bc40d1\")>,\n",
       " <selenium.webdriver.remote.webelement.WebElement (session=\"a427f22f63cde4546da185eb2b82f6e2\", element=\"ae9e529a-7c3c-4a4d-a7aa-4b302a90b3c9\")>,\n",
       " <selenium.webdriver.remote.webelement.WebElement (session=\"a427f22f63cde4546da185eb2b82f6e2\", element=\"8495b0ef-0fb4-4916-a929-4993704bbe3b\")>,\n",
       " <selenium.webdriver.remote.webelement.WebElement (session=\"a427f22f63cde4546da185eb2b82f6e2\", element=\"e8a73f09-82df-4034-ab64-dd4b58a5ef1f\")>,\n",
       " <selenium.webdriver.remote.webelement.WebElement (session=\"a427f22f63cde4546da185eb2b82f6e2\", element=\"bed52fff-1590-4223-b616-cbd1909cb7f3\")>,\n",
       " <selenium.webdriver.remote.webelement.WebElement (session=\"a427f22f63cde4546da185eb2b82f6e2\", element=\"c8ec6050-39ef-4202-b727-19ffc9a8b0ef\")>,\n",
       " <selenium.webdriver.remote.webelement.WebElement (session=\"a427f22f63cde4546da185eb2b82f6e2\", element=\"60cb3f38-b62e-4980-938a-07fa2c3fc0bf\")>,\n",
       " <selenium.webdriver.remote.webelement.WebElement (session=\"a427f22f63cde4546da185eb2b82f6e2\", element=\"5b33c75b-f89f-4be3-b495-2152d0a38766\")>,\n",
       " <selenium.webdriver.remote.webelement.WebElement (session=\"a427f22f63cde4546da185eb2b82f6e2\", element=\"c889b7a3-248c-42be-ab83-8b71f6ec0d33\")>,\n",
       " <selenium.webdriver.remote.webelement.WebElement (session=\"a427f22f63cde4546da185eb2b82f6e2\", element=\"b43ac11f-e04e-4d5f-8769-8170a5e2777d\")>,\n",
       " <selenium.webdriver.remote.webelement.WebElement (session=\"a427f22f63cde4546da185eb2b82f6e2\", element=\"ecb6ef1e-350e-4625-a8d1-14f8821836e4\")>]"
      ]
     },
     "execution_count": 274,
     "metadata": {},
     "output_type": "execute_result"
    }
   ],
   "source": [
    "# so lets extract all the tags having the Comapny_name\n",
    "\n",
    "job_posted = driver.find_elements_by_xpath(\"//div[@data-test= 'job-age']\")\n",
    "job_posted"
   ]
  },
  {
   "cell_type": "code",
   "execution_count": 275,
   "metadata": {},
   "outputs": [
    {
     "data": {
      "text/plain": [
       "['8d',\n",
       " '19d',\n",
       " '30d+',\n",
       " '19d',\n",
       " '3d',\n",
       " '30d+',\n",
       " '30d+',\n",
       " '1d',\n",
       " '2d',\n",
       " '30d+',\n",
       " '30d+',\n",
       " '24h',\n",
       " '30d+',\n",
       " '30d+',\n",
       " '8d',\n",
       " '30d+',\n",
       " '21d',\n",
       " '30d+',\n",
       " '4d',\n",
       " '24h',\n",
       " '6d',\n",
       " '30d+',\n",
       " '8d',\n",
       " '30d+',\n",
       " '23d',\n",
       " '25d',\n",
       " '30d+',\n",
       " '30d+',\n",
       " '29d',\n",
       " '1d']"
      ]
     },
     "execution_count": 275,
     "metadata": {},
     "output_type": "execute_result"
    }
   ],
   "source": [
    "job_was_posted = []\n",
    "\n",
    "for i in job_posted:\n",
    "    job_was_posted.append(i.text)\n",
    "    \n",
    "job_was_posted\n",
    "    "
   ]
  },
  {
   "cell_type": "code",
   "execution_count": 286,
   "metadata": {},
   "outputs": [
    {
     "data": {
      "text/plain": [
       "30"
      ]
     },
     "execution_count": 286,
     "metadata": {},
     "output_type": "execute_result"
    }
   ],
   "source": [
    "len(job_was_posted)"
   ]
  },
  {
   "cell_type": "code",
   "execution_count": 264,
   "metadata": {},
   "outputs": [
    {
     "data": {
      "text/plain": [
       "[<selenium.webdriver.remote.webelement.WebElement (session=\"a427f22f63cde4546da185eb2b82f6e2\", element=\"86d3529b-c915-4dcc-b934-0945f781d488\")>,\n",
       " <selenium.webdriver.remote.webelement.WebElement (session=\"a427f22f63cde4546da185eb2b82f6e2\", element=\"8aa11721-551d-4a14-b6a8-c368cafb20ed\")>]"
      ]
     },
     "execution_count": 264,
     "metadata": {},
     "output_type": "execute_result"
    }
   ],
   "source": [
    "# so lets extract all the tags having the Comapny_name\n",
    "\n",
    "Rating_tags = driver.find_elements_by_xpath(\"//h3[@class='css-4t3aaj epgue5a4']\")\n",
    "Rating_tags"
   ]
  },
  {
   "cell_type": "code",
   "execution_count": 266,
   "metadata": {},
   "outputs": [
    {
     "data": {
      "text/plain": [
       "['Rating Highlights', 'Job & Company Insights']"
      ]
     },
     "execution_count": 266,
     "metadata": {},
     "output_type": "execute_result"
    }
   ],
   "source": [
    "Rating = []\n",
    "\n",
    "for i in Rating_tags:\n",
    "    Rating.append(i.text)\n",
    "    \n",
    "\n",
    "Rating"
   ]
  },
  {
   "cell_type": "code",
   "execution_count": 282,
   "metadata": {},
   "outputs": [
    {
     "name": "stdout",
     "output_type": "stream",
     "text": [
      "30 30\n"
     ]
    }
   ],
   "source": [
    "print(len(job_was_posted),len(company_name))"
   ]
  },
  {
   "cell_type": "code",
   "execution_count": 285,
   "metadata": {},
   "outputs": [
    {
     "ename": "ValueError",
     "evalue": "Length of values (20) does not match length of index (30)",
     "output_type": "error",
     "traceback": [
      "\u001b[1;31m---------------------------------------------------------------------------\u001b[0m",
      "\u001b[1;31mValueError\u001b[0m                                Traceback (most recent call last)",
      "\u001b[1;32m<ipython-input-285-e61adcad97f9>\u001b[0m in \u001b[0;36m<module>\u001b[1;34m\u001b[0m\n\u001b[0;32m      3\u001b[0m \u001b[0mjobs\u001b[0m\u001b[1;33m[\u001b[0m\u001b[1;34m'posted'\u001b[0m\u001b[1;33m]\u001b[0m \u001b[1;33m=\u001b[0m \u001b[0mjob_was_posted\u001b[0m\u001b[1;33m\u001b[0m\u001b[1;33m\u001b[0m\u001b[0m\n\u001b[0;32m      4\u001b[0m \u001b[1;33m\u001b[0m\u001b[0m\n\u001b[1;32m----> 5\u001b[1;33m \u001b[0mjobs\u001b[0m\u001b[1;33m[\u001b[0m\u001b[1;34m'name'\u001b[0m\u001b[1;33m]\u001b[0m \u001b[1;33m=\u001b[0m \u001b[0mCompany_name\u001b[0m\u001b[1;33m\u001b[0m\u001b[1;33m\u001b[0m\u001b[0m\n\u001b[0m\u001b[0;32m      6\u001b[0m \u001b[1;33m\u001b[0m\u001b[0m\n",
      "\u001b[1;32m~\\anaconda3\\lib\\site-packages\\pandas\\core\\frame.py\u001b[0m in \u001b[0;36m__setitem__\u001b[1;34m(self, key, value)\u001b[0m\n\u001b[0;32m   3038\u001b[0m         \u001b[1;32melse\u001b[0m\u001b[1;33m:\u001b[0m\u001b[1;33m\u001b[0m\u001b[1;33m\u001b[0m\u001b[0m\n\u001b[0;32m   3039\u001b[0m             \u001b[1;31m# set column\u001b[0m\u001b[1;33m\u001b[0m\u001b[1;33m\u001b[0m\u001b[1;33m\u001b[0m\u001b[0m\n\u001b[1;32m-> 3040\u001b[1;33m             \u001b[0mself\u001b[0m\u001b[1;33m.\u001b[0m\u001b[0m_set_item\u001b[0m\u001b[1;33m(\u001b[0m\u001b[0mkey\u001b[0m\u001b[1;33m,\u001b[0m \u001b[0mvalue\u001b[0m\u001b[1;33m)\u001b[0m\u001b[1;33m\u001b[0m\u001b[1;33m\u001b[0m\u001b[0m\n\u001b[0m\u001b[0;32m   3041\u001b[0m \u001b[1;33m\u001b[0m\u001b[0m\n\u001b[0;32m   3042\u001b[0m     \u001b[1;32mdef\u001b[0m \u001b[0m_setitem_slice\u001b[0m\u001b[1;33m(\u001b[0m\u001b[0mself\u001b[0m\u001b[1;33m,\u001b[0m \u001b[0mkey\u001b[0m\u001b[1;33m:\u001b[0m \u001b[0mslice\u001b[0m\u001b[1;33m,\u001b[0m \u001b[0mvalue\u001b[0m\u001b[1;33m)\u001b[0m\u001b[1;33m:\u001b[0m\u001b[1;33m\u001b[0m\u001b[1;33m\u001b[0m\u001b[0m\n",
      "\u001b[1;32m~\\anaconda3\\lib\\site-packages\\pandas\\core\\frame.py\u001b[0m in \u001b[0;36m_set_item\u001b[1;34m(self, key, value)\u001b[0m\n\u001b[0;32m   3114\u001b[0m         \"\"\"\n\u001b[0;32m   3115\u001b[0m         \u001b[0mself\u001b[0m\u001b[1;33m.\u001b[0m\u001b[0m_ensure_valid_index\u001b[0m\u001b[1;33m(\u001b[0m\u001b[0mvalue\u001b[0m\u001b[1;33m)\u001b[0m\u001b[1;33m\u001b[0m\u001b[1;33m\u001b[0m\u001b[0m\n\u001b[1;32m-> 3116\u001b[1;33m         \u001b[0mvalue\u001b[0m \u001b[1;33m=\u001b[0m \u001b[0mself\u001b[0m\u001b[1;33m.\u001b[0m\u001b[0m_sanitize_column\u001b[0m\u001b[1;33m(\u001b[0m\u001b[0mkey\u001b[0m\u001b[1;33m,\u001b[0m \u001b[0mvalue\u001b[0m\u001b[1;33m)\u001b[0m\u001b[1;33m\u001b[0m\u001b[1;33m\u001b[0m\u001b[0m\n\u001b[0m\u001b[0;32m   3117\u001b[0m         \u001b[0mNDFrame\u001b[0m\u001b[1;33m.\u001b[0m\u001b[0m_set_item\u001b[0m\u001b[1;33m(\u001b[0m\u001b[0mself\u001b[0m\u001b[1;33m,\u001b[0m \u001b[0mkey\u001b[0m\u001b[1;33m,\u001b[0m \u001b[0mvalue\u001b[0m\u001b[1;33m)\u001b[0m\u001b[1;33m\u001b[0m\u001b[1;33m\u001b[0m\u001b[0m\n\u001b[0;32m   3118\u001b[0m \u001b[1;33m\u001b[0m\u001b[0m\n",
      "\u001b[1;32m~\\anaconda3\\lib\\site-packages\\pandas\\core\\frame.py\u001b[0m in \u001b[0;36m_sanitize_column\u001b[1;34m(self, key, value, broadcast)\u001b[0m\n\u001b[0;32m   3762\u001b[0m \u001b[1;33m\u001b[0m\u001b[0m\n\u001b[0;32m   3763\u001b[0m             \u001b[1;31m# turn me into an ndarray\u001b[0m\u001b[1;33m\u001b[0m\u001b[1;33m\u001b[0m\u001b[1;33m\u001b[0m\u001b[0m\n\u001b[1;32m-> 3764\u001b[1;33m             \u001b[0mvalue\u001b[0m \u001b[1;33m=\u001b[0m \u001b[0msanitize_index\u001b[0m\u001b[1;33m(\u001b[0m\u001b[0mvalue\u001b[0m\u001b[1;33m,\u001b[0m \u001b[0mself\u001b[0m\u001b[1;33m.\u001b[0m\u001b[0mindex\u001b[0m\u001b[1;33m)\u001b[0m\u001b[1;33m\u001b[0m\u001b[1;33m\u001b[0m\u001b[0m\n\u001b[0m\u001b[0;32m   3765\u001b[0m             \u001b[1;32mif\u001b[0m \u001b[1;32mnot\u001b[0m \u001b[0misinstance\u001b[0m\u001b[1;33m(\u001b[0m\u001b[0mvalue\u001b[0m\u001b[1;33m,\u001b[0m \u001b[1;33m(\u001b[0m\u001b[0mnp\u001b[0m\u001b[1;33m.\u001b[0m\u001b[0mndarray\u001b[0m\u001b[1;33m,\u001b[0m \u001b[0mIndex\u001b[0m\u001b[1;33m)\u001b[0m\u001b[1;33m)\u001b[0m\u001b[1;33m:\u001b[0m\u001b[1;33m\u001b[0m\u001b[1;33m\u001b[0m\u001b[0m\n\u001b[0;32m   3766\u001b[0m                 \u001b[1;32mif\u001b[0m \u001b[0misinstance\u001b[0m\u001b[1;33m(\u001b[0m\u001b[0mvalue\u001b[0m\u001b[1;33m,\u001b[0m \u001b[0mlist\u001b[0m\u001b[1;33m)\u001b[0m \u001b[1;32mand\u001b[0m \u001b[0mlen\u001b[0m\u001b[1;33m(\u001b[0m\u001b[0mvalue\u001b[0m\u001b[1;33m)\u001b[0m \u001b[1;33m>\u001b[0m \u001b[1;36m0\u001b[0m\u001b[1;33m:\u001b[0m\u001b[1;33m\u001b[0m\u001b[1;33m\u001b[0m\u001b[0m\n",
      "\u001b[1;32m~\\anaconda3\\lib\\site-packages\\pandas\\core\\internals\\construction.py\u001b[0m in \u001b[0;36msanitize_index\u001b[1;34m(data, index)\u001b[0m\n\u001b[0;32m    745\u001b[0m     \"\"\"\n\u001b[0;32m    746\u001b[0m     \u001b[1;32mif\u001b[0m \u001b[0mlen\u001b[0m\u001b[1;33m(\u001b[0m\u001b[0mdata\u001b[0m\u001b[1;33m)\u001b[0m \u001b[1;33m!=\u001b[0m \u001b[0mlen\u001b[0m\u001b[1;33m(\u001b[0m\u001b[0mindex\u001b[0m\u001b[1;33m)\u001b[0m\u001b[1;33m:\u001b[0m\u001b[1;33m\u001b[0m\u001b[1;33m\u001b[0m\u001b[0m\n\u001b[1;32m--> 747\u001b[1;33m         raise ValueError(\n\u001b[0m\u001b[0;32m    748\u001b[0m             \u001b[1;34m\"Length of values \"\u001b[0m\u001b[1;33m\u001b[0m\u001b[1;33m\u001b[0m\u001b[0m\n\u001b[0;32m    749\u001b[0m             \u001b[1;34mf\"({len(data)}) \"\u001b[0m\u001b[1;33m\u001b[0m\u001b[1;33m\u001b[0m\u001b[0m\n",
      "\u001b[1;31mValueError\u001b[0m: Length of values (20) does not match length of index (30)"
     ]
    }
   ],
   "source": [
    "#import pandas as pd\n",
    "jobs = pd.DataFrame({})\n",
    "jobs['posted'] = job_was_posted\n",
    "\n",
    "jobs['name'] = Company_name\n",
    "\n"
   ]
  },
  {
   "cell_type": "code",
   "execution_count": null,
   "metadata": {},
   "outputs": [],
   "source": []
  },
  {
   "cell_type": "markdown",
   "metadata": {},
   "source": [
    "### Q5: Write a python program to scrape the salary data for Data Scientist designation \n",
    "in Noida location.\n",
    "You have to scrape Company name, Number of salaries, Average salary, Min\n",
    "salary, Max Salary.\n",
    "The above task will be, done as shown in the below steps:\n",
    "1. first get the webpage https://www.glassdoor.co.in/Salaries/index.htm\n",
    "2. Enter “Data Scientist” in Job title field and “Noida” in location field.\n",
    "3. Click the search button.\n",
    "4. After that you will land on the below page\n",
    "5. Scrape data for first 10 companies. Scrape the min salary, max salary, company \n",
    "name, Average salary and rating of the company.\n",
    "6.Store the data in a dataframe"
   ]
  },
  {
   "cell_type": "code",
   "execution_count": 304,
   "metadata": {},
   "outputs": [],
   "source": [
    "import selenium\n",
    "import pandas as pd\n",
    "from selenium import webdriver"
   ]
  },
  {
   "cell_type": "code",
   "execution_count": 314,
   "metadata": {},
   "outputs": [],
   "source": [
    "# lets connect with web driver\n",
    "driver = webdriver.Chrome(r\"C:\\Users\\admin\\Downloads\\chromedriver_win32 (1)\\chromedriver.exe\")"
   ]
  },
  {
   "cell_type": "code",
   "execution_count": 315,
   "metadata": {},
   "outputs": [],
   "source": [
    "url = 'https://www.glassdoor.co.in/Salaries/index.htm'\n",
    "driver.get(url)"
   ]
  },
  {
   "cell_type": "code",
   "execution_count": 316,
   "metadata": {},
   "outputs": [
    {
     "data": {
      "text/plain": [
       "<selenium.webdriver.remote.webelement.WebElement (session=\"d6de4b07a26173f02e70b2f28c44b5ca\", element=\"1440a03a-6d30-4b70-9d36-78f129c78195\")>"
      ]
     },
     "execution_count": 316,
     "metadata": {},
     "output_type": "execute_result"
    }
   ],
   "source": [
    "search_job = driver.find_element_by_id(\"KeywordSearch\")\n",
    "search_job"
   ]
  },
  {
   "cell_type": "code",
   "execution_count": 317,
   "metadata": {},
   "outputs": [],
   "source": [
    "search_job.send_keys(\"Data Scientist\")"
   ]
  },
  {
   "cell_type": "code",
   "execution_count": 318,
   "metadata": {},
   "outputs": [],
   "source": [
    "# finding element for job location bar\n",
    "search_loc = driver.find_element_by_id(\"LocationSearch\")\n",
    "search_loc.send_keys(\"Noida\")"
   ]
  },
  {
   "cell_type": "code",
   "execution_count": 320,
   "metadata": {},
   "outputs": [
    {
     "data": {
      "text/plain": [
       "<selenium.webdriver.remote.webelement.WebElement (session=\"d6de4b07a26173f02e70b2f28c44b5ca\", element=\"40d6c886-0659-4c62-9372-03022f9a71a0\")>"
      ]
     },
     "execution_count": 320,
     "metadata": {},
     "output_type": "execute_result"
    }
   ],
   "source": [
    "# do click using xpath function\n",
    "search_btn = driver.find_element_by_xpath(\"//button[@class='gd-btn-mkt']\")\n",
    "\n",
    "search_btn"
   ]
  },
  {
   "cell_type": "code",
   "execution_count": 313,
   "metadata": {},
   "outputs": [],
   "source": [
    "location_filter = driver.find_element_by_xpath('/html/body/div[3]/div/div[1]/div[1]/div/div/form/button')\n",
    "location_filter.click()"
   ]
  },
  {
   "cell_type": "code",
   "execution_count": 321,
   "metadata": {},
   "outputs": [],
   "source": [
    "search_btn.click()"
   ]
  },
  {
   "cell_type": "code",
   "execution_count": 324,
   "metadata": {},
   "outputs": [
    {
     "data": {
      "text/plain": [
       "[<selenium.webdriver.remote.webelement.WebElement (session=\"d6de4b07a26173f02e70b2f28c44b5ca\", element=\"d7cbf690-9a52-4698-b4f7-19dbcecb7e8b\")>,\n",
       " <selenium.webdriver.remote.webelement.WebElement (session=\"d6de4b07a26173f02e70b2f28c44b5ca\", element=\"8090fcd6-a595-4884-a796-9deb9ed0fd91\")>,\n",
       " <selenium.webdriver.remote.webelement.WebElement (session=\"d6de4b07a26173f02e70b2f28c44b5ca\", element=\"6fea76f8-e2e7-4d48-af63-e64042a23460\")>,\n",
       " <selenium.webdriver.remote.webelement.WebElement (session=\"d6de4b07a26173f02e70b2f28c44b5ca\", element=\"f39a9ed7-261a-4517-bc1c-d5f468867154\")>,\n",
       " <selenium.webdriver.remote.webelement.WebElement (session=\"d6de4b07a26173f02e70b2f28c44b5ca\", element=\"a0196c26-c867-4e8f-ba4c-e1dee6e16a87\")>,\n",
       " <selenium.webdriver.remote.webelement.WebElement (session=\"d6de4b07a26173f02e70b2f28c44b5ca\", element=\"f7935903-83ed-4536-b8aa-371ec4242e30\")>,\n",
       " <selenium.webdriver.remote.webelement.WebElement (session=\"d6de4b07a26173f02e70b2f28c44b5ca\", element=\"ef286555-927c-44d6-8cc0-b869f954fa48\")>,\n",
       " <selenium.webdriver.remote.webelement.WebElement (session=\"d6de4b07a26173f02e70b2f28c44b5ca\", element=\"bfa4d4c8-d1c4-4abf-b5b1-d3a7b137f929\")>,\n",
       " <selenium.webdriver.remote.webelement.WebElement (session=\"d6de4b07a26173f02e70b2f28c44b5ca\", element=\"0d9f6d33-0a67-487b-8eb1-2bfe98d0db56\")>,\n",
       " <selenium.webdriver.remote.webelement.WebElement (session=\"d6de4b07a26173f02e70b2f28c44b5ca\", element=\"f550bd71-c99c-4086-975a-3b9bd0275e8d\")>,\n",
       " <selenium.webdriver.remote.webelement.WebElement (session=\"d6de4b07a26173f02e70b2f28c44b5ca\", element=\"b61a651e-0670-4865-8940-226f6dccc652\")>,\n",
       " <selenium.webdriver.remote.webelement.WebElement (session=\"d6de4b07a26173f02e70b2f28c44b5ca\", element=\"50a4af6a-f1c0-4cff-bed3-7333e2fb4a47\")>,\n",
       " <selenium.webdriver.remote.webelement.WebElement (session=\"d6de4b07a26173f02e70b2f28c44b5ca\", element=\"286912da-4b5f-4d52-a6a0-25fce43cc40d\")>,\n",
       " <selenium.webdriver.remote.webelement.WebElement (session=\"d6de4b07a26173f02e70b2f28c44b5ca\", element=\"64f896e1-1c0b-40a5-8469-4ec53c23b63b\")>,\n",
       " <selenium.webdriver.remote.webelement.WebElement (session=\"d6de4b07a26173f02e70b2f28c44b5ca\", element=\"ccc05fa9-2381-46db-a844-9986ba738212\")>,\n",
       " <selenium.webdriver.remote.webelement.WebElement (session=\"d6de4b07a26173f02e70b2f28c44b5ca\", element=\"6c0a88c4-9c42-45a0-8048-0225f32ad5ed\")>,\n",
       " <selenium.webdriver.remote.webelement.WebElement (session=\"d6de4b07a26173f02e70b2f28c44b5ca\", element=\"67e9f7e2-48c5-438b-a508-d1c4e4c9d6a8\")>,\n",
       " <selenium.webdriver.remote.webelement.WebElement (session=\"d6de4b07a26173f02e70b2f28c44b5ca\", element=\"775b60db-de08-4c15-a700-a96884578027\")>,\n",
       " <selenium.webdriver.remote.webelement.WebElement (session=\"d6de4b07a26173f02e70b2f28c44b5ca\", element=\"1712ca88-c0ec-4104-bdcf-56183254f5ce\")>,\n",
       " <selenium.webdriver.remote.webelement.WebElement (session=\"d6de4b07a26173f02e70b2f28c44b5ca\", element=\"5ca29ea7-ab24-4352-b925-a1e243720445\")>]"
      ]
     },
     "execution_count": 324,
     "metadata": {},
     "output_type": "execute_result"
    }
   ],
   "source": [
    "# so lets extract all the tags having the Comapny_name\n",
    "\n",
    "Companies_tags = driver.find_elements_by_xpath(\"//a[@class='css-f3vw95 e1aj7ssy3']\")\n",
    "Companies_tags"
   ]
  },
  {
   "cell_type": "code",
   "execution_count": 402,
   "metadata": {},
   "outputs": [
    {
     "data": {
      "text/plain": [
       "['Tata Consultancy Services',\n",
       " 'IBM',\n",
       " 'Accenture',\n",
       " 'Delhivery',\n",
       " 'Ericsson-Worldwide',\n",
       " 'UnitedHealth Group',\n",
       " 'Valiance Solutions',\n",
       " 'EXL Service',\n",
       " 'Optum',\n",
       " 'Optum Global Solutions',\n",
       " 'ZS Associates',\n",
       " 'Innovaccer',\n",
       " 'OYO',\n",
       " 'Nagarro',\n",
       " 'Cognizant Technology Solutions',\n",
       " 'CARS24.com',\n",
       " 'dunnhumby',\n",
       " 'Vidooly Media Tech',\n",
       " 'Tech Mahindra',\n",
       " 'Fresher']"
      ]
     },
     "execution_count": 402,
     "metadata": {},
     "output_type": "execute_result"
    }
   ],
   "source": [
    "company_name= []\n",
    "for i in Companies_tags:\n",
    "    company_name.append(i.text)\n",
    "    \n",
    "company_name"
   ]
  },
  {
   "cell_type": "code",
   "execution_count": 398,
   "metadata": {},
   "outputs": [
    {
     "data": {
      "text/plain": [
       "[<selenium.webdriver.remote.webelement.WebElement (session=\"d6de4b07a26173f02e70b2f28c44b5ca\", element=\"d39f0e46-7a66-4d29-8d89-902e64fd68fc\")>,\n",
       " <selenium.webdriver.remote.webelement.WebElement (session=\"d6de4b07a26173f02e70b2f28c44b5ca\", element=\"5554678b-34e4-4d66-a367-b400e3650a73\")>,\n",
       " <selenium.webdriver.remote.webelement.WebElement (session=\"d6de4b07a26173f02e70b2f28c44b5ca\", element=\"07c1b5bf-c062-4439-a9e9-3f9c3341a647\")>,\n",
       " <selenium.webdriver.remote.webelement.WebElement (session=\"d6de4b07a26173f02e70b2f28c44b5ca\", element=\"068ca6e7-dba7-4628-ab4a-9c389d5710c7\")>,\n",
       " <selenium.webdriver.remote.webelement.WebElement (session=\"d6de4b07a26173f02e70b2f28c44b5ca\", element=\"b45c683b-fccb-445b-aedd-78beb018fee5\")>,\n",
       " <selenium.webdriver.remote.webelement.WebElement (session=\"d6de4b07a26173f02e70b2f28c44b5ca\", element=\"3ab438c7-5ff0-48de-9abd-246a46781d22\")>,\n",
       " <selenium.webdriver.remote.webelement.WebElement (session=\"d6de4b07a26173f02e70b2f28c44b5ca\", element=\"77a5c0a6-7a5b-47d5-8605-c64257138dbc\")>,\n",
       " <selenium.webdriver.remote.webelement.WebElement (session=\"d6de4b07a26173f02e70b2f28c44b5ca\", element=\"686e1ea6-c37e-4526-92e9-dde6429816b6\")>,\n",
       " <selenium.webdriver.remote.webelement.WebElement (session=\"d6de4b07a26173f02e70b2f28c44b5ca\", element=\"55a1251c-fa12-4111-97f8-b067fac51917\")>,\n",
       " <selenium.webdriver.remote.webelement.WebElement (session=\"d6de4b07a26173f02e70b2f28c44b5ca\", element=\"d4fb04f9-9b4c-43f6-8594-5bd0422b607c\")>,\n",
       " <selenium.webdriver.remote.webelement.WebElement (session=\"d6de4b07a26173f02e70b2f28c44b5ca\", element=\"0befedf6-14c3-4099-b374-01263991d29e\")>,\n",
       " <selenium.webdriver.remote.webelement.WebElement (session=\"d6de4b07a26173f02e70b2f28c44b5ca\", element=\"7225a19b-e775-47a0-8f0f-76990698c8ce\")>,\n",
       " <selenium.webdriver.remote.webelement.WebElement (session=\"d6de4b07a26173f02e70b2f28c44b5ca\", element=\"e1f8a515-68a0-42d2-a7a3-d8774e2565ce\")>,\n",
       " <selenium.webdriver.remote.webelement.WebElement (session=\"d6de4b07a26173f02e70b2f28c44b5ca\", element=\"e8c9fbea-7954-4035-93e0-dac4e8b19fb1\")>,\n",
       " <selenium.webdriver.remote.webelement.WebElement (session=\"d6de4b07a26173f02e70b2f28c44b5ca\", element=\"6e0ebe07-1431-4f6d-962b-6180f6823141\")>,\n",
       " <selenium.webdriver.remote.webelement.WebElement (session=\"d6de4b07a26173f02e70b2f28c44b5ca\", element=\"bc76afcb-f4b6-4a44-afd4-bad2f4e557a9\")>,\n",
       " <selenium.webdriver.remote.webelement.WebElement (session=\"d6de4b07a26173f02e70b2f28c44b5ca\", element=\"0815c83b-869e-4e86-8ff5-32812f8382c8\")>,\n",
       " <selenium.webdriver.remote.webelement.WebElement (session=\"d6de4b07a26173f02e70b2f28c44b5ca\", element=\"826b3a0b-b279-4e42-9dad-66365f061f38\")>,\n",
       " <selenium.webdriver.remote.webelement.WebElement (session=\"d6de4b07a26173f02e70b2f28c44b5ca\", element=\"f4cb32ad-b2f7-42dc-bc25-af1dc0f77cca\")>,\n",
       " <selenium.webdriver.remote.webelement.WebElement (session=\"d6de4b07a26173f02e70b2f28c44b5ca\", element=\"90bbec3b-0f09-4b12-9f20-3fc6860eb446\")>]"
      ]
     },
     "execution_count": 398,
     "metadata": {},
     "output_type": "execute_result"
    }
   ],
   "source": [
    "# so lets extract all the tags having the min-salary, max-Salary\n",
    "\n",
    "Salary_tags = driver.find_elements_by_xpath(\"//div[@class='d-flex mt-xxsm css-79elbk epuxyqn0']\")\n",
    "Salary_tags"
   ]
  },
  {
   "cell_type": "code",
   "execution_count": 412,
   "metadata": {},
   "outputs": [
    {
     "data": {
      "text/plain": [
       "['₹3L\\n₹13L',\n",
       " '₹6L\\n₹27L',\n",
       " '₹6L\\n₹22L',\n",
       " '₹5L\\n₹1Cr',\n",
       " '₹4L\\n₹16L',\n",
       " '₹8L\\n₹15L',\n",
       " '₹5L\\n₹15L',\n",
       " '₹6L\\n₹15L',\n",
       " '₹8L\\n₹20L',\n",
       " '₹4L\\n₹22L',\n",
       " '₹2L\\n₹18L',\n",
       " '₹6L\\n₹17L',\n",
       " '₹10L\\n₹21L',\n",
       " '₹4L\\n₹16L',\n",
       " '₹8L\\n₹13L',\n",
       " '₹9L\\n₹15L',\n",
       " '₹8L\\n₹20L',\n",
       " '₹12T\\n₹63T',\n",
       " '₹4L\\n₹17L',\n",
       " '₹25T\\n₹1L']"
      ]
     },
     "execution_count": 412,
     "metadata": {},
     "output_type": "execute_result"
    }
   ],
   "source": [
    "min_salary_max_salary=[]\n",
    "for i in Salary_tags:\n",
    "    min_salary_max_salary.append(i.text)\n",
    "    \n",
    "min_salary_max_salary\n",
    "    "
   ]
  },
  {
   "cell_type": "code",
   "execution_count": null,
   "metadata": {},
   "outputs": [],
   "source": []
  },
  {
   "cell_type": "code",
   "execution_count": 380,
   "metadata": {},
   "outputs": [
    {
     "data": {
      "text/plain": [
       "[<selenium.webdriver.remote.webelement.WebElement (session=\"d6de4b07a26173f02e70b2f28c44b5ca\", element=\"8d5c7c9e-95b1-42db-98be-0efc95f5a6f0\")>,\n",
       " <selenium.webdriver.remote.webelement.WebElement (session=\"d6de4b07a26173f02e70b2f28c44b5ca\", element=\"cd67b2f7-a57a-4c3b-a096-332e4dc866bd\")>,\n",
       " <selenium.webdriver.remote.webelement.WebElement (session=\"d6de4b07a26173f02e70b2f28c44b5ca\", element=\"a204ae85-ea2f-4c0e-9055-654bb6541447\")>,\n",
       " <selenium.webdriver.remote.webelement.WebElement (session=\"d6de4b07a26173f02e70b2f28c44b5ca\", element=\"0df68c88-24d4-40b9-8227-49bdeeb408cd\")>,\n",
       " <selenium.webdriver.remote.webelement.WebElement (session=\"d6de4b07a26173f02e70b2f28c44b5ca\", element=\"756a6c48-adad-43fc-9978-d280e7920805\")>,\n",
       " <selenium.webdriver.remote.webelement.WebElement (session=\"d6de4b07a26173f02e70b2f28c44b5ca\", element=\"dd8e75b7-8edb-40b3-8bfd-d634e09d0428\")>,\n",
       " <selenium.webdriver.remote.webelement.WebElement (session=\"d6de4b07a26173f02e70b2f28c44b5ca\", element=\"5d5f5443-d6e2-4bc6-b576-7c8c365cc68e\")>,\n",
       " <selenium.webdriver.remote.webelement.WebElement (session=\"d6de4b07a26173f02e70b2f28c44b5ca\", element=\"5625b52d-d54f-4665-9f8e-058c9e69c98b\")>,\n",
       " <selenium.webdriver.remote.webelement.WebElement (session=\"d6de4b07a26173f02e70b2f28c44b5ca\", element=\"e15b3818-b21d-4633-b1a5-a1e80b986c4d\")>,\n",
       " <selenium.webdriver.remote.webelement.WebElement (session=\"d6de4b07a26173f02e70b2f28c44b5ca\", element=\"913f02a8-2b9e-4b9d-ae87-b990fa490492\")>,\n",
       " <selenium.webdriver.remote.webelement.WebElement (session=\"d6de4b07a26173f02e70b2f28c44b5ca\", element=\"e4d287d4-a888-491e-b3ff-d127f4d176ed\")>,\n",
       " <selenium.webdriver.remote.webelement.WebElement (session=\"d6de4b07a26173f02e70b2f28c44b5ca\", element=\"1f49bdf0-7187-42dd-be4f-af3d9a7c0de4\")>,\n",
       " <selenium.webdriver.remote.webelement.WebElement (session=\"d6de4b07a26173f02e70b2f28c44b5ca\", element=\"d5dda78c-10d1-4862-8964-87a5e23937a0\")>,\n",
       " <selenium.webdriver.remote.webelement.WebElement (session=\"d6de4b07a26173f02e70b2f28c44b5ca\", element=\"f0424310-8c19-464a-868f-046268405aeb\")>,\n",
       " <selenium.webdriver.remote.webelement.WebElement (session=\"d6de4b07a26173f02e70b2f28c44b5ca\", element=\"711b374a-e0f6-4c87-842e-72a3caf1a3f6\")>,\n",
       " <selenium.webdriver.remote.webelement.WebElement (session=\"d6de4b07a26173f02e70b2f28c44b5ca\", element=\"d39a1072-497f-474d-8a3a-7c733622e3ec\")>,\n",
       " <selenium.webdriver.remote.webelement.WebElement (session=\"d6de4b07a26173f02e70b2f28c44b5ca\", element=\"f74c0f3b-d6e3-43df-8a11-c5b4ff01cb0c\")>,\n",
       " <selenium.webdriver.remote.webelement.WebElement (session=\"d6de4b07a26173f02e70b2f28c44b5ca\", element=\"9b92a581-5062-4dfe-b5de-fe3fe6d05ce0\")>,\n",
       " <selenium.webdriver.remote.webelement.WebElement (session=\"d6de4b07a26173f02e70b2f28c44b5ca\", element=\"2e2cb297-3cf4-44a7-9774-42b64e2b8381\")>,\n",
       " <selenium.webdriver.remote.webelement.WebElement (session=\"d6de4b07a26173f02e70b2f28c44b5ca\", element=\"48b157f4-7cd9-46a9-b9c4-a65c0972c7f7\")>]"
      ]
     },
     "execution_count": 380,
     "metadata": {},
     "output_type": "execute_result"
    }
   ],
   "source": [
    "# so lets extract all the tags having the AverageSalary\n",
    "\n",
    "Salary_tags = driver.find_elements_by_xpath(\"//div[@class='col-12 col-lg-4 px-lg-0 d-flex align-items-baseline']\")\n",
    "Salary_tags"
   ]
  },
  {
   "cell_type": "code",
   "execution_count": 385,
   "metadata": {},
   "outputs": [
    {
     "data": {
      "text/plain": [
       "['₹6,12,205 /yr',\n",
       " '₹9,00,000 /yr',\n",
       " '₹11,63,336 /yr',\n",
       " '₹12,18,244 /yr',\n",
       " '₹7,39,238 /yr',\n",
       " '₹12,80,000 /yr',\n",
       " '₹8,63,750 /yr',\n",
       " '₹11,10,000 /yr',\n",
       " '₹14,23,677 /yr',\n",
       " '₹13,28,697 /yr',\n",
       " '₹11,42,356 /yr',\n",
       " '₹12,09,040 /yr',\n",
       " '₹14,15,338 /yr',\n",
       " '₹10,22,074 /yr',\n",
       " '₹10,09,021 /yr',\n",
       " '₹10,00,000 /yr',\n",
       " '₹10,55,478 /yr',\n",
       " '₹34,157 /mo',\n",
       " '₹10,54,402 /yr',\n",
       " '₹80,000 /mo']"
      ]
     },
     "execution_count": 385,
     "metadata": {},
     "output_type": "execute_result"
    }
   ],
   "source": [
    "Average_Salary =[]\n",
    "\n",
    "for i in Salary_tags:\n",
    "    Average_Salary.append(i.text.replace('\\n',''))\n",
    "    \n",
    "Average_Salary\n",
    "    "
   ]
  },
  {
   "cell_type": "code",
   "execution_count": 346,
   "metadata": {},
   "outputs": [
    {
     "data": {
      "text/plain": [
       "[<selenium.webdriver.remote.webelement.WebElement (session=\"d6de4b07a26173f02e70b2f28c44b5ca\", element=\"d3eeaaeb-0006-49d3-9759-a36c990c46b3\")>,\n",
       " <selenium.webdriver.remote.webelement.WebElement (session=\"d6de4b07a26173f02e70b2f28c44b5ca\", element=\"7468a7be-046d-42e6-baf7-aff2ce1f0211\")>,\n",
       " <selenium.webdriver.remote.webelement.WebElement (session=\"d6de4b07a26173f02e70b2f28c44b5ca\", element=\"ff21e82f-d6a4-4677-b901-e968328a3e01\")>,\n",
       " <selenium.webdriver.remote.webelement.WebElement (session=\"d6de4b07a26173f02e70b2f28c44b5ca\", element=\"566263bc-1713-423f-b50e-96e6e5a3e183\")>,\n",
       " <selenium.webdriver.remote.webelement.WebElement (session=\"d6de4b07a26173f02e70b2f28c44b5ca\", element=\"8ab112e0-abea-411e-8c63-72b532c159a4\")>,\n",
       " <selenium.webdriver.remote.webelement.WebElement (session=\"d6de4b07a26173f02e70b2f28c44b5ca\", element=\"9fcc02c6-63a9-4f56-b03b-9f450ca17462\")>,\n",
       " <selenium.webdriver.remote.webelement.WebElement (session=\"d6de4b07a26173f02e70b2f28c44b5ca\", element=\"f5742e43-dff9-46f3-9383-3b7f075bc119\")>,\n",
       " <selenium.webdriver.remote.webelement.WebElement (session=\"d6de4b07a26173f02e70b2f28c44b5ca\", element=\"20cb9325-3306-43d1-b7d1-fcbdf4a9274f\")>,\n",
       " <selenium.webdriver.remote.webelement.WebElement (session=\"d6de4b07a26173f02e70b2f28c44b5ca\", element=\"f36b3483-fffe-46dc-b224-50a05991d7dc\")>,\n",
       " <selenium.webdriver.remote.webelement.WebElement (session=\"d6de4b07a26173f02e70b2f28c44b5ca\", element=\"2a726045-d27b-4dfa-bdfc-2810df11b158\")>,\n",
       " <selenium.webdriver.remote.webelement.WebElement (session=\"d6de4b07a26173f02e70b2f28c44b5ca\", element=\"168edc69-e216-4647-8356-fe6b238aeaf0\")>,\n",
       " <selenium.webdriver.remote.webelement.WebElement (session=\"d6de4b07a26173f02e70b2f28c44b5ca\", element=\"eac13bb8-1b4c-468c-b06f-9184aaac29c3\")>,\n",
       " <selenium.webdriver.remote.webelement.WebElement (session=\"d6de4b07a26173f02e70b2f28c44b5ca\", element=\"db0973f4-c66a-4925-b6c7-226da884c73e\")>,\n",
       " <selenium.webdriver.remote.webelement.WebElement (session=\"d6de4b07a26173f02e70b2f28c44b5ca\", element=\"a420f7cf-a3bc-4a52-8379-cb6d2795b5fb\")>,\n",
       " <selenium.webdriver.remote.webelement.WebElement (session=\"d6de4b07a26173f02e70b2f28c44b5ca\", element=\"c07b50ce-0c78-4913-9cff-034a14b185cb\")>,\n",
       " <selenium.webdriver.remote.webelement.WebElement (session=\"d6de4b07a26173f02e70b2f28c44b5ca\", element=\"e5575ded-5f7b-4c44-919f-88669b242684\")>,\n",
       " <selenium.webdriver.remote.webelement.WebElement (session=\"d6de4b07a26173f02e70b2f28c44b5ca\", element=\"48b993f4-d2bb-4fa9-b771-3981a1e6cf04\")>,\n",
       " <selenium.webdriver.remote.webelement.WebElement (session=\"d6de4b07a26173f02e70b2f28c44b5ca\", element=\"89245be4-ae62-41fc-824e-d9408b223cc6\")>,\n",
       " <selenium.webdriver.remote.webelement.WebElement (session=\"d6de4b07a26173f02e70b2f28c44b5ca\", element=\"dad11127-cec3-4e0c-8238-635121f220be\")>,\n",
       " <selenium.webdriver.remote.webelement.WebElement (session=\"d6de4b07a26173f02e70b2f28c44b5ca\", element=\"fe63ee35-362a-42ba-a4a2-5373840533e6\")>]"
      ]
     },
     "execution_count": 346,
     "metadata": {},
     "output_type": "execute_result"
    }
   ],
   "source": [
    "# so lets extract all the tags having the Rating\n",
    "\n",
    "Rating_tags = driver.find_elements_by_xpath(\"//div[@class='d-flex align-items-center mt-xxsm']\")\n",
    "Rating_tags"
   ]
  },
  {
   "cell_type": "code",
   "execution_count": 365,
   "metadata": {},
   "outputs": [
    {
     "data": {
      "text/plain": [
       "['3.9',\n",
       " '3.9',\n",
       " '4.1',\n",
       " '3.9',\n",
       " '4',\n",
       " '3.6',\n",
       " '4.2',\n",
       " '3.6',\n",
       " '3.7',\n",
       " '3.9',\n",
       " '4',\n",
       " '3.8',\n",
       " '3.3',\n",
       " '4',\n",
       " '3.8',\n",
       " '4.1',\n",
       " '4.1',\n",
       " '3.7',\n",
       " '3.6',\n",
       " '4.2']"
      ]
     },
     "execution_count": 365,
     "metadata": {},
     "output_type": "execute_result"
    }
   ],
   "source": [
    "Rating = []\n",
    "\n",
    "for i in Rating_tags:\n",
    "    Rating.append(i.text.replace(\"\\n\",'').replace(\"★\",''))\n",
    "    \n",
    "Rating\n",
    "    "
   ]
  },
  {
   "cell_type": "code",
   "execution_count": 403,
   "metadata": {},
   "outputs": [
    {
     "name": "stdout",
     "output_type": "stream",
     "text": [
      "20 20 20 20\n"
     ]
    }
   ],
   "source": [
    "print(len(company_name),len(max_salary_max_salary),len(Average_Salary),len(Rating))"
   ]
  },
  {
   "cell_type": "code",
   "execution_count": 408,
   "metadata": {},
   "outputs": [],
   "source": [
    "# import pandas as pd\n",
    "jobs = pd.DataFrame({})\n",
    "\n",
    "jobs['company'] = company_name\n",
    "jobs['min_max'] = min_salary_max_salary\n",
    "jobs['salary'] = Average_Salary\n",
    "jobs['Rating'] = Rating"
   ]
  },
  {
   "cell_type": "code",
   "execution_count": 409,
   "metadata": {},
   "outputs": [
    {
     "data": {
      "text/html": [
       "<div>\n",
       "<style scoped>\n",
       "    .dataframe tbody tr th:only-of-type {\n",
       "        vertical-align: middle;\n",
       "    }\n",
       "\n",
       "    .dataframe tbody tr th {\n",
       "        vertical-align: top;\n",
       "    }\n",
       "\n",
       "    .dataframe thead th {\n",
       "        text-align: right;\n",
       "    }\n",
       "</style>\n",
       "<table border=\"1\" class=\"dataframe\">\n",
       "  <thead>\n",
       "    <tr style=\"text-align: right;\">\n",
       "      <th></th>\n",
       "      <th>company</th>\n",
       "      <th>min_max</th>\n",
       "      <th>salary</th>\n",
       "      <th>Rating</th>\n",
       "    </tr>\n",
       "  </thead>\n",
       "  <tbody>\n",
       "    <tr>\n",
       "      <th>0</th>\n",
       "      <td>Tata Consultancy Services</td>\n",
       "      <td>₹3L\\n₹13L</td>\n",
       "      <td>₹6,12,205 /yr</td>\n",
       "      <td>3.9</td>\n",
       "    </tr>\n",
       "    <tr>\n",
       "      <th>1</th>\n",
       "      <td>IBM</td>\n",
       "      <td>₹6L\\n₹27L</td>\n",
       "      <td>₹9,00,000 /yr</td>\n",
       "      <td>3.9</td>\n",
       "    </tr>\n",
       "    <tr>\n",
       "      <th>2</th>\n",
       "      <td>Accenture</td>\n",
       "      <td>₹6L\\n₹22L</td>\n",
       "      <td>₹11,63,336 /yr</td>\n",
       "      <td>4.1</td>\n",
       "    </tr>\n",
       "    <tr>\n",
       "      <th>3</th>\n",
       "      <td>Delhivery</td>\n",
       "      <td>₹5L\\n₹1Cr</td>\n",
       "      <td>₹12,18,244 /yr</td>\n",
       "      <td>3.9</td>\n",
       "    </tr>\n",
       "    <tr>\n",
       "      <th>4</th>\n",
       "      <td>Ericsson-Worldwide</td>\n",
       "      <td>₹4L\\n₹16L</td>\n",
       "      <td>₹7,39,238 /yr</td>\n",
       "      <td>4</td>\n",
       "    </tr>\n",
       "    <tr>\n",
       "      <th>5</th>\n",
       "      <td>UnitedHealth Group</td>\n",
       "      <td>₹8L\\n₹15L</td>\n",
       "      <td>₹12,80,000 /yr</td>\n",
       "      <td>3.6</td>\n",
       "    </tr>\n",
       "    <tr>\n",
       "      <th>6</th>\n",
       "      <td>Valiance Solutions</td>\n",
       "      <td>₹5L\\n₹15L</td>\n",
       "      <td>₹8,63,750 /yr</td>\n",
       "      <td>4.2</td>\n",
       "    </tr>\n",
       "    <tr>\n",
       "      <th>7</th>\n",
       "      <td>EXL Service</td>\n",
       "      <td>₹6L\\n₹15L</td>\n",
       "      <td>₹11,10,000 /yr</td>\n",
       "      <td>3.6</td>\n",
       "    </tr>\n",
       "    <tr>\n",
       "      <th>8</th>\n",
       "      <td>Optum</td>\n",
       "      <td>₹8L\\n₹20L</td>\n",
       "      <td>₹14,23,677 /yr</td>\n",
       "      <td>3.7</td>\n",
       "    </tr>\n",
       "    <tr>\n",
       "      <th>9</th>\n",
       "      <td>Optum Global Solutions</td>\n",
       "      <td>₹4L\\n₹22L</td>\n",
       "      <td>₹13,28,697 /yr</td>\n",
       "      <td>3.9</td>\n",
       "    </tr>\n",
       "    <tr>\n",
       "      <th>10</th>\n",
       "      <td>ZS Associates</td>\n",
       "      <td>₹2L\\n₹18L</td>\n",
       "      <td>₹11,42,356 /yr</td>\n",
       "      <td>4</td>\n",
       "    </tr>\n",
       "    <tr>\n",
       "      <th>11</th>\n",
       "      <td>Innovaccer</td>\n",
       "      <td>₹6L\\n₹17L</td>\n",
       "      <td>₹12,09,040 /yr</td>\n",
       "      <td>3.8</td>\n",
       "    </tr>\n",
       "    <tr>\n",
       "      <th>12</th>\n",
       "      <td>OYO</td>\n",
       "      <td>₹10L\\n₹21L</td>\n",
       "      <td>₹14,15,338 /yr</td>\n",
       "      <td>3.3</td>\n",
       "    </tr>\n",
       "    <tr>\n",
       "      <th>13</th>\n",
       "      <td>Nagarro</td>\n",
       "      <td>₹4L\\n₹16L</td>\n",
       "      <td>₹10,22,074 /yr</td>\n",
       "      <td>4</td>\n",
       "    </tr>\n",
       "    <tr>\n",
       "      <th>14</th>\n",
       "      <td>Cognizant Technology Solutions</td>\n",
       "      <td>₹8L\\n₹13L</td>\n",
       "      <td>₹10,09,021 /yr</td>\n",
       "      <td>3.8</td>\n",
       "    </tr>\n",
       "    <tr>\n",
       "      <th>15</th>\n",
       "      <td>CARS24.com</td>\n",
       "      <td>₹9L\\n₹15L</td>\n",
       "      <td>₹10,00,000 /yr</td>\n",
       "      <td>4.1</td>\n",
       "    </tr>\n",
       "    <tr>\n",
       "      <th>16</th>\n",
       "      <td>dunnhumby</td>\n",
       "      <td>₹8L\\n₹20L</td>\n",
       "      <td>₹10,55,478 /yr</td>\n",
       "      <td>4.1</td>\n",
       "    </tr>\n",
       "    <tr>\n",
       "      <th>17</th>\n",
       "      <td>Vidooly Media Tech</td>\n",
       "      <td>₹12T\\n₹63T</td>\n",
       "      <td>₹34,157 /mo</td>\n",
       "      <td>3.7</td>\n",
       "    </tr>\n",
       "    <tr>\n",
       "      <th>18</th>\n",
       "      <td>Tech Mahindra</td>\n",
       "      <td>₹4L\\n₹17L</td>\n",
       "      <td>₹10,54,402 /yr</td>\n",
       "      <td>3.6</td>\n",
       "    </tr>\n",
       "    <tr>\n",
       "      <th>19</th>\n",
       "      <td>Fresher</td>\n",
       "      <td>₹25T\\n₹1L</td>\n",
       "      <td>₹80,000 /mo</td>\n",
       "      <td>4.2</td>\n",
       "    </tr>\n",
       "  </tbody>\n",
       "</table>\n",
       "</div>"
      ],
      "text/plain": [
       "                           company     min_max          salary Rating\n",
       "0        Tata Consultancy Services   ₹3L\\n₹13L   ₹6,12,205 /yr    3.9\n",
       "1                              IBM   ₹6L\\n₹27L   ₹9,00,000 /yr    3.9\n",
       "2                        Accenture   ₹6L\\n₹22L  ₹11,63,336 /yr    4.1\n",
       "3                        Delhivery   ₹5L\\n₹1Cr  ₹12,18,244 /yr    3.9\n",
       "4               Ericsson-Worldwide   ₹4L\\n₹16L   ₹7,39,238 /yr      4\n",
       "5               UnitedHealth Group   ₹8L\\n₹15L  ₹12,80,000 /yr    3.6\n",
       "6               Valiance Solutions   ₹5L\\n₹15L   ₹8,63,750 /yr    4.2\n",
       "7                      EXL Service   ₹6L\\n₹15L  ₹11,10,000 /yr    3.6\n",
       "8                            Optum   ₹8L\\n₹20L  ₹14,23,677 /yr    3.7\n",
       "9           Optum Global Solutions   ₹4L\\n₹22L  ₹13,28,697 /yr    3.9\n",
       "10                   ZS Associates   ₹2L\\n₹18L  ₹11,42,356 /yr      4\n",
       "11                      Innovaccer   ₹6L\\n₹17L  ₹12,09,040 /yr    3.8\n",
       "12                             OYO  ₹10L\\n₹21L  ₹14,15,338 /yr    3.3\n",
       "13                         Nagarro   ₹4L\\n₹16L  ₹10,22,074 /yr      4\n",
       "14  Cognizant Technology Solutions   ₹8L\\n₹13L  ₹10,09,021 /yr    3.8\n",
       "15                      CARS24.com   ₹9L\\n₹15L  ₹10,00,000 /yr    4.1\n",
       "16                       dunnhumby   ₹8L\\n₹20L  ₹10,55,478 /yr    4.1\n",
       "17              Vidooly Media Tech  ₹12T\\n₹63T     ₹34,157 /mo    3.7\n",
       "18                   Tech Mahindra   ₹4L\\n₹17L  ₹10,54,402 /yr    3.6\n",
       "19                         Fresher   ₹25T\\n₹1L     ₹80,000 /mo    4.2"
      ]
     },
     "execution_count": 409,
     "metadata": {},
     "output_type": "execute_result"
    }
   ],
   "source": [
    "jobs"
   ]
  },
  {
   "cell_type": "code",
   "execution_count": null,
   "metadata": {},
   "outputs": [],
   "source": []
  },
  {
   "cell_type": "markdown",
   "metadata": {},
   "source": [
    "### Q6 : Scrape data of first 100 sunglasses listings on flipkart.com. You have to \n",
    "scrape four attributes:\n",
    "1. Brand\n",
    "2. Product Description\n",
    "3. Price\n",
    "4. Discount %\n",
    "To scrape the data you have to go through following steps:\n",
    "1. Go to flipkart webpage by url https://www.flipkart.com/\n",
    "2. Enter “sunglasses” in the search field where “search for products, brands and \n",
    "more” is written and click the search icon\n",
    "3. after that you will reach to a webpage having a lot of sunglasses. From this page \n",
    "you can scrap the required data as usual.\n",
    "4. after scraping data from the first page, go to the “Next” Button at the bottom of \n",
    "the page , then click on it\n",
    "5. Now scrape data from this page as usual\n",
    "6. repeat this until you get data for 100 sunglasses.\n",
    "Note that all of the above steps have to be done by coding only and not manually.\n"
   ]
  },
  {
   "cell_type": "code",
   "execution_count": 415,
   "metadata": {},
   "outputs": [],
   "source": [
    "import pandas as pd\n",
    "import selenium\n",
    "from selenium import webdriver"
   ]
  },
  {
   "cell_type": "code",
   "execution_count": 430,
   "metadata": {},
   "outputs": [],
   "source": [
    "# lets first to connect the webdriver\n",
    "\n",
    "url = 'https://www.flipkart.com/'\n",
    "driver.get(url)"
   ]
  },
  {
   "cell_type": "code",
   "execution_count": 431,
   "metadata": {},
   "outputs": [
    {
     "data": {
      "text/plain": [
       "<selenium.webdriver.remote.webelement.WebElement (session=\"d6de4b07a26173f02e70b2f28c44b5ca\", element=\"bb1f57d9-a6c7-44e7-9f48-308b59f0ff99\")>"
      ]
     },
     "execution_count": 431,
     "metadata": {},
     "output_type": "execute_result"
    }
   ],
   "source": [
    "search_Shop = driver.find_element_by_name('q')\n",
    "search_Shop"
   ]
  },
  {
   "cell_type": "code",
   "execution_count": 462,
   "metadata": {},
   "outputs": [],
   "source": [
    "search_Shop.send_keys(\"sunglasses\")"
   ]
  },
  {
   "cell_type": "code",
   "execution_count": 463,
   "metadata": {},
   "outputs": [
    {
     "data": {
      "text/plain": [
       "<selenium.webdriver.remote.webelement.WebElement (session=\"d6de4b07a26173f02e70b2f28c44b5ca\", element=\"96c28ada-7ca7-459e-8a2b-23e31a6cbcd5\")>"
      ]
     },
     "execution_count": 463,
     "metadata": {},
     "output_type": "execute_result"
    }
   ],
   "source": [
    "# do click using xpath function\n",
    "search_btn = driver.find_element_by_xpath(\"//button[@class='L0Z3Pu']\")\n",
    "\n",
    "search_btn"
   ]
  },
  {
   "cell_type": "code",
   "execution_count": 464,
   "metadata": {},
   "outputs": [],
   "source": [
    "search_btn.click()"
   ]
  },
  {
   "cell_type": "code",
   "execution_count": 489,
   "metadata": {},
   "outputs": [
    {
     "data": {
      "text/plain": [
       "[<selenium.webdriver.remote.webelement.WebElement (session=\"d6de4b07a26173f02e70b2f28c44b5ca\", element=\"0b3cfcd2-78bd-4333-99d6-ad284bf0bc8d\")>,\n",
       " <selenium.webdriver.remote.webelement.WebElement (session=\"d6de4b07a26173f02e70b2f28c44b5ca\", element=\"862355c0-e9af-4d65-a1fa-4a1db62fea10\")>,\n",
       " <selenium.webdriver.remote.webelement.WebElement (session=\"d6de4b07a26173f02e70b2f28c44b5ca\", element=\"209f732c-9297-45f0-a63d-ab0343634dc6\")>,\n",
       " <selenium.webdriver.remote.webelement.WebElement (session=\"d6de4b07a26173f02e70b2f28c44b5ca\", element=\"7e772d41-bdb6-4f11-83ef-851afb0bd376\")>,\n",
       " <selenium.webdriver.remote.webelement.WebElement (session=\"d6de4b07a26173f02e70b2f28c44b5ca\", element=\"9e7787a7-aa88-4707-a5cc-af0b814cd51a\")>,\n",
       " <selenium.webdriver.remote.webelement.WebElement (session=\"d6de4b07a26173f02e70b2f28c44b5ca\", element=\"398eda85-c356-4fe5-9693-97d6253e1450\")>,\n",
       " <selenium.webdriver.remote.webelement.WebElement (session=\"d6de4b07a26173f02e70b2f28c44b5ca\", element=\"23fe6d53-fe37-4ba9-9d4a-3b9a99f54cc1\")>,\n",
       " <selenium.webdriver.remote.webelement.WebElement (session=\"d6de4b07a26173f02e70b2f28c44b5ca\", element=\"1ab5420f-6fbc-4c5d-902c-4a84771de283\")>,\n",
       " <selenium.webdriver.remote.webelement.WebElement (session=\"d6de4b07a26173f02e70b2f28c44b5ca\", element=\"b3b04a60-3022-47b3-97d0-fbb02d2412f8\")>,\n",
       " <selenium.webdriver.remote.webelement.WebElement (session=\"d6de4b07a26173f02e70b2f28c44b5ca\", element=\"32b90652-2e47-4aa8-ad8e-54d44ad8aa81\")>,\n",
       " <selenium.webdriver.remote.webelement.WebElement (session=\"d6de4b07a26173f02e70b2f28c44b5ca\", element=\"63b5c556-735f-4f09-be57-00ae998825c9\")>,\n",
       " <selenium.webdriver.remote.webelement.WebElement (session=\"d6de4b07a26173f02e70b2f28c44b5ca\", element=\"fe8fc23b-bce3-412c-9fa3-8b7e1d965ae7\")>,\n",
       " <selenium.webdriver.remote.webelement.WebElement (session=\"d6de4b07a26173f02e70b2f28c44b5ca\", element=\"56128566-e90a-468f-8569-76ffd01c3f8d\")>,\n",
       " <selenium.webdriver.remote.webelement.WebElement (session=\"d6de4b07a26173f02e70b2f28c44b5ca\", element=\"17d74caa-b02b-44cd-b53c-e0f3c3bb4fb2\")>,\n",
       " <selenium.webdriver.remote.webelement.WebElement (session=\"d6de4b07a26173f02e70b2f28c44b5ca\", element=\"4d299f2b-dd7c-45ee-a241-d7a6b6e4c519\")>,\n",
       " <selenium.webdriver.remote.webelement.WebElement (session=\"d6de4b07a26173f02e70b2f28c44b5ca\", element=\"1adf9a32-f28b-40e9-a8e0-5b1106c4c55f\")>,\n",
       " <selenium.webdriver.remote.webelement.WebElement (session=\"d6de4b07a26173f02e70b2f28c44b5ca\", element=\"9e952c30-7744-4a73-8a22-ade6a4c9df0c\")>,\n",
       " <selenium.webdriver.remote.webelement.WebElement (session=\"d6de4b07a26173f02e70b2f28c44b5ca\", element=\"52ffd1bf-a028-48de-b504-09f32d8a38fe\")>,\n",
       " <selenium.webdriver.remote.webelement.WebElement (session=\"d6de4b07a26173f02e70b2f28c44b5ca\", element=\"063242cd-431a-471d-80d8-ed18c94d0926\")>,\n",
       " <selenium.webdriver.remote.webelement.WebElement (session=\"d6de4b07a26173f02e70b2f28c44b5ca\", element=\"51baa700-5c30-45d4-be73-d7c5c5777323\")>,\n",
       " <selenium.webdriver.remote.webelement.WebElement (session=\"d6de4b07a26173f02e70b2f28c44b5ca\", element=\"ea5622e1-9956-4d3c-9ae3-ec04de1441be\")>,\n",
       " <selenium.webdriver.remote.webelement.WebElement (session=\"d6de4b07a26173f02e70b2f28c44b5ca\", element=\"c8445f07-0bbd-473b-9f50-9e6701818cd5\")>,\n",
       " <selenium.webdriver.remote.webelement.WebElement (session=\"d6de4b07a26173f02e70b2f28c44b5ca\", element=\"62997bd6-f703-4f3e-8506-268f8bfa1edf\")>,\n",
       " <selenium.webdriver.remote.webelement.WebElement (session=\"d6de4b07a26173f02e70b2f28c44b5ca\", element=\"4428fd6f-b257-4029-8d55-ee0e2f897e34\")>,\n",
       " <selenium.webdriver.remote.webelement.WebElement (session=\"d6de4b07a26173f02e70b2f28c44b5ca\", element=\"569206cc-87f3-4f08-b986-2a02580dd1a4\")>,\n",
       " <selenium.webdriver.remote.webelement.WebElement (session=\"d6de4b07a26173f02e70b2f28c44b5ca\", element=\"6ede6745-6f38-45d0-9d8c-2abf1ea16222\")>,\n",
       " <selenium.webdriver.remote.webelement.WebElement (session=\"d6de4b07a26173f02e70b2f28c44b5ca\", element=\"abd81268-c8b7-4f10-9890-e6c2d4a98988\")>,\n",
       " <selenium.webdriver.remote.webelement.WebElement (session=\"d6de4b07a26173f02e70b2f28c44b5ca\", element=\"09900fd9-31f8-4fd6-b697-1073f6245ff3\")>,\n",
       " <selenium.webdriver.remote.webelement.WebElement (session=\"d6de4b07a26173f02e70b2f28c44b5ca\", element=\"b26ac3e1-ea23-44e1-90f8-ad608222493c\")>,\n",
       " <selenium.webdriver.remote.webelement.WebElement (session=\"d6de4b07a26173f02e70b2f28c44b5ca\", element=\"2084edae-e7f6-46b5-a89d-185094c29c7f\")>,\n",
       " <selenium.webdriver.remote.webelement.WebElement (session=\"d6de4b07a26173f02e70b2f28c44b5ca\", element=\"015fe0ae-56fe-41f8-880c-dc5232cfe020\")>,\n",
       " <selenium.webdriver.remote.webelement.WebElement (session=\"d6de4b07a26173f02e70b2f28c44b5ca\", element=\"0155d5a6-2681-43d0-a257-0e5fcdecb02a\")>,\n",
       " <selenium.webdriver.remote.webelement.WebElement (session=\"d6de4b07a26173f02e70b2f28c44b5ca\", element=\"192888a4-8415-49d3-9dcd-4b51d1ea9f19\")>,\n",
       " <selenium.webdriver.remote.webelement.WebElement (session=\"d6de4b07a26173f02e70b2f28c44b5ca\", element=\"d824d19b-fd09-415d-96cd-4381fa2d9ead\")>,\n",
       " <selenium.webdriver.remote.webelement.WebElement (session=\"d6de4b07a26173f02e70b2f28c44b5ca\", element=\"33a56d9c-8475-4451-bb9b-b625f83a5092\")>,\n",
       " <selenium.webdriver.remote.webelement.WebElement (session=\"d6de4b07a26173f02e70b2f28c44b5ca\", element=\"dbe6ab31-fc95-4373-9454-33e8991acff8\")>,\n",
       " <selenium.webdriver.remote.webelement.WebElement (session=\"d6de4b07a26173f02e70b2f28c44b5ca\", element=\"73e066de-5e92-4e09-815d-67cfad2dc6f8\")>,\n",
       " <selenium.webdriver.remote.webelement.WebElement (session=\"d6de4b07a26173f02e70b2f28c44b5ca\", element=\"178e0170-7519-4512-b3df-282277ccabc7\")>,\n",
       " <selenium.webdriver.remote.webelement.WebElement (session=\"d6de4b07a26173f02e70b2f28c44b5ca\", element=\"826c2d75-d3de-4f0d-88cb-30b0822a82e0\")>,\n",
       " <selenium.webdriver.remote.webelement.WebElement (session=\"d6de4b07a26173f02e70b2f28c44b5ca\", element=\"c7f5be72-d2ca-4503-9c36-ff79178513a0\")>]"
      ]
     },
     "execution_count": 489,
     "metadata": {},
     "output_type": "execute_result"
    }
   ],
   "source": [
    "# so lets extract ll the tags having the Brand names\n",
    "Brand_tags = driver.find_elements_by_xpath(\"//div[@class='_2WkVRV']\")\n",
    "Brand_tags"
   ]
  },
  {
   "cell_type": "code",
   "execution_count": 490,
   "metadata": {},
   "outputs": [
    {
     "data": {
      "text/plain": [
       "['Wrogn',\n",
       " 'Villain',\n",
       " 'Elligator',\n",
       " 'Fastrack',\n",
       " 'Fastrack',\n",
       " 'Fastrack',\n",
       " 'kingsunglasses',\n",
       " 'HAMIW COLLECTION',\n",
       " 'PIRASO',\n",
       " 'kingsunglasses',\n",
       " 'Fastrack',\n",
       " 'elegante',\n",
       " 'PIRASO',\n",
       " 'kingsunglasses',\n",
       " 'Fastrack',\n",
       " 'ROYAL SON',\n",
       " 'Fastrack',\n",
       " 'Fastrack',\n",
       " 'ROZZETTA CRAFT',\n",
       " 'elegante',\n",
       " 'Fastrack',\n",
       " 'Elligator',\n",
       " 'kingsunglasses',\n",
       " 'VINCENT CHASE',\n",
       " 'ROZZETTA CRAFT',\n",
       " 'PHENOMENAL',\n",
       " 'Silver Kartz',\n",
       " 'VINCENT CHASE',\n",
       " 'hipe',\n",
       " 'Singco India',\n",
       " 'Fastrack',\n",
       " 'Wrogn',\n",
       " 'Singco India',\n",
       " 'ROZZETTA CRAFT',\n",
       " 'Fastrack',\n",
       " 'ROYAL SON',\n",
       " 'kingsunglasses',\n",
       " 'Elligator',\n",
       " 'DEIXELS',\n",
       " 'ROYAL SON']"
      ]
     },
     "execution_count": 490,
     "metadata": {},
     "output_type": "execute_result"
    }
   ],
   "source": [
    "Brand = []\n",
    "\n",
    "for i in Brand_tags:\n",
    "    Brand.append(i.text)\n",
    "    \n",
    "Brand\n",
    "    "
   ]
  },
  {
   "cell_type": "code",
   "execution_count": 492,
   "metadata": {},
   "outputs": [
    {
     "data": {
      "text/plain": [
       "[<selenium.webdriver.remote.webelement.WebElement (session=\"d6de4b07a26173f02e70b2f28c44b5ca\", element=\"41506f19-5cd1-4695-a3c6-9cddffe2267e\")>,\n",
       " <selenium.webdriver.remote.webelement.WebElement (session=\"d6de4b07a26173f02e70b2f28c44b5ca\", element=\"ded6b7cf-6454-40aa-a250-a00816c1d8d2\")>,\n",
       " <selenium.webdriver.remote.webelement.WebElement (session=\"d6de4b07a26173f02e70b2f28c44b5ca\", element=\"86192b39-e9b5-480b-b59d-a5adb07e67c2\")>,\n",
       " <selenium.webdriver.remote.webelement.WebElement (session=\"d6de4b07a26173f02e70b2f28c44b5ca\", element=\"a7bac314-6b0e-4525-9c11-b8875f467b2f\")>,\n",
       " <selenium.webdriver.remote.webelement.WebElement (session=\"d6de4b07a26173f02e70b2f28c44b5ca\", element=\"843c94be-f7ed-49fa-bdcd-8c9b8c3b9593\")>,\n",
       " <selenium.webdriver.remote.webelement.WebElement (session=\"d6de4b07a26173f02e70b2f28c44b5ca\", element=\"cb253ef8-253e-475c-b6c1-5c1e32ae27d5\")>,\n",
       " <selenium.webdriver.remote.webelement.WebElement (session=\"d6de4b07a26173f02e70b2f28c44b5ca\", element=\"fe494367-8796-4b1c-acb6-b4023db04d56\")>,\n",
       " <selenium.webdriver.remote.webelement.WebElement (session=\"d6de4b07a26173f02e70b2f28c44b5ca\", element=\"7e6d8b3a-70d6-4a5c-9642-b8e9d6f87bd5\")>,\n",
       " <selenium.webdriver.remote.webelement.WebElement (session=\"d6de4b07a26173f02e70b2f28c44b5ca\", element=\"37ab518a-16a0-4c93-aaa1-8209bb057539\")>,\n",
       " <selenium.webdriver.remote.webelement.WebElement (session=\"d6de4b07a26173f02e70b2f28c44b5ca\", element=\"29af30f8-2ef2-4597-8781-122af6dbe7a7\")>,\n",
       " <selenium.webdriver.remote.webelement.WebElement (session=\"d6de4b07a26173f02e70b2f28c44b5ca\", element=\"b32a673c-5e4e-4d3c-adf0-6dc5209f6189\")>,\n",
       " <selenium.webdriver.remote.webelement.WebElement (session=\"d6de4b07a26173f02e70b2f28c44b5ca\", element=\"25219baf-9ff4-4509-8c0e-a87b6228ae5e\")>,\n",
       " <selenium.webdriver.remote.webelement.WebElement (session=\"d6de4b07a26173f02e70b2f28c44b5ca\", element=\"911714b3-18ce-4c8c-b491-a88cc29e16b4\")>,\n",
       " <selenium.webdriver.remote.webelement.WebElement (session=\"d6de4b07a26173f02e70b2f28c44b5ca\", element=\"64f259cc-7aad-4f4e-81c1-be0dd546beff\")>,\n",
       " <selenium.webdriver.remote.webelement.WebElement (session=\"d6de4b07a26173f02e70b2f28c44b5ca\", element=\"7b76d3ff-49bb-4de9-8421-c77218ad2111\")>,\n",
       " <selenium.webdriver.remote.webelement.WebElement (session=\"d6de4b07a26173f02e70b2f28c44b5ca\", element=\"a48adbd3-0702-4961-9bfb-4e5d405520c8\")>,\n",
       " <selenium.webdriver.remote.webelement.WebElement (session=\"d6de4b07a26173f02e70b2f28c44b5ca\", element=\"23bd585e-d56b-4871-a58a-6b56500578a9\")>,\n",
       " <selenium.webdriver.remote.webelement.WebElement (session=\"d6de4b07a26173f02e70b2f28c44b5ca\", element=\"ed1f7b8e-e59f-4b03-92bf-adcaab008bfa\")>,\n",
       " <selenium.webdriver.remote.webelement.WebElement (session=\"d6de4b07a26173f02e70b2f28c44b5ca\", element=\"60abe3f8-5c9c-4796-82bd-530d54cbd1ae\")>,\n",
       " <selenium.webdriver.remote.webelement.WebElement (session=\"d6de4b07a26173f02e70b2f28c44b5ca\", element=\"7c652fec-a52c-42f4-b09b-c3a0bb59dfec\")>,\n",
       " <selenium.webdriver.remote.webelement.WebElement (session=\"d6de4b07a26173f02e70b2f28c44b5ca\", element=\"7e1e9da1-2b33-4b82-a9ea-b714ad2c949a\")>,\n",
       " <selenium.webdriver.remote.webelement.WebElement (session=\"d6de4b07a26173f02e70b2f28c44b5ca\", element=\"3f80bb78-f31f-40f6-9547-00c0f1475358\")>,\n",
       " <selenium.webdriver.remote.webelement.WebElement (session=\"d6de4b07a26173f02e70b2f28c44b5ca\", element=\"7e43961d-91d0-4d8a-b7e5-950bc84dc2b5\")>,\n",
       " <selenium.webdriver.remote.webelement.WebElement (session=\"d6de4b07a26173f02e70b2f28c44b5ca\", element=\"057e4479-ef84-4997-9aaf-d6804382e2b9\")>,\n",
       " <selenium.webdriver.remote.webelement.WebElement (session=\"d6de4b07a26173f02e70b2f28c44b5ca\", element=\"5a63ba9e-2121-4bbe-9005-798defd838eb\")>,\n",
       " <selenium.webdriver.remote.webelement.WebElement (session=\"d6de4b07a26173f02e70b2f28c44b5ca\", element=\"ee62ee58-7510-463e-93cd-f8d185e440c3\")>,\n",
       " <selenium.webdriver.remote.webelement.WebElement (session=\"d6de4b07a26173f02e70b2f28c44b5ca\", element=\"c93ab517-c71d-4757-aaf1-2171c2ba80ea\")>,\n",
       " <selenium.webdriver.remote.webelement.WebElement (session=\"d6de4b07a26173f02e70b2f28c44b5ca\", element=\"194efef9-d1d0-49eb-ac4a-c9ea2536b7dd\")>,\n",
       " <selenium.webdriver.remote.webelement.WebElement (session=\"d6de4b07a26173f02e70b2f28c44b5ca\", element=\"7f012d8e-cbc8-4008-8c01-43f746990f46\")>,\n",
       " <selenium.webdriver.remote.webelement.WebElement (session=\"d6de4b07a26173f02e70b2f28c44b5ca\", element=\"2c1c7f1a-9e49-461d-919f-3c03a3892195\")>,\n",
       " <selenium.webdriver.remote.webelement.WebElement (session=\"d6de4b07a26173f02e70b2f28c44b5ca\", element=\"ae52a146-afd0-46d0-b513-fefba1a12e10\")>,\n",
       " <selenium.webdriver.remote.webelement.WebElement (session=\"d6de4b07a26173f02e70b2f28c44b5ca\", element=\"e3a265f4-7f22-48b2-bb5a-f505064a573e\")>,\n",
       " <selenium.webdriver.remote.webelement.WebElement (session=\"d6de4b07a26173f02e70b2f28c44b5ca\", element=\"416236ff-c280-4cc7-89ff-a57878e567c7\")>,\n",
       " <selenium.webdriver.remote.webelement.WebElement (session=\"d6de4b07a26173f02e70b2f28c44b5ca\", element=\"292c4b9e-adb4-4b57-920c-824e04caadcc\")>,\n",
       " <selenium.webdriver.remote.webelement.WebElement (session=\"d6de4b07a26173f02e70b2f28c44b5ca\", element=\"504c14b0-8785-458e-af97-5230b57e7ebf\")>,\n",
       " <selenium.webdriver.remote.webelement.WebElement (session=\"d6de4b07a26173f02e70b2f28c44b5ca\", element=\"a1b09091-b00e-48fa-bb41-13f6b8d17164\")>,\n",
       " <selenium.webdriver.remote.webelement.WebElement (session=\"d6de4b07a26173f02e70b2f28c44b5ca\", element=\"216d3ab5-f1eb-4275-b0fd-60ff94a73b64\")>,\n",
       " <selenium.webdriver.remote.webelement.WebElement (session=\"d6de4b07a26173f02e70b2f28c44b5ca\", element=\"ab658eb3-258b-46c0-9ea3-a99110a87431\")>,\n",
       " <selenium.webdriver.remote.webelement.WebElement (session=\"d6de4b07a26173f02e70b2f28c44b5ca\", element=\"059c3958-030b-4b03-ba33-a6a6442ef868\")>]"
      ]
     },
     "execution_count": 492,
     "metadata": {},
     "output_type": "execute_result"
    }
   ],
   "source": [
    "# Product Description\n",
    "\n",
    "Description_tags = driver.find_elements_by_xpath(\"//a[@class='IRpwTa']\")\n",
    "\n",
    "Description_tags"
   ]
  },
  {
   "cell_type": "code",
   "execution_count": 496,
   "metadata": {},
   "outputs": [
    {
     "data": {
      "text/plain": [
       "['Mirrored Wayfarer Sunglasses (51)',\n",
       " 'Others Wayfarer Sunglasses (Free Size)',\n",
       " 'UV Protection Round Sunglasses (54)',\n",
       " 'Gradient, UV Protection Wayfarer Sunglasses (Free Size)',\n",
       " 'UV Protection Wayfarer Sunglasses (Free Size)',\n",
       " 'UV Protection Rectangular Sunglasses (Free Size)',\n",
       " 'Mirrored, UV Protection Wayfarer Sunglasses (Free Size)',\n",
       " 'UV Protection Wayfarer, Sports, Shield, Rectangular, Re...',\n",
       " 'UV Protection Aviator Sunglasses (54)',\n",
       " 'Mirrored, UV Protection Wayfarer Sunglasses (Free Size)',\n",
       " 'UV Protection Aviator Sunglasses (58)',\n",
       " 'Mirrored Round Sunglasses (Free Size)',\n",
       " 'UV Protection Aviator Sunglasses (54)',\n",
       " 'UV Protection Rectangular Sunglasses (Free Size)',\n",
       " 'UV Protection Aviator Sunglasses (Free Size)',\n",
       " 'Polarized, UV Protection Round Sunglasses (49)',\n",
       " 'UV Protection Aviator Sunglasses (58)',\n",
       " 'UV Protection Wayfarer Sunglasses (56)',\n",
       " 'UV Protection Retro Square Sunglasses (Free Size)',\n",
       " 'UV Protection Oval Sunglasses (Free Size)',\n",
       " 'UV Protection Wayfarer Sunglasses (Free Size)',\n",
       " 'UV Protection Round Sunglasses (54)',\n",
       " 'UV Protection Round Sunglasses (54)',\n",
       " 'UV Protection, Gradient Rectangular Sunglasses (Free Si...',\n",
       " 'UV Protection Retro Square Sunglasses (Free Size)',\n",
       " 'UV Protection Wayfarer Sunglasses (Free Size)',\n",
       " 'Polarized Retro Square Sunglasses (54)',\n",
       " 'Mirrored, UV Protection, Gradient Round Sunglasses (55)',\n",
       " 'UV Protection, Riding Glasses, Others Aviator, Wayfarer...',\n",
       " 'Gradient, UV Protection Wayfarer Sunglasses (Free Size)',\n",
       " 'UV Protection Aviator Sunglasses (60)',\n",
       " 'UV Protection Aviator Sunglasses (Free Size)',\n",
       " 'UV Protection, Riding Glasses Rectangular Sunglasses (F...',\n",
       " 'UV Protection Aviator Sunglasses (58)',\n",
       " 'UV Protection Over-sized Sunglasses (65)',\n",
       " 'UV Protection Rectangular Sunglasses (55)',\n",
       " 'UV Protection, Riding Glasses Rectangular, Retro Square...',\n",
       " 'Polarized, UV Protection, Riding Glasses Wayfarer Sungl...',\n",
       " 'Polarized, UV Protection Rectangular Sunglasses (59)']"
      ]
     },
     "execution_count": 496,
     "metadata": {},
     "output_type": "execute_result"
    }
   ],
   "source": [
    "Product_Description = []\n",
    "\n",
    "for i in Description_tags:\n",
    "    Product_Description.append(i.text)\n",
    "    \n",
    "Product_Description\n",
    "    "
   ]
  },
  {
   "cell_type": "code",
   "execution_count": 499,
   "metadata": {},
   "outputs": [
    {
     "data": {
      "text/plain": [
       "[<selenium.webdriver.remote.webelement.WebElement (session=\"d6de4b07a26173f02e70b2f28c44b5ca\", element=\"b30679fc-d9ae-4d9e-96f2-a994de151422\")>,\n",
       " <selenium.webdriver.remote.webelement.WebElement (session=\"d6de4b07a26173f02e70b2f28c44b5ca\", element=\"4a965031-85ce-4e84-994f-78e6fd2020ed\")>,\n",
       " <selenium.webdriver.remote.webelement.WebElement (session=\"d6de4b07a26173f02e70b2f28c44b5ca\", element=\"4d500374-a458-474d-845b-fea6b58d63dd\")>,\n",
       " <selenium.webdriver.remote.webelement.WebElement (session=\"d6de4b07a26173f02e70b2f28c44b5ca\", element=\"a4e82339-cbce-4669-a1d1-a9ba154cb29f\")>,\n",
       " <selenium.webdriver.remote.webelement.WebElement (session=\"d6de4b07a26173f02e70b2f28c44b5ca\", element=\"fa5a1564-98f3-4d4e-958e-289c2bd6a8c2\")>,\n",
       " <selenium.webdriver.remote.webelement.WebElement (session=\"d6de4b07a26173f02e70b2f28c44b5ca\", element=\"c05fcbbf-b5f9-4e20-9a6a-957d6d41ed85\")>,\n",
       " <selenium.webdriver.remote.webelement.WebElement (session=\"d6de4b07a26173f02e70b2f28c44b5ca\", element=\"1240263e-18d4-4691-867e-1c56f8979860\")>,\n",
       " <selenium.webdriver.remote.webelement.WebElement (session=\"d6de4b07a26173f02e70b2f28c44b5ca\", element=\"61f4a85c-76c8-4e7e-a948-da8bf3a5bca5\")>,\n",
       " <selenium.webdriver.remote.webelement.WebElement (session=\"d6de4b07a26173f02e70b2f28c44b5ca\", element=\"8dc143a7-8afe-45b3-b5a4-dc2ff35515a4\")>,\n",
       " <selenium.webdriver.remote.webelement.WebElement (session=\"d6de4b07a26173f02e70b2f28c44b5ca\", element=\"b5e54d11-e7f6-462c-8b35-d4fd2cff2290\")>,\n",
       " <selenium.webdriver.remote.webelement.WebElement (session=\"d6de4b07a26173f02e70b2f28c44b5ca\", element=\"a77a05cb-efe9-4aae-9be4-d137b902c4e9\")>,\n",
       " <selenium.webdriver.remote.webelement.WebElement (session=\"d6de4b07a26173f02e70b2f28c44b5ca\", element=\"69129de1-6105-404b-a4b4-4272cf67b05a\")>,\n",
       " <selenium.webdriver.remote.webelement.WebElement (session=\"d6de4b07a26173f02e70b2f28c44b5ca\", element=\"a377f2d4-bb48-4eb4-828f-b6c1d32413bc\")>,\n",
       " <selenium.webdriver.remote.webelement.WebElement (session=\"d6de4b07a26173f02e70b2f28c44b5ca\", element=\"dd748be6-f3de-4837-99a8-dbda56c5bdd2\")>,\n",
       " <selenium.webdriver.remote.webelement.WebElement (session=\"d6de4b07a26173f02e70b2f28c44b5ca\", element=\"2dbf1d8f-db04-4ac3-b687-f74ad3ea8618\")>,\n",
       " <selenium.webdriver.remote.webelement.WebElement (session=\"d6de4b07a26173f02e70b2f28c44b5ca\", element=\"55fd8c61-e16a-48b6-9a53-48d9ca0239af\")>,\n",
       " <selenium.webdriver.remote.webelement.WebElement (session=\"d6de4b07a26173f02e70b2f28c44b5ca\", element=\"127bd46c-2fb8-459b-b990-3e3355e28c20\")>,\n",
       " <selenium.webdriver.remote.webelement.WebElement (session=\"d6de4b07a26173f02e70b2f28c44b5ca\", element=\"e18a2a52-322a-4a90-9346-f5b9177a94ae\")>,\n",
       " <selenium.webdriver.remote.webelement.WebElement (session=\"d6de4b07a26173f02e70b2f28c44b5ca\", element=\"448a25a6-90d1-4616-bcc4-6323d2d663cc\")>,\n",
       " <selenium.webdriver.remote.webelement.WebElement (session=\"d6de4b07a26173f02e70b2f28c44b5ca\", element=\"064b9085-9f50-442a-b51d-457c3400246c\")>,\n",
       " <selenium.webdriver.remote.webelement.WebElement (session=\"d6de4b07a26173f02e70b2f28c44b5ca\", element=\"455412ed-43b1-47ec-a9da-55e2db2f5432\")>,\n",
       " <selenium.webdriver.remote.webelement.WebElement (session=\"d6de4b07a26173f02e70b2f28c44b5ca\", element=\"43b01514-581d-40bf-a872-9d05dcf7803a\")>,\n",
       " <selenium.webdriver.remote.webelement.WebElement (session=\"d6de4b07a26173f02e70b2f28c44b5ca\", element=\"3e8fc7e3-acb0-44a8-9b87-52d4ff203a03\")>,\n",
       " <selenium.webdriver.remote.webelement.WebElement (session=\"d6de4b07a26173f02e70b2f28c44b5ca\", element=\"ab92135d-5d76-4d85-99bf-2f1dce6c4f12\")>,\n",
       " <selenium.webdriver.remote.webelement.WebElement (session=\"d6de4b07a26173f02e70b2f28c44b5ca\", element=\"f7aa0d1d-0977-4b11-96e6-74b1bfed8ed1\")>,\n",
       " <selenium.webdriver.remote.webelement.WebElement (session=\"d6de4b07a26173f02e70b2f28c44b5ca\", element=\"2789072d-cf6b-4954-9534-b6fc9f549b0a\")>,\n",
       " <selenium.webdriver.remote.webelement.WebElement (session=\"d6de4b07a26173f02e70b2f28c44b5ca\", element=\"9dd4b039-375a-4bfd-9eab-540430758d03\")>,\n",
       " <selenium.webdriver.remote.webelement.WebElement (session=\"d6de4b07a26173f02e70b2f28c44b5ca\", element=\"662389d1-68f5-465a-8f37-189e75d0895c\")>,\n",
       " <selenium.webdriver.remote.webelement.WebElement (session=\"d6de4b07a26173f02e70b2f28c44b5ca\", element=\"c0e47e0a-abc3-408d-9e03-4fbc970929a3\")>,\n",
       " <selenium.webdriver.remote.webelement.WebElement (session=\"d6de4b07a26173f02e70b2f28c44b5ca\", element=\"baed9571-3987-4a19-9763-7c92fefc466f\")>,\n",
       " <selenium.webdriver.remote.webelement.WebElement (session=\"d6de4b07a26173f02e70b2f28c44b5ca\", element=\"a7409426-feb1-4461-a49c-38adaf22daf9\")>,\n",
       " <selenium.webdriver.remote.webelement.WebElement (session=\"d6de4b07a26173f02e70b2f28c44b5ca\", element=\"8b8b6b81-476e-41b2-9661-98cb8a4536e6\")>,\n",
       " <selenium.webdriver.remote.webelement.WebElement (session=\"d6de4b07a26173f02e70b2f28c44b5ca\", element=\"bced00be-8820-4770-9a3f-d6811c2710c4\")>,\n",
       " <selenium.webdriver.remote.webelement.WebElement (session=\"d6de4b07a26173f02e70b2f28c44b5ca\", element=\"68ad4a9f-a19d-4760-8f2c-0256737bc33a\")>,\n",
       " <selenium.webdriver.remote.webelement.WebElement (session=\"d6de4b07a26173f02e70b2f28c44b5ca\", element=\"94be89b3-28d7-4f70-94f5-5451485e5b13\")>,\n",
       " <selenium.webdriver.remote.webelement.WebElement (session=\"d6de4b07a26173f02e70b2f28c44b5ca\", element=\"7a68ca62-1134-4ef9-9407-144f10976757\")>,\n",
       " <selenium.webdriver.remote.webelement.WebElement (session=\"d6de4b07a26173f02e70b2f28c44b5ca\", element=\"430ae148-2d46-4178-a9f8-0ba03b3a0ae9\")>,\n",
       " <selenium.webdriver.remote.webelement.WebElement (session=\"d6de4b07a26173f02e70b2f28c44b5ca\", element=\"a1760fa3-1672-4eaf-9f45-714776ae9c87\")>,\n",
       " <selenium.webdriver.remote.webelement.WebElement (session=\"d6de4b07a26173f02e70b2f28c44b5ca\", element=\"55aa8a23-f343-4e70-90cc-dc6fe4c49b35\")>,\n",
       " <selenium.webdriver.remote.webelement.WebElement (session=\"d6de4b07a26173f02e70b2f28c44b5ca\", element=\"7ea419fc-c5aa-4428-801f-e97c958a31bb\")>]"
      ]
     },
     "execution_count": 499,
     "metadata": {},
     "output_type": "execute_result"
    }
   ],
   "source": [
    "# Total_price\n",
    "\n",
    "price_tags = driver.find_elements_by_xpath(\"//div[@class='_30jeq3']\")\n",
    "\n",
    "price_tags"
   ]
  },
  {
   "cell_type": "code",
   "execution_count": 500,
   "metadata": {},
   "outputs": [
    {
     "data": {
      "text/plain": [
       "['₹739',\n",
       " '₹549',\n",
       " '₹295',\n",
       " '₹455',\n",
       " '₹669',\n",
       " '₹509',\n",
       " '₹299',\n",
       " '₹209',\n",
       " '₹225',\n",
       " '₹299',\n",
       " '₹969',\n",
       " '₹379',\n",
       " '₹225',\n",
       " '₹210',\n",
       " '₹539',\n",
       " '₹664',\n",
       " '₹949',\n",
       " '₹599',\n",
       " '₹499',\n",
       " '₹426',\n",
       " '₹599',\n",
       " '₹331',\n",
       " '₹225',\n",
       " '₹799',\n",
       " '₹404',\n",
       " '₹379',\n",
       " '₹246',\n",
       " '₹799',\n",
       " '₹210',\n",
       " '₹203',\n",
       " '₹599',\n",
       " '₹1,009',\n",
       " '₹334',\n",
       " '₹426',\n",
       " '₹969',\n",
       " '₹699',\n",
       " '₹349',\n",
       " '₹398',\n",
       " '₹224',\n",
       " '₹664']"
      ]
     },
     "execution_count": 500,
     "metadata": {},
     "output_type": "execute_result"
    }
   ],
   "source": [
    "Total_price = []\n",
    "\n",
    "for i in price_tags:\n",
    "    Total_price.append(i.text)\n",
    "    \n",
    "Total_price"
   ]
  },
  {
   "cell_type": "code",
   "execution_count": 501,
   "metadata": {},
   "outputs": [
    {
     "data": {
      "text/plain": [
       "[<selenium.webdriver.remote.webelement.WebElement (session=\"d6de4b07a26173f02e70b2f28c44b5ca\", element=\"8074f25b-0583-4ae6-8d8f-e05fb71f9f76\")>,\n",
       " <selenium.webdriver.remote.webelement.WebElement (session=\"d6de4b07a26173f02e70b2f28c44b5ca\", element=\"cc3d4b83-8c03-48f9-b049-2dae18a4c965\")>,\n",
       " <selenium.webdriver.remote.webelement.WebElement (session=\"d6de4b07a26173f02e70b2f28c44b5ca\", element=\"30b6f6e8-8c62-4e00-9abd-836ecaaf3a87\")>,\n",
       " <selenium.webdriver.remote.webelement.WebElement (session=\"d6de4b07a26173f02e70b2f28c44b5ca\", element=\"c04c39fb-9790-4743-afcd-c01cd0553340\")>,\n",
       " <selenium.webdriver.remote.webelement.WebElement (session=\"d6de4b07a26173f02e70b2f28c44b5ca\", element=\"0365f148-d938-464f-a36c-0a56e528c1a3\")>,\n",
       " <selenium.webdriver.remote.webelement.WebElement (session=\"d6de4b07a26173f02e70b2f28c44b5ca\", element=\"95fee794-8bde-4f1d-9ff9-ee5a40fb94ae\")>,\n",
       " <selenium.webdriver.remote.webelement.WebElement (session=\"d6de4b07a26173f02e70b2f28c44b5ca\", element=\"c3fdebe8-a4af-4186-9890-d7a61e5fbfd3\")>,\n",
       " <selenium.webdriver.remote.webelement.WebElement (session=\"d6de4b07a26173f02e70b2f28c44b5ca\", element=\"fcb6baf2-3d66-4f22-bae9-7faa2a41b05e\")>,\n",
       " <selenium.webdriver.remote.webelement.WebElement (session=\"d6de4b07a26173f02e70b2f28c44b5ca\", element=\"96f7c198-f679-4a8b-ad7a-8db3aeeaeddb\")>,\n",
       " <selenium.webdriver.remote.webelement.WebElement (session=\"d6de4b07a26173f02e70b2f28c44b5ca\", element=\"66fd4c63-14f9-409b-904d-bc1de55b2368\")>,\n",
       " <selenium.webdriver.remote.webelement.WebElement (session=\"d6de4b07a26173f02e70b2f28c44b5ca\", element=\"6435958c-2322-4f12-8aa3-817185f134fa\")>,\n",
       " <selenium.webdriver.remote.webelement.WebElement (session=\"d6de4b07a26173f02e70b2f28c44b5ca\", element=\"a480bee0-a714-47c8-bc11-05564e3c344b\")>,\n",
       " <selenium.webdriver.remote.webelement.WebElement (session=\"d6de4b07a26173f02e70b2f28c44b5ca\", element=\"85ace1cd-0297-42b6-a42f-215f3cfb14ae\")>,\n",
       " <selenium.webdriver.remote.webelement.WebElement (session=\"d6de4b07a26173f02e70b2f28c44b5ca\", element=\"5b88074c-907d-48b3-8026-88620fc9303f\")>,\n",
       " <selenium.webdriver.remote.webelement.WebElement (session=\"d6de4b07a26173f02e70b2f28c44b5ca\", element=\"94440cfb-7134-4cd2-a6c5-8b4c28340cf5\")>,\n",
       " <selenium.webdriver.remote.webelement.WebElement (session=\"d6de4b07a26173f02e70b2f28c44b5ca\", element=\"3cc80340-1997-494f-a4bc-f658b6dcedb1\")>,\n",
       " <selenium.webdriver.remote.webelement.WebElement (session=\"d6de4b07a26173f02e70b2f28c44b5ca\", element=\"630dc28b-2c91-4783-a4bc-a27e572ca7ff\")>,\n",
       " <selenium.webdriver.remote.webelement.WebElement (session=\"d6de4b07a26173f02e70b2f28c44b5ca\", element=\"29e3f9c9-093e-45ec-9760-53fcb795e7a2\")>,\n",
       " <selenium.webdriver.remote.webelement.WebElement (session=\"d6de4b07a26173f02e70b2f28c44b5ca\", element=\"1345d5cb-15af-4925-a687-2db514a01f82\")>,\n",
       " <selenium.webdriver.remote.webelement.WebElement (session=\"d6de4b07a26173f02e70b2f28c44b5ca\", element=\"20ffa87b-1f86-4395-a2a2-7f1beb055ad7\")>,\n",
       " <selenium.webdriver.remote.webelement.WebElement (session=\"d6de4b07a26173f02e70b2f28c44b5ca\", element=\"ad11367e-3729-4f7c-b5f0-9c7e0ff32b94\")>,\n",
       " <selenium.webdriver.remote.webelement.WebElement (session=\"d6de4b07a26173f02e70b2f28c44b5ca\", element=\"97d427d5-f2c9-473f-8bc0-6d3bb00cc1bf\")>,\n",
       " <selenium.webdriver.remote.webelement.WebElement (session=\"d6de4b07a26173f02e70b2f28c44b5ca\", element=\"28010a49-281d-4537-a020-5770ccbaa6b2\")>,\n",
       " <selenium.webdriver.remote.webelement.WebElement (session=\"d6de4b07a26173f02e70b2f28c44b5ca\", element=\"16308dc7-7588-4fd0-85ad-5d7b1edc84e3\")>,\n",
       " <selenium.webdriver.remote.webelement.WebElement (session=\"d6de4b07a26173f02e70b2f28c44b5ca\", element=\"90262b3b-7b81-48df-8c81-17270ca76370\")>,\n",
       " <selenium.webdriver.remote.webelement.WebElement (session=\"d6de4b07a26173f02e70b2f28c44b5ca\", element=\"d0a1dde2-a560-4cb4-94c0-2607397daf3b\")>,\n",
       " <selenium.webdriver.remote.webelement.WebElement (session=\"d6de4b07a26173f02e70b2f28c44b5ca\", element=\"89e2cbcd-ecbc-4b28-a382-6f56593491b6\")>,\n",
       " <selenium.webdriver.remote.webelement.WebElement (session=\"d6de4b07a26173f02e70b2f28c44b5ca\", element=\"598139a1-ba4c-47f4-a393-458ad786cd13\")>,\n",
       " <selenium.webdriver.remote.webelement.WebElement (session=\"d6de4b07a26173f02e70b2f28c44b5ca\", element=\"ece779e9-42d5-4489-9926-f53486c55402\")>,\n",
       " <selenium.webdriver.remote.webelement.WebElement (session=\"d6de4b07a26173f02e70b2f28c44b5ca\", element=\"b8b45191-fee6-43c1-997c-639620ce7aa9\")>,\n",
       " <selenium.webdriver.remote.webelement.WebElement (session=\"d6de4b07a26173f02e70b2f28c44b5ca\", element=\"5b3d1e29-0c02-42be-b18e-a2f826594f99\")>,\n",
       " <selenium.webdriver.remote.webelement.WebElement (session=\"d6de4b07a26173f02e70b2f28c44b5ca\", element=\"72f99287-76e3-4fb2-844b-4ac2eb54bc6b\")>,\n",
       " <selenium.webdriver.remote.webelement.WebElement (session=\"d6de4b07a26173f02e70b2f28c44b5ca\", element=\"3aec5660-9db9-4446-a9c3-23ff56c448b2\")>,\n",
       " <selenium.webdriver.remote.webelement.WebElement (session=\"d6de4b07a26173f02e70b2f28c44b5ca\", element=\"c9ae4c5f-a645-4abe-b889-16e4fb73a9e8\")>,\n",
       " <selenium.webdriver.remote.webelement.WebElement (session=\"d6de4b07a26173f02e70b2f28c44b5ca\", element=\"739de905-731e-4ca2-b34f-bcca81ec592d\")>,\n",
       " <selenium.webdriver.remote.webelement.WebElement (session=\"d6de4b07a26173f02e70b2f28c44b5ca\", element=\"78c107bb-abcf-472d-888a-a8c10a45a542\")>,\n",
       " <selenium.webdriver.remote.webelement.WebElement (session=\"d6de4b07a26173f02e70b2f28c44b5ca\", element=\"06db62ab-c446-48e9-b0da-635f4785d4ce\")>,\n",
       " <selenium.webdriver.remote.webelement.WebElement (session=\"d6de4b07a26173f02e70b2f28c44b5ca\", element=\"afed0745-8cb1-4a66-ae30-fe486777ef5c\")>,\n",
       " <selenium.webdriver.remote.webelement.WebElement (session=\"d6de4b07a26173f02e70b2f28c44b5ca\", element=\"b84081d1-14de-471a-b818-a67266e4ed88\")>,\n",
       " <selenium.webdriver.remote.webelement.WebElement (session=\"d6de4b07a26173f02e70b2f28c44b5ca\", element=\"efdc5f04-7be5-423a-bc35-55a0f94ef010\")>]"
      ]
     },
     "execution_count": 501,
     "metadata": {},
     "output_type": "execute_result"
    }
   ],
   "source": [
    "# Discount %\n",
    "\n",
    "Discount_tags = driver.find_elements_by_xpath(\"//div[@class='_3Ay6Sb']\")\n",
    "\n",
    "Discount_tags\n",
    "\n"
   ]
  },
  {
   "cell_type": "code",
   "execution_count": 502,
   "metadata": {},
   "outputs": [
    {
     "data": {
      "text/plain": [
       "['71% off',\n",
       " '45% off',\n",
       " '88% off',\n",
       " '43% off',\n",
       " '25% off',\n",
       " '36% off',\n",
       " '88% off',\n",
       " '86% off',\n",
       " '85% off',\n",
       " '88% off',\n",
       " '25% off',\n",
       " '81% off',\n",
       " '85% off',\n",
       " '82% off',\n",
       " '32% off',\n",
       " '66% off',\n",
       " '26% off',\n",
       " '33% off',\n",
       " '77% off',\n",
       " '71% off',\n",
       " '33% off',\n",
       " '74% off',\n",
       " '79% off',\n",
       " '60% off',\n",
       " '79% off',\n",
       " '81% off',\n",
       " '83% off',\n",
       " '60% off',\n",
       " '85% off',\n",
       " '70% off',\n",
       " '25% off',\n",
       " '68% off',\n",
       " '72% off',\n",
       " '80% off',\n",
       " '25% off',\n",
       " '53% off',\n",
       " '76% off',\n",
       " '73% off',\n",
       " '62% off',\n",
       " '55% off']"
      ]
     },
     "execution_count": 502,
     "metadata": {},
     "output_type": "execute_result"
    }
   ],
   "source": [
    "Total_Discount = []\n",
    "\n",
    "for i in Discount_tags:\n",
    "    Total_Discount.append(i.text)\n",
    "    \n",
    "Total_Discount\n",
    "    "
   ]
  },
  {
   "cell_type": "code",
   "execution_count": null,
   "metadata": {},
   "outputs": [],
   "source": [
    "# scrape data from multiple page"
   ]
  },
  {
   "cell_type": "code",
   "execution_count": 554,
   "metadata": {},
   "outputs": [
    {
     "data": {
      "text/plain": [
       "[<selenium.webdriver.remote.webelement.WebElement (session=\"d6de4b07a26173f02e70b2f28c44b5ca\", element=\"b03c276d-1528-4626-a14f-6bbe3314e0ed\")>,\n",
       " <selenium.webdriver.remote.webelement.WebElement (session=\"d6de4b07a26173f02e70b2f28c44b5ca\", element=\"0d7261fd-7278-41b2-8451-e42ba1c7c861\")>,\n",
       " <selenium.webdriver.remote.webelement.WebElement (session=\"d6de4b07a26173f02e70b2f28c44b5ca\", element=\"2196703c-fafd-4458-8690-6c67ac5b4c95\")>,\n",
       " <selenium.webdriver.remote.webelement.WebElement (session=\"d6de4b07a26173f02e70b2f28c44b5ca\", element=\"41506f19-5cd1-4695-a3c6-9cddffe2267e\")>,\n",
       " <selenium.webdriver.remote.webelement.WebElement (session=\"d6de4b07a26173f02e70b2f28c44b5ca\", element=\"a69383ca-974a-46fa-a243-008df7139fd2\")>,\n",
       " <selenium.webdriver.remote.webelement.WebElement (session=\"d6de4b07a26173f02e70b2f28c44b5ca\", element=\"a5b1df05-3e5b-4367-8003-bd41aff5662f\")>,\n",
       " <selenium.webdriver.remote.webelement.WebElement (session=\"d6de4b07a26173f02e70b2f28c44b5ca\", element=\"ded6b7cf-6454-40aa-a250-a00816c1d8d2\")>,\n",
       " <selenium.webdriver.remote.webelement.WebElement (session=\"d6de4b07a26173f02e70b2f28c44b5ca\", element=\"9285919b-aafc-4b60-b174-4c9eef3937ce\")>,\n",
       " <selenium.webdriver.remote.webelement.WebElement (session=\"d6de4b07a26173f02e70b2f28c44b5ca\", element=\"3b6ac966-10d2-4135-aa2d-c20c5d1ea30b\")>,\n",
       " <selenium.webdriver.remote.webelement.WebElement (session=\"d6de4b07a26173f02e70b2f28c44b5ca\", element=\"86192b39-e9b5-480b-b59d-a5adb07e67c2\")>,\n",
       " <selenium.webdriver.remote.webelement.WebElement (session=\"d6de4b07a26173f02e70b2f28c44b5ca\", element=\"a02df794-4577-4965-922e-289f681c469f\")>,\n",
       " <selenium.webdriver.remote.webelement.WebElement (session=\"d6de4b07a26173f02e70b2f28c44b5ca\", element=\"e038cd7a-936f-426b-94d4-3190784a3aaa\")>,\n",
       " <selenium.webdriver.remote.webelement.WebElement (session=\"d6de4b07a26173f02e70b2f28c44b5ca\", element=\"a7bac314-6b0e-4525-9c11-b8875f467b2f\")>,\n",
       " <selenium.webdriver.remote.webelement.WebElement (session=\"d6de4b07a26173f02e70b2f28c44b5ca\", element=\"56329881-81c5-47ad-a677-b7d70395db06\")>,\n",
       " <selenium.webdriver.remote.webelement.WebElement (session=\"d6de4b07a26173f02e70b2f28c44b5ca\", element=\"dffef4c6-860a-42bb-a2a9-a1c7a3d06ac6\")>,\n",
       " <selenium.webdriver.remote.webelement.WebElement (session=\"d6de4b07a26173f02e70b2f28c44b5ca\", element=\"843c94be-f7ed-49fa-bdcd-8c9b8c3b9593\")>,\n",
       " <selenium.webdriver.remote.webelement.WebElement (session=\"d6de4b07a26173f02e70b2f28c44b5ca\", element=\"2f0ca3ea-51a8-4d6f-8de2-20e9c19e2507\")>,\n",
       " <selenium.webdriver.remote.webelement.WebElement (session=\"d6de4b07a26173f02e70b2f28c44b5ca\", element=\"3dfbe16f-920d-42a7-a7e1-f9b582183e74\")>,\n",
       " <selenium.webdriver.remote.webelement.WebElement (session=\"d6de4b07a26173f02e70b2f28c44b5ca\", element=\"cb253ef8-253e-475c-b6c1-5c1e32ae27d5\")>,\n",
       " <selenium.webdriver.remote.webelement.WebElement (session=\"d6de4b07a26173f02e70b2f28c44b5ca\", element=\"50d0e886-fd97-4023-b07d-4e468c5197ed\")>,\n",
       " <selenium.webdriver.remote.webelement.WebElement (session=\"d6de4b07a26173f02e70b2f28c44b5ca\", element=\"aa152fc0-4391-49be-84eb-b92a731a8ba0\")>,\n",
       " <selenium.webdriver.remote.webelement.WebElement (session=\"d6de4b07a26173f02e70b2f28c44b5ca\", element=\"fe494367-8796-4b1c-acb6-b4023db04d56\")>,\n",
       " <selenium.webdriver.remote.webelement.WebElement (session=\"d6de4b07a26173f02e70b2f28c44b5ca\", element=\"10d53258-71f1-4504-9286-22e7323c6e64\")>,\n",
       " <selenium.webdriver.remote.webelement.WebElement (session=\"d6de4b07a26173f02e70b2f28c44b5ca\", element=\"8afceb56-6af3-45fd-b5c4-f8a11099278d\")>,\n",
       " <selenium.webdriver.remote.webelement.WebElement (session=\"d6de4b07a26173f02e70b2f28c44b5ca\", element=\"7e6d8b3a-70d6-4a5c-9642-b8e9d6f87bd5\")>,\n",
       " <selenium.webdriver.remote.webelement.WebElement (session=\"d6de4b07a26173f02e70b2f28c44b5ca\", element=\"e4928891-95a5-411d-8b06-4e6a55c75090\")>,\n",
       " <selenium.webdriver.remote.webelement.WebElement (session=\"d6de4b07a26173f02e70b2f28c44b5ca\", element=\"03b8f77d-cfa0-4b1d-902d-0b9840dd8ad6\")>,\n",
       " <selenium.webdriver.remote.webelement.WebElement (session=\"d6de4b07a26173f02e70b2f28c44b5ca\", element=\"37ab518a-16a0-4c93-aaa1-8209bb057539\")>,\n",
       " <selenium.webdriver.remote.webelement.WebElement (session=\"d6de4b07a26173f02e70b2f28c44b5ca\", element=\"5e300ac4-bdaa-413d-a112-099ef3fcdc9f\")>,\n",
       " <selenium.webdriver.remote.webelement.WebElement (session=\"d6de4b07a26173f02e70b2f28c44b5ca\", element=\"ce819a97-9c71-4352-893d-2eda15f91111\")>,\n",
       " <selenium.webdriver.remote.webelement.WebElement (session=\"d6de4b07a26173f02e70b2f28c44b5ca\", element=\"29af30f8-2ef2-4597-8781-122af6dbe7a7\")>,\n",
       " <selenium.webdriver.remote.webelement.WebElement (session=\"d6de4b07a26173f02e70b2f28c44b5ca\", element=\"9f630c80-d37d-4b24-98d4-44ba104c7f98\")>,\n",
       " <selenium.webdriver.remote.webelement.WebElement (session=\"d6de4b07a26173f02e70b2f28c44b5ca\", element=\"d1d9818a-e9da-45a6-9361-ad6626874ce0\")>,\n",
       " <selenium.webdriver.remote.webelement.WebElement (session=\"d6de4b07a26173f02e70b2f28c44b5ca\", element=\"b32a673c-5e4e-4d3c-adf0-6dc5209f6189\")>,\n",
       " <selenium.webdriver.remote.webelement.WebElement (session=\"d6de4b07a26173f02e70b2f28c44b5ca\", element=\"8356a5bb-d467-4666-a550-2b11362b7ab3\")>,\n",
       " <selenium.webdriver.remote.webelement.WebElement (session=\"d6de4b07a26173f02e70b2f28c44b5ca\", element=\"54634484-fe9e-48cd-adc8-4d82d004a2f9\")>,\n",
       " <selenium.webdriver.remote.webelement.WebElement (session=\"d6de4b07a26173f02e70b2f28c44b5ca\", element=\"25219baf-9ff4-4509-8c0e-a87b6228ae5e\")>,\n",
       " <selenium.webdriver.remote.webelement.WebElement (session=\"d6de4b07a26173f02e70b2f28c44b5ca\", element=\"6314bce8-373c-45f7-957d-578f7cd19b00\")>,\n",
       " <selenium.webdriver.remote.webelement.WebElement (session=\"d6de4b07a26173f02e70b2f28c44b5ca\", element=\"788452f1-2cb8-4ee5-a6b8-ad24caf81bdc\")>,\n",
       " <selenium.webdriver.remote.webelement.WebElement (session=\"d6de4b07a26173f02e70b2f28c44b5ca\", element=\"911714b3-18ce-4c8c-b491-a88cc29e16b4\")>,\n",
       " <selenium.webdriver.remote.webelement.WebElement (session=\"d6de4b07a26173f02e70b2f28c44b5ca\", element=\"96fe56d0-00e0-4b1f-b553-3e15b5f627ae\")>,\n",
       " <selenium.webdriver.remote.webelement.WebElement (session=\"d6de4b07a26173f02e70b2f28c44b5ca\", element=\"0a750d57-056a-4f39-ae8a-aa2f88b6a1c9\")>,\n",
       " <selenium.webdriver.remote.webelement.WebElement (session=\"d6de4b07a26173f02e70b2f28c44b5ca\", element=\"64f259cc-7aad-4f4e-81c1-be0dd546beff\")>,\n",
       " <selenium.webdriver.remote.webelement.WebElement (session=\"d6de4b07a26173f02e70b2f28c44b5ca\", element=\"301be3bb-2f24-4ea8-93e4-15e40c5dcdbe\")>,\n",
       " <selenium.webdriver.remote.webelement.WebElement (session=\"d6de4b07a26173f02e70b2f28c44b5ca\", element=\"c305b9b8-807d-4f88-b299-f570514d1d11\")>,\n",
       " <selenium.webdriver.remote.webelement.WebElement (session=\"d6de4b07a26173f02e70b2f28c44b5ca\", element=\"7b76d3ff-49bb-4de9-8421-c77218ad2111\")>,\n",
       " <selenium.webdriver.remote.webelement.WebElement (session=\"d6de4b07a26173f02e70b2f28c44b5ca\", element=\"9e4b0af5-098c-4a14-aafa-63f487b4e260\")>,\n",
       " <selenium.webdriver.remote.webelement.WebElement (session=\"d6de4b07a26173f02e70b2f28c44b5ca\", element=\"5288ae8b-d2b2-46bc-ac49-9181294e12f6\")>,\n",
       " <selenium.webdriver.remote.webelement.WebElement (session=\"d6de4b07a26173f02e70b2f28c44b5ca\", element=\"a48adbd3-0702-4961-9bfb-4e5d405520c8\")>,\n",
       " <selenium.webdriver.remote.webelement.WebElement (session=\"d6de4b07a26173f02e70b2f28c44b5ca\", element=\"40363ec9-e875-4f6c-a32c-7e90d135a08e\")>,\n",
       " <selenium.webdriver.remote.webelement.WebElement (session=\"d6de4b07a26173f02e70b2f28c44b5ca\", element=\"1d47e196-c2c3-4ff0-a3e6-45a8a88acd48\")>,\n",
       " <selenium.webdriver.remote.webelement.WebElement (session=\"d6de4b07a26173f02e70b2f28c44b5ca\", element=\"23bd585e-d56b-4871-a58a-6b56500578a9\")>,\n",
       " <selenium.webdriver.remote.webelement.WebElement (session=\"d6de4b07a26173f02e70b2f28c44b5ca\", element=\"a8440a21-7215-4639-9863-8753a0936e1b\")>,\n",
       " <selenium.webdriver.remote.webelement.WebElement (session=\"d6de4b07a26173f02e70b2f28c44b5ca\", element=\"9a9b05be-d9d6-47de-800d-888497913425\")>,\n",
       " <selenium.webdriver.remote.webelement.WebElement (session=\"d6de4b07a26173f02e70b2f28c44b5ca\", element=\"ed1f7b8e-e59f-4b03-92bf-adcaab008bfa\")>,\n",
       " <selenium.webdriver.remote.webelement.WebElement (session=\"d6de4b07a26173f02e70b2f28c44b5ca\", element=\"4cd5fd0e-9a67-4ce7-b44e-8e1ea7f55bd7\")>,\n",
       " <selenium.webdriver.remote.webelement.WebElement (session=\"d6de4b07a26173f02e70b2f28c44b5ca\", element=\"0a4e2e66-4ee5-4ef7-8b97-0019a4aaec5a\")>,\n",
       " <selenium.webdriver.remote.webelement.WebElement (session=\"d6de4b07a26173f02e70b2f28c44b5ca\", element=\"60abe3f8-5c9c-4796-82bd-530d54cbd1ae\")>,\n",
       " <selenium.webdriver.remote.webelement.WebElement (session=\"d6de4b07a26173f02e70b2f28c44b5ca\", element=\"e4c0bea0-fd5d-427a-8a4b-320ddf929212\")>,\n",
       " <selenium.webdriver.remote.webelement.WebElement (session=\"d6de4b07a26173f02e70b2f28c44b5ca\", element=\"7d8f0f6d-6bc4-434d-87aa-9e53033ff01c\")>,\n",
       " <selenium.webdriver.remote.webelement.WebElement (session=\"d6de4b07a26173f02e70b2f28c44b5ca\", element=\"7c652fec-a52c-42f4-b09b-c3a0bb59dfec\")>,\n",
       " <selenium.webdriver.remote.webelement.WebElement (session=\"d6de4b07a26173f02e70b2f28c44b5ca\", element=\"673f9652-6da2-468f-8225-410230311d5e\")>,\n",
       " <selenium.webdriver.remote.webelement.WebElement (session=\"d6de4b07a26173f02e70b2f28c44b5ca\", element=\"5bae003d-b058-47fd-af2d-1748537f5d28\")>,\n",
       " <selenium.webdriver.remote.webelement.WebElement (session=\"d6de4b07a26173f02e70b2f28c44b5ca\", element=\"7e1e9da1-2b33-4b82-a9ea-b714ad2c949a\")>,\n",
       " <selenium.webdriver.remote.webelement.WebElement (session=\"d6de4b07a26173f02e70b2f28c44b5ca\", element=\"ee9f338b-07dd-475e-86e0-3b0944971065\")>,\n",
       " <selenium.webdriver.remote.webelement.WebElement (session=\"d6de4b07a26173f02e70b2f28c44b5ca\", element=\"5a365a9e-a2d5-429f-8610-391cd41cbe7f\")>,\n",
       " <selenium.webdriver.remote.webelement.WebElement (session=\"d6de4b07a26173f02e70b2f28c44b5ca\", element=\"3f80bb78-f31f-40f6-9547-00c0f1475358\")>,\n",
       " <selenium.webdriver.remote.webelement.WebElement (session=\"d6de4b07a26173f02e70b2f28c44b5ca\", element=\"ffee76a1-ad42-4f62-8273-8b6d5916cdd1\")>,\n",
       " <selenium.webdriver.remote.webelement.WebElement (session=\"d6de4b07a26173f02e70b2f28c44b5ca\", element=\"c8975de0-cc1c-4b71-9f3b-b330dfd326de\")>,\n",
       " <selenium.webdriver.remote.webelement.WebElement (session=\"d6de4b07a26173f02e70b2f28c44b5ca\", element=\"7e43961d-91d0-4d8a-b7e5-950bc84dc2b5\")>,\n",
       " <selenium.webdriver.remote.webelement.WebElement (session=\"d6de4b07a26173f02e70b2f28c44b5ca\", element=\"f21a8533-3bc1-4bb7-a19e-a1119e28b84a\")>,\n",
       " <selenium.webdriver.remote.webelement.WebElement (session=\"d6de4b07a26173f02e70b2f28c44b5ca\", element=\"43a1909f-c9f3-4b39-bfe8-44b67c476824\")>,\n",
       " <selenium.webdriver.remote.webelement.WebElement (session=\"d6de4b07a26173f02e70b2f28c44b5ca\", element=\"f69bf1c3-7263-494a-8f46-6558bf4620ff\")>,\n",
       " <selenium.webdriver.remote.webelement.WebElement (session=\"d6de4b07a26173f02e70b2f28c44b5ca\", element=\"c1d07fce-103c-4ba3-863f-eb8f23ebb796\")>,\n",
       " <selenium.webdriver.remote.webelement.WebElement (session=\"d6de4b07a26173f02e70b2f28c44b5ca\", element=\"dec3548d-a961-45f5-b071-e64f709346db\")>,\n",
       " <selenium.webdriver.remote.webelement.WebElement (session=\"d6de4b07a26173f02e70b2f28c44b5ca\", element=\"057e4479-ef84-4997-9aaf-d6804382e2b9\")>,\n",
       " <selenium.webdriver.remote.webelement.WebElement (session=\"d6de4b07a26173f02e70b2f28c44b5ca\", element=\"f0ed7c02-aa6f-429a-ab05-f0d006e58b84\")>,\n",
       " <selenium.webdriver.remote.webelement.WebElement (session=\"d6de4b07a26173f02e70b2f28c44b5ca\", element=\"4545c630-f8b1-4fa8-8ce8-6e6a12747168\")>,\n",
       " <selenium.webdriver.remote.webelement.WebElement (session=\"d6de4b07a26173f02e70b2f28c44b5ca\", element=\"5a63ba9e-2121-4bbe-9005-798defd838eb\")>,\n",
       " <selenium.webdriver.remote.webelement.WebElement (session=\"d6de4b07a26173f02e70b2f28c44b5ca\", element=\"362e9a0a-7da6-4dda-a0d8-8095222b0e21\")>,\n",
       " <selenium.webdriver.remote.webelement.WebElement (session=\"d6de4b07a26173f02e70b2f28c44b5ca\", element=\"169c627c-6a4c-4b40-8d28-ee72076a13c3\")>,\n",
       " <selenium.webdriver.remote.webelement.WebElement (session=\"d6de4b07a26173f02e70b2f28c44b5ca\", element=\"ee62ee58-7510-463e-93cd-f8d185e440c3\")>,\n",
       " <selenium.webdriver.remote.webelement.WebElement (session=\"d6de4b07a26173f02e70b2f28c44b5ca\", element=\"3caadf97-8a48-4adf-a680-9d9ad4315968\")>,\n",
       " <selenium.webdriver.remote.webelement.WebElement (session=\"d6de4b07a26173f02e70b2f28c44b5ca\", element=\"e835011a-900e-4dac-bf5b-3375b5200905\")>,\n",
       " <selenium.webdriver.remote.webelement.WebElement (session=\"d6de4b07a26173f02e70b2f28c44b5ca\", element=\"c93ab517-c71d-4757-aaf1-2171c2ba80ea\")>,\n",
       " <selenium.webdriver.remote.webelement.WebElement (session=\"d6de4b07a26173f02e70b2f28c44b5ca\", element=\"31d45d6b-a4b2-4432-97f1-a52f7cf953f3\")>,\n",
       " <selenium.webdriver.remote.webelement.WebElement (session=\"d6de4b07a26173f02e70b2f28c44b5ca\", element=\"8d2855cf-9f70-4469-ae98-489c9201e93f\")>,\n",
       " <selenium.webdriver.remote.webelement.WebElement (session=\"d6de4b07a26173f02e70b2f28c44b5ca\", element=\"194efef9-d1d0-49eb-ac4a-c9ea2536b7dd\")>,\n",
       " <selenium.webdriver.remote.webelement.WebElement (session=\"d6de4b07a26173f02e70b2f28c44b5ca\", element=\"93819314-9e69-44f9-99ad-18fdd4ed4d8c\")>,\n",
       " <selenium.webdriver.remote.webelement.WebElement (session=\"d6de4b07a26173f02e70b2f28c44b5ca\", element=\"9cf0f503-b32c-4daf-a004-225a67da00d6\")>,\n",
       " <selenium.webdriver.remote.webelement.WebElement (session=\"d6de4b07a26173f02e70b2f28c44b5ca\", element=\"7f012d8e-cbc8-4008-8c01-43f746990f46\")>,\n",
       " <selenium.webdriver.remote.webelement.WebElement (session=\"d6de4b07a26173f02e70b2f28c44b5ca\", element=\"61ee42e9-4677-4617-883a-5e13145833ad\")>,\n",
       " <selenium.webdriver.remote.webelement.WebElement (session=\"d6de4b07a26173f02e70b2f28c44b5ca\", element=\"4fde17d5-0d8c-4a78-a77c-d7c4e3dbc9b7\")>,\n",
       " <selenium.webdriver.remote.webelement.WebElement (session=\"d6de4b07a26173f02e70b2f28c44b5ca\", element=\"2c1c7f1a-9e49-461d-919f-3c03a3892195\")>,\n",
       " <selenium.webdriver.remote.webelement.WebElement (session=\"d6de4b07a26173f02e70b2f28c44b5ca\", element=\"2a9828a7-43f5-4490-a614-dd60e9d1521a\")>,\n",
       " <selenium.webdriver.remote.webelement.WebElement (session=\"d6de4b07a26173f02e70b2f28c44b5ca\", element=\"6292a062-b82e-48ec-8245-ae5484b6e911\")>,\n",
       " <selenium.webdriver.remote.webelement.WebElement (session=\"d6de4b07a26173f02e70b2f28c44b5ca\", element=\"ae52a146-afd0-46d0-b513-fefba1a12e10\")>,\n",
       " <selenium.webdriver.remote.webelement.WebElement (session=\"d6de4b07a26173f02e70b2f28c44b5ca\", element=\"f1d0a6f9-ae88-4c55-b035-dab1b9c22663\")>,\n",
       " <selenium.webdriver.remote.webelement.WebElement (session=\"d6de4b07a26173f02e70b2f28c44b5ca\", element=\"5c4f2345-34c9-4951-96b3-23f2f112d6e8\")>,\n",
       " <selenium.webdriver.remote.webelement.WebElement (session=\"d6de4b07a26173f02e70b2f28c44b5ca\", element=\"e3a265f4-7f22-48b2-bb5a-f505064a573e\")>,\n",
       " <selenium.webdriver.remote.webelement.WebElement (session=\"d6de4b07a26173f02e70b2f28c44b5ca\", element=\"c664055a-6954-4ae9-b65e-7ded71dbbb72\")>,\n",
       " <selenium.webdriver.remote.webelement.WebElement (session=\"d6de4b07a26173f02e70b2f28c44b5ca\", element=\"3a0fbbdf-2c45-4c0d-a537-2324483f6d2c\")>,\n",
       " <selenium.webdriver.remote.webelement.WebElement (session=\"d6de4b07a26173f02e70b2f28c44b5ca\", element=\"416236ff-c280-4cc7-89ff-a57878e567c7\")>,\n",
       " <selenium.webdriver.remote.webelement.WebElement (session=\"d6de4b07a26173f02e70b2f28c44b5ca\", element=\"804d8ddd-1724-4694-8ec5-9e53a7d58033\")>,\n",
       " <selenium.webdriver.remote.webelement.WebElement (session=\"d6de4b07a26173f02e70b2f28c44b5ca\", element=\"238827eb-a378-484f-a7a4-b1ae3ab0954d\")>,\n",
       " <selenium.webdriver.remote.webelement.WebElement (session=\"d6de4b07a26173f02e70b2f28c44b5ca\", element=\"292c4b9e-adb4-4b57-920c-824e04caadcc\")>,\n",
       " <selenium.webdriver.remote.webelement.WebElement (session=\"d6de4b07a26173f02e70b2f28c44b5ca\", element=\"0aa06e8a-2b1f-438a-84e9-0042401f4046\")>,\n",
       " <selenium.webdriver.remote.webelement.WebElement (session=\"d6de4b07a26173f02e70b2f28c44b5ca\", element=\"5bbd3a10-af51-4023-8c88-e3c778f8fe90\")>,\n",
       " <selenium.webdriver.remote.webelement.WebElement (session=\"d6de4b07a26173f02e70b2f28c44b5ca\", element=\"504c14b0-8785-458e-af97-5230b57e7ebf\")>,\n",
       " <selenium.webdriver.remote.webelement.WebElement (session=\"d6de4b07a26173f02e70b2f28c44b5ca\", element=\"ee108f12-3120-432e-8501-d1ce22ccd0df\")>,\n",
       " <selenium.webdriver.remote.webelement.WebElement (session=\"d6de4b07a26173f02e70b2f28c44b5ca\", element=\"1abf3d9f-5f06-436f-8a2e-9982186bfbf5\")>,\n",
       " <selenium.webdriver.remote.webelement.WebElement (session=\"d6de4b07a26173f02e70b2f28c44b5ca\", element=\"a1b09091-b00e-48fa-bb41-13f6b8d17164\")>,\n",
       " <selenium.webdriver.remote.webelement.WebElement (session=\"d6de4b07a26173f02e70b2f28c44b5ca\", element=\"7d66b5e2-9fdd-4045-9a2a-cd4acde26d77\")>,\n",
       " <selenium.webdriver.remote.webelement.WebElement (session=\"d6de4b07a26173f02e70b2f28c44b5ca\", element=\"545d0fc0-49ee-4333-81d7-166bd40c78f5\")>,\n",
       " <selenium.webdriver.remote.webelement.WebElement (session=\"d6de4b07a26173f02e70b2f28c44b5ca\", element=\"216d3ab5-f1eb-4275-b0fd-60ff94a73b64\")>,\n",
       " <selenium.webdriver.remote.webelement.WebElement (session=\"d6de4b07a26173f02e70b2f28c44b5ca\", element=\"3d307e12-bf98-4f58-bfe1-3c7c6d1d67f3\")>,\n",
       " <selenium.webdriver.remote.webelement.WebElement (session=\"d6de4b07a26173f02e70b2f28c44b5ca\", element=\"e9ac9f6b-ac65-410b-991e-df44199ac5cb\")>,\n",
       " <selenium.webdriver.remote.webelement.WebElement (session=\"d6de4b07a26173f02e70b2f28c44b5ca\", element=\"ab658eb3-258b-46c0-9ea3-a99110a87431\")>,\n",
       " <selenium.webdriver.remote.webelement.WebElement (session=\"d6de4b07a26173f02e70b2f28c44b5ca\", element=\"6e73d301-6d01-4d2c-ab07-edd8d9aad9ef\")>,\n",
       " <selenium.webdriver.remote.webelement.WebElement (session=\"d6de4b07a26173f02e70b2f28c44b5ca\", element=\"e048df9e-8260-44bf-bab6-8390ac931297\")>,\n",
       " <selenium.webdriver.remote.webelement.WebElement (session=\"d6de4b07a26173f02e70b2f28c44b5ca\", element=\"059c3958-030b-4b03-ba33-a6a6442ef868\")>,\n",
       " <selenium.webdriver.remote.webelement.WebElement (session=\"d6de4b07a26173f02e70b2f28c44b5ca\", element=\"ac2e0910-10ec-4b6f-aec1-8b20cb3751b5\")>,\n",
       " <selenium.webdriver.remote.webelement.WebElement (session=\"d6de4b07a26173f02e70b2f28c44b5ca\", element=\"b73ba2b6-c2ad-4a4d-940e-89a714f7ee22\")>,\n",
       " <selenium.webdriver.remote.webelement.WebElement (session=\"d6de4b07a26173f02e70b2f28c44b5ca\", element=\"18289a44-b816-4c31-be41-105d6460e2a1\")>,\n",
       " <selenium.webdriver.remote.webelement.WebElement (session=\"d6de4b07a26173f02e70b2f28c44b5ca\", element=\"b6cf568a-5fc6-4467-8dd7-3e6be3853137\")>,\n",
       " <selenium.webdriver.remote.webelement.WebElement (session=\"d6de4b07a26173f02e70b2f28c44b5ca\", element=\"159e5f15-1bf2-4247-b2ed-b0343c769db2\")>,\n",
       " <selenium.webdriver.remote.webelement.WebElement (session=\"d6de4b07a26173f02e70b2f28c44b5ca\", element=\"b074ed6d-5b77-4888-82c8-40c7eb7edf0d\")>,\n",
       " <selenium.webdriver.remote.webelement.WebElement (session=\"d6de4b07a26173f02e70b2f28c44b5ca\", element=\"62de913a-8e38-48fc-b90f-103e2f5d942c\")>,\n",
       " <selenium.webdriver.remote.webelement.WebElement (session=\"d6de4b07a26173f02e70b2f28c44b5ca\", element=\"fe1129bd-65aa-4927-81b7-7fece4538cda\")>,\n",
       " <selenium.webdriver.remote.webelement.WebElement (session=\"d6de4b07a26173f02e70b2f28c44b5ca\", element=\"36ca88a4-f73e-4053-8887-a5edbefaa8c2\")>,\n",
       " <selenium.webdriver.remote.webelement.WebElement (session=\"d6de4b07a26173f02e70b2f28c44b5ca\", element=\"e421ce95-5f02-457f-a648-618860aaac08\")>,\n",
       " <selenium.webdriver.remote.webelement.WebElement (session=\"d6de4b07a26173f02e70b2f28c44b5ca\", element=\"a6e76475-b46a-4eea-b8fa-5f68c548b316\")>,\n",
       " <selenium.webdriver.remote.webelement.WebElement (session=\"d6de4b07a26173f02e70b2f28c44b5ca\", element=\"884b014b-4a2f-4cb8-9bcc-3a1ef164a9b4\")>,\n",
       " <selenium.webdriver.remote.webelement.WebElement (session=\"d6de4b07a26173f02e70b2f28c44b5ca\", element=\"beab40ee-d042-4d8f-be47-0e9311b159e5\")>,\n",
       " <selenium.webdriver.remote.webelement.WebElement (session=\"d6de4b07a26173f02e70b2f28c44b5ca\", element=\"11b356c8-8c3f-42c7-a90d-1e934e7a8551\")>,\n",
       " <selenium.webdriver.remote.webelement.WebElement (session=\"d6de4b07a26173f02e70b2f28c44b5ca\", element=\"a1db7bdd-db68-4c95-a077-f07b522c394b\")>,\n",
       " <selenium.webdriver.remote.webelement.WebElement (session=\"d6de4b07a26173f02e70b2f28c44b5ca\", element=\"1b535871-e38c-4d62-b598-85c3f223aa5a\")>,\n",
       " <selenium.webdriver.remote.webelement.WebElement (session=\"d6de4b07a26173f02e70b2f28c44b5ca\", element=\"294597b9-990b-429e-90b6-c17126319149\")>]"
      ]
     },
     "execution_count": 554,
     "metadata": {},
     "output_type": "execute_result"
    }
   ],
   "source": [
    "url = driver.find_elements_by_xpath(\"//div[@class='_1AtVbE col-12-12']//a\")\n",
    "url"
   ]
  },
  {
   "cell_type": "code",
   "execution_count": 557,
   "metadata": {},
   "outputs": [
    {
     "data": {
      "text/plain": [
       "[None,\n",
       " None,\n",
       " None,\n",
       " None,\n",
       " None,\n",
       " None,\n",
       " None,\n",
       " None,\n",
       " None,\n",
       " None,\n",
       " None,\n",
       " None,\n",
       " None,\n",
       " None,\n",
       " None,\n",
       " None,\n",
       " None,\n",
       " None,\n",
       " None,\n",
       " None,\n",
       " None,\n",
       " None,\n",
       " None,\n",
       " None,\n",
       " None,\n",
       " None,\n",
       " None,\n",
       " None,\n",
       " None,\n",
       " None,\n",
       " None,\n",
       " None,\n",
       " None,\n",
       " None,\n",
       " None,\n",
       " None,\n",
       " None,\n",
       " None,\n",
       " None,\n",
       " None,\n",
       " None,\n",
       " None,\n",
       " None,\n",
       " None,\n",
       " None,\n",
       " None,\n",
       " None,\n",
       " None,\n",
       " None,\n",
       " None,\n",
       " None,\n",
       " None,\n",
       " None,\n",
       " None,\n",
       " None,\n",
       " None,\n",
       " None,\n",
       " None,\n",
       " None,\n",
       " None,\n",
       " None,\n",
       " None,\n",
       " None,\n",
       " None,\n",
       " None,\n",
       " None,\n",
       " None,\n",
       " None,\n",
       " None,\n",
       " None,\n",
       " None,\n",
       " None,\n",
       " None,\n",
       " None,\n",
       " None,\n",
       " None,\n",
       " None,\n",
       " None,\n",
       " None,\n",
       " None,\n",
       " None,\n",
       " None,\n",
       " None,\n",
       " None,\n",
       " None,\n",
       " None,\n",
       " None,\n",
       " None,\n",
       " None,\n",
       " None,\n",
       " None,\n",
       " None,\n",
       " None,\n",
       " None,\n",
       " None,\n",
       " None,\n",
       " None,\n",
       " None,\n",
       " None,\n",
       " None,\n",
       " None,\n",
       " None,\n",
       " None,\n",
       " None,\n",
       " None,\n",
       " None,\n",
       " None,\n",
       " None,\n",
       " None,\n",
       " None,\n",
       " None,\n",
       " None,\n",
       " None,\n",
       " None,\n",
       " None,\n",
       " None,\n",
       " None,\n",
       " None,\n",
       " None,\n",
       " None,\n",
       " None,\n",
       " None,\n",
       " None,\n",
       " None,\n",
       " None,\n",
       " None,\n",
       " None,\n",
       " None,\n",
       " None,\n",
       " None,\n",
       " None,\n",
       " None,\n",
       " None,\n",
       " None,\n",
       " None,\n",
       " None,\n",
       " None,\n",
       " None]"
      ]
     },
     "execution_count": 557,
     "metadata": {},
     "output_type": "execute_result"
    }
   ],
   "source": [
    "page_url_urls = []\n",
    "\n",
    "for i in url:\n",
    "    page_url_urls.append(i.get_attribute(\"div\"))\n",
    "    \n",
    "page_url_urls"
   ]
  },
  {
   "cell_type": "code",
   "execution_count": null,
   "metadata": {},
   "outputs": [],
   "source": []
  },
  {
   "cell_type": "markdown",
   "metadata": {},
   "source": [
    "### Q7: Scrape 100 reviews data from flipkart.com for iphone11 phone. You have to \n",
    "go the link: https://www.flipkart.com/apple-iphone-11-black-64-gb-includes\u0002earpods-power\u0002adapter/p/itm0f37c2240b217?pid=MOBFKCTSVZAXUHGR&lid=LSTMOBFKC\n",
    "TSVZAXUHGREPBFGI&marketplace.\n",
    "When you will open the above link you will reach to the below shown webpage.\n",
    "As shown in the above page you have to scrape the tick marked attributes.\n",
    "These are \n",
    "1. Rating \n",
    "2. Review_summary \n",
    "3. Full review\n",
    "You have to scrape this data for first 100 reviews"
   ]
  },
  {
   "cell_type": "code",
   "execution_count": 560,
   "metadata": {},
   "outputs": [],
   "source": [
    "import pandas as pd\n",
    "import selenium\n",
    "from selenium import webdriver"
   ]
  },
  {
   "cell_type": "code",
   "execution_count": 664,
   "metadata": {},
   "outputs": [],
   "source": [
    "driver = webdriver.Chrome(r\"C:\\Users\\admin\\Downloads\\chromedriver_win32 (1)\\chromedriver.exe\")"
   ]
  },
  {
   "cell_type": "code",
   "execution_count": 665,
   "metadata": {},
   "outputs": [],
   "source": [
    "url =\"https://www.flipkart.com/apple-iphone-11-black-64-gb-includes-earpods-power-adapter/p/itm0f37c2240b217?pid=MOBFKCTSVZAXUHGR&lid=LSTMOBFKCTSVZAXUHGREPBFGI&marketplace\"\n",
    "driver.get(url)"
   ]
  },
  {
   "cell_type": "code",
   "execution_count": 666,
   "metadata": {},
   "outputs": [
    {
     "data": {
      "text/plain": [
       "[<selenium.webdriver.remote.webelement.WebElement (session=\"65e10c6b61c849c9d85259c7b08caa38\", element=\"9cdd9366-372d-4335-aa78-12a42ffedb0b\")>]"
      ]
     },
     "execution_count": 666,
     "metadata": {},
     "output_type": "execute_result"
    }
   ],
   "source": [
    "# Rating\n",
    "\n",
    "Rating_tags = driver.find_elements_by_xpath(\"//div[@class='_3LWZlK']\")\n",
    "\n",
    "Rating_tags"
   ]
  },
  {
   "cell_type": "code",
   "execution_count": 667,
   "metadata": {},
   "outputs": [
    {
     "data": {
      "text/plain": [
       "['4.6']"
      ]
     },
     "execution_count": 667,
     "metadata": {},
     "output_type": "execute_result"
    }
   ],
   "source": [
    "Total_Rating = []\n",
    "\n",
    "for i in Rating_tags:\n",
    "    Total_Rating.append(i.text)\n",
    "    \n",
    "Total_Rating"
   ]
  },
  {
   "cell_type": "code",
   "execution_count": null,
   "metadata": {},
   "outputs": [],
   "source": [
    "# Review_summary"
   ]
  },
  {
   "cell_type": "code",
   "execution_count": 671,
   "metadata": {},
   "outputs": [
    {
     "data": {
      "text/plain": [
       "[<selenium.webdriver.remote.webelement.WebElement (session=\"65e10c6b61c849c9d85259c7b08caa38\", element=\"ca8c8ada-620b-447b-a0d0-59bfa9e6b5a8\")>]"
      ]
     },
     "execution_count": 671,
     "metadata": {},
     "output_type": "execute_result"
    }
   ],
   "source": [
    "# Review\n",
    "\n",
    "Review_tags = driver.find_elements_by_xpath(\"//div[@class='row _3AjFsn _2c2kV-']\")\n",
    "\n",
    "Review_tags"
   ]
  },
  {
   "cell_type": "code",
   "execution_count": 672,
   "metadata": {},
   "outputs": [
    {
     "data": {
      "text/plain": [
       "['4.6★\\n70,911 Ratings &\\n5,420 Reviews\\n5★\\n4★\\n3★\\n2★\\n1★\\n55,208\\n9,917\\n2,274\\n824\\n2,688\\n4.7\\nCamera\\n4.5\\nBattery\\n4.2\\nDisplay\\n4.7\\nValue for Money']"
      ]
     },
     "execution_count": 672,
     "metadata": {},
     "output_type": "execute_result"
    }
   ],
   "source": [
    "Review_summary = []\n",
    "\n",
    "for i in Review_tags:\n",
    "    Review_summary.append(i.text)\n",
    "    \n",
    "Review_summary"
   ]
  },
  {
   "cell_type": "code",
   "execution_count": null,
   "metadata": {},
   "outputs": [],
   "source": [
    "#Full review You have to scrape this data for first 100 reviews"
   ]
  },
  {
   "cell_type": "code",
   "execution_count": null,
   "metadata": {},
   "outputs": [],
   "source": []
  },
  {
   "cell_type": "code",
   "execution_count": null,
   "metadata": {},
   "outputs": [],
   "source": []
  },
  {
   "cell_type": "code",
   "execution_count": null,
   "metadata": {},
   "outputs": [],
   "source": []
  },
  {
   "cell_type": "code",
   "execution_count": null,
   "metadata": {},
   "outputs": [],
   "source": []
  },
  {
   "cell_type": "code",
   "execution_count": null,
   "metadata": {},
   "outputs": [],
   "source": []
  },
  {
   "cell_type": "markdown",
   "metadata": {},
   "source": [
    "### Q8: Scrape data for first 100 sneakers you find when you visit flipkart.com and \n",
    "search for “sneakers” in the search field.\n",
    "You have to scrape 4 attributes of each sneaker :\n",
    "1. Brand\n",
    "2. Product Description\n",
    "3. Price\n",
    "4. discount %\n",
    "As shown in the below image, you have to scrape the tick marked attributes"
   ]
  },
  {
   "cell_type": "code",
   "execution_count": 576,
   "metadata": {},
   "outputs": [],
   "source": [
    "import pandas as pd\n",
    "import selenium\n",
    "from selenium import webdriver"
   ]
  },
  {
   "cell_type": "code",
   "execution_count": 577,
   "metadata": {},
   "outputs": [],
   "source": [
    "driver = webdriver.Chrome(r\"C:\\Users\\admin\\Downloads\\chromedriver_win32 (1)\\chromedriver.exe\")"
   ]
  },
  {
   "cell_type": "code",
   "execution_count": 578,
   "metadata": {},
   "outputs": [],
   "source": [
    "url = \"https://www.flipkart.com/\"\n",
    "driver.get(url)"
   ]
  },
  {
   "cell_type": "code",
   "execution_count": 579,
   "metadata": {},
   "outputs": [
    {
     "data": {
      "text/plain": [
       "<selenium.webdriver.remote.webelement.WebElement (session=\"2bf6bbf6a932a71644127f09480c7e3e\", element=\"c95e172a-6517-4317-9838-307566a8721a\")>"
      ]
     },
     "execution_count": 579,
     "metadata": {},
     "output_type": "execute_result"
    }
   ],
   "source": [
    "search_Shop = driver.find_element_by_name('q')\n",
    "search_Shop"
   ]
  },
  {
   "cell_type": "code",
   "execution_count": 580,
   "metadata": {},
   "outputs": [],
   "source": [
    "search_Shop.send_keys(\"sneakers\")"
   ]
  },
  {
   "cell_type": "code",
   "execution_count": 581,
   "metadata": {},
   "outputs": [
    {
     "data": {
      "text/plain": [
       "<selenium.webdriver.remote.webelement.WebElement (session=\"2bf6bbf6a932a71644127f09480c7e3e\", element=\"f6f3c44b-2133-420a-92cb-dd99afd05262\")>"
      ]
     },
     "execution_count": 581,
     "metadata": {},
     "output_type": "execute_result"
    }
   ],
   "source": [
    "search_btn = driver.find_element_by_xpath(\"//button[@class='L0Z3Pu']\")\n",
    "\n",
    "search_btn"
   ]
  },
  {
   "cell_type": "code",
   "execution_count": 582,
   "metadata": {},
   "outputs": [],
   "source": [
    "search_btn.click()"
   ]
  },
  {
   "cell_type": "code",
   "execution_count": 583,
   "metadata": {},
   "outputs": [
    {
     "data": {
      "text/plain": [
       "[<selenium.webdriver.remote.webelement.WebElement (session=\"2bf6bbf6a932a71644127f09480c7e3e\", element=\"e5fcc4bb-49cc-4f3d-8ef7-bf04e3aa1555\")>,\n",
       " <selenium.webdriver.remote.webelement.WebElement (session=\"2bf6bbf6a932a71644127f09480c7e3e\", element=\"af0f88c1-12f4-495f-bd44-0c61f57effc8\")>,\n",
       " <selenium.webdriver.remote.webelement.WebElement (session=\"2bf6bbf6a932a71644127f09480c7e3e\", element=\"ba2f183d-b554-40e2-899d-bc0967031e19\")>,\n",
       " <selenium.webdriver.remote.webelement.WebElement (session=\"2bf6bbf6a932a71644127f09480c7e3e\", element=\"5f2d8af2-25ab-4b8d-8417-827cb8e90f92\")>,\n",
       " <selenium.webdriver.remote.webelement.WebElement (session=\"2bf6bbf6a932a71644127f09480c7e3e\", element=\"107bfd2a-b9d9-498b-9813-08784850bc50\")>,\n",
       " <selenium.webdriver.remote.webelement.WebElement (session=\"2bf6bbf6a932a71644127f09480c7e3e\", element=\"68fa4b02-c510-49b8-ac52-5cd98572030f\")>,\n",
       " <selenium.webdriver.remote.webelement.WebElement (session=\"2bf6bbf6a932a71644127f09480c7e3e\", element=\"a5ba9598-1756-4e45-883d-fba44e668fa6\")>,\n",
       " <selenium.webdriver.remote.webelement.WebElement (session=\"2bf6bbf6a932a71644127f09480c7e3e\", element=\"15dc8e32-6f08-4437-b75c-d03229563ba6\")>,\n",
       " <selenium.webdriver.remote.webelement.WebElement (session=\"2bf6bbf6a932a71644127f09480c7e3e\", element=\"c229dbf5-06d8-4652-b52f-878fb1892218\")>,\n",
       " <selenium.webdriver.remote.webelement.WebElement (session=\"2bf6bbf6a932a71644127f09480c7e3e\", element=\"622d8841-6f49-451d-b983-876f69136084\")>,\n",
       " <selenium.webdriver.remote.webelement.WebElement (session=\"2bf6bbf6a932a71644127f09480c7e3e\", element=\"2b8d724a-53c4-4a26-a3d8-2a8b7bb37687\")>,\n",
       " <selenium.webdriver.remote.webelement.WebElement (session=\"2bf6bbf6a932a71644127f09480c7e3e\", element=\"413693ae-b986-47d8-8525-e6e36c76f23a\")>,\n",
       " <selenium.webdriver.remote.webelement.WebElement (session=\"2bf6bbf6a932a71644127f09480c7e3e\", element=\"0e1cf8f5-03e5-4e53-b934-0a423b78885a\")>,\n",
       " <selenium.webdriver.remote.webelement.WebElement (session=\"2bf6bbf6a932a71644127f09480c7e3e\", element=\"e1c9da2d-4932-4b11-9ae5-5ddef0835343\")>,\n",
       " <selenium.webdriver.remote.webelement.WebElement (session=\"2bf6bbf6a932a71644127f09480c7e3e\", element=\"8086463f-48c9-4396-b051-57715fd4707c\")>,\n",
       " <selenium.webdriver.remote.webelement.WebElement (session=\"2bf6bbf6a932a71644127f09480c7e3e\", element=\"3787fa81-e232-4df4-91cf-d7baccc371a0\")>,\n",
       " <selenium.webdriver.remote.webelement.WebElement (session=\"2bf6bbf6a932a71644127f09480c7e3e\", element=\"5a179f42-d31e-4d54-aae8-6e657e965467\")>,\n",
       " <selenium.webdriver.remote.webelement.WebElement (session=\"2bf6bbf6a932a71644127f09480c7e3e\", element=\"ecdf969a-49dc-44dd-9ac9-c5a5123016d2\")>,\n",
       " <selenium.webdriver.remote.webelement.WebElement (session=\"2bf6bbf6a932a71644127f09480c7e3e\", element=\"c0667a1b-8814-47ef-9068-782806f55a81\")>,\n",
       " <selenium.webdriver.remote.webelement.WebElement (session=\"2bf6bbf6a932a71644127f09480c7e3e\", element=\"f6c729bb-fce1-49c9-8e5b-2375bf8cb99a\")>,\n",
       " <selenium.webdriver.remote.webelement.WebElement (session=\"2bf6bbf6a932a71644127f09480c7e3e\", element=\"411f8c4d-2ea2-4118-9ed4-5685c18a17b4\")>,\n",
       " <selenium.webdriver.remote.webelement.WebElement (session=\"2bf6bbf6a932a71644127f09480c7e3e\", element=\"9df1137a-8f33-4cb1-a263-ee0e9ac38947\")>,\n",
       " <selenium.webdriver.remote.webelement.WebElement (session=\"2bf6bbf6a932a71644127f09480c7e3e\", element=\"32e6e5ab-bb28-41a6-9c58-105dcf43bb5d\")>,\n",
       " <selenium.webdriver.remote.webelement.WebElement (session=\"2bf6bbf6a932a71644127f09480c7e3e\", element=\"261d58d3-20ee-43e3-8824-c4464f284c9b\")>,\n",
       " <selenium.webdriver.remote.webelement.WebElement (session=\"2bf6bbf6a932a71644127f09480c7e3e\", element=\"d071fd09-4a03-4597-8419-99ce34b94f46\")>,\n",
       " <selenium.webdriver.remote.webelement.WebElement (session=\"2bf6bbf6a932a71644127f09480c7e3e\", element=\"1317fa42-0a06-4649-87b5-b0301f22997c\")>,\n",
       " <selenium.webdriver.remote.webelement.WebElement (session=\"2bf6bbf6a932a71644127f09480c7e3e\", element=\"d38140c9-d4ec-4b99-8e0f-b8047f780c46\")>,\n",
       " <selenium.webdriver.remote.webelement.WebElement (session=\"2bf6bbf6a932a71644127f09480c7e3e\", element=\"01ac5f3f-8826-4211-9843-20b2a7e3b9d2\")>,\n",
       " <selenium.webdriver.remote.webelement.WebElement (session=\"2bf6bbf6a932a71644127f09480c7e3e\", element=\"f1232969-d61d-4e45-9049-d2088c6acc80\")>,\n",
       " <selenium.webdriver.remote.webelement.WebElement (session=\"2bf6bbf6a932a71644127f09480c7e3e\", element=\"af877ce8-cdd2-493a-9ba5-533093fdc828\")>,\n",
       " <selenium.webdriver.remote.webelement.WebElement (session=\"2bf6bbf6a932a71644127f09480c7e3e\", element=\"d10e55bf-4118-4b09-9110-b34cd88b4b9a\")>,\n",
       " <selenium.webdriver.remote.webelement.WebElement (session=\"2bf6bbf6a932a71644127f09480c7e3e\", element=\"d2131b86-7e6c-452d-8d83-6f0853ff5b1b\")>,\n",
       " <selenium.webdriver.remote.webelement.WebElement (session=\"2bf6bbf6a932a71644127f09480c7e3e\", element=\"423a9d20-9a60-4792-8be5-57da38dabf17\")>,\n",
       " <selenium.webdriver.remote.webelement.WebElement (session=\"2bf6bbf6a932a71644127f09480c7e3e\", element=\"5d042280-13bc-439b-b332-1dc36cbb87ae\")>,\n",
       " <selenium.webdriver.remote.webelement.WebElement (session=\"2bf6bbf6a932a71644127f09480c7e3e\", element=\"b521e379-576e-47c3-96de-bf83588d2dff\")>,\n",
       " <selenium.webdriver.remote.webelement.WebElement (session=\"2bf6bbf6a932a71644127f09480c7e3e\", element=\"586388d3-cbc2-4768-9c43-8b0a40a9e2c1\")>,\n",
       " <selenium.webdriver.remote.webelement.WebElement (session=\"2bf6bbf6a932a71644127f09480c7e3e\", element=\"da471177-ee3b-4fed-878c-efb6917d6afd\")>,\n",
       " <selenium.webdriver.remote.webelement.WebElement (session=\"2bf6bbf6a932a71644127f09480c7e3e\", element=\"86d57b13-b205-4e86-829a-442159ee8bb5\")>,\n",
       " <selenium.webdriver.remote.webelement.WebElement (session=\"2bf6bbf6a932a71644127f09480c7e3e\", element=\"8cb10153-464c-4ad0-82ea-327363281304\")>,\n",
       " <selenium.webdriver.remote.webelement.WebElement (session=\"2bf6bbf6a932a71644127f09480c7e3e\", element=\"244bfe91-3589-42a7-b946-ae179017d637\")>]"
      ]
     },
     "execution_count": 583,
     "metadata": {},
     "output_type": "execute_result"
    }
   ],
   "source": [
    "#  Brand\n",
    "Brand_tags = driver.find_elements_by_xpath(\"//div[@class='_2WkVRV']\")\n",
    "Brand_tags"
   ]
  },
  {
   "cell_type": "code",
   "execution_count": 584,
   "metadata": {},
   "outputs": [
    {
     "data": {
      "text/plain": [
       "['DUCATI',\n",
       " 'BIRDE',\n",
       " 'Numenzo',\n",
       " 'Chevit',\n",
       " 'ASTEROID',\n",
       " 'Magnolia',\n",
       " 'World Wear Footwear',\n",
       " 'Labbin',\n",
       " 'Chevit',\n",
       " 'bluemaker',\n",
       " 'Red Rose',\n",
       " 'DUCATI',\n",
       " 'BRUTON',\n",
       " 'PEHANOSA',\n",
       " 'Numenzo',\n",
       " 'PUMA',\n",
       " 'Shoes Bank',\n",
       " 'believe',\n",
       " 'Chevit',\n",
       " 'aadi',\n",
       " 'India hub',\n",
       " 'SCATCHITE',\n",
       " 'BRUTON',\n",
       " 'DUCATI',\n",
       " 'Chevit',\n",
       " 'World Wear Footwear',\n",
       " 'luxury fashion',\n",
       " 'Chevit',\n",
       " 'RODDICK SHOES',\n",
       " 'Nilatin',\n",
       " 'ROCKFIELD',\n",
       " 'RED TAPE',\n",
       " 'Nilatin',\n",
       " 'Kraasa',\n",
       " 'SPARX',\n",
       " 'PUMA',\n",
       " 'Chevit',\n",
       " 'BRUTON',\n",
       " 'Longwalk',\n",
       " 'Labbin']"
      ]
     },
     "execution_count": 584,
     "metadata": {},
     "output_type": "execute_result"
    }
   ],
   "source": [
    "Brand = []\n",
    "\n",
    "for i in Brand_tags:\n",
    "    Brand.append(i.text)\n",
    "    \n",
    "Brand\n",
    "    "
   ]
  },
  {
   "cell_type": "code",
   "execution_count": 595,
   "metadata": {},
   "outputs": [
    {
     "data": {
      "text/plain": [
       "[<selenium.webdriver.remote.webelement.WebElement (session=\"2bf6bbf6a932a71644127f09480c7e3e\", element=\"24d84dc6-08f4-452e-8bf2-a2516259ffe8\")>,\n",
       " <selenium.webdriver.remote.webelement.WebElement (session=\"2bf6bbf6a932a71644127f09480c7e3e\", element=\"d3a91f56-db6a-43c9-9d12-e19eb0c9b960\")>,\n",
       " <selenium.webdriver.remote.webelement.WebElement (session=\"2bf6bbf6a932a71644127f09480c7e3e\", element=\"a302d7d1-29ff-4610-a663-134d3fc4a9b9\")>,\n",
       " <selenium.webdriver.remote.webelement.WebElement (session=\"2bf6bbf6a932a71644127f09480c7e3e\", element=\"d96b2354-0de3-4f89-94eb-a5770359aa72\")>,\n",
       " <selenium.webdriver.remote.webelement.WebElement (session=\"2bf6bbf6a932a71644127f09480c7e3e\", element=\"2eaa5696-6b71-483a-b038-6d78db474666\")>,\n",
       " <selenium.webdriver.remote.webelement.WebElement (session=\"2bf6bbf6a932a71644127f09480c7e3e\", element=\"aee362e7-1f8f-4020-a1d4-613d8f7c3537\")>,\n",
       " <selenium.webdriver.remote.webelement.WebElement (session=\"2bf6bbf6a932a71644127f09480c7e3e\", element=\"af248855-999f-4d05-a159-0ae5de0cc6a1\")>,\n",
       " <selenium.webdriver.remote.webelement.WebElement (session=\"2bf6bbf6a932a71644127f09480c7e3e\", element=\"534ab3d7-b085-4af1-abb1-fbf6a8dc4c31\")>,\n",
       " <selenium.webdriver.remote.webelement.WebElement (session=\"2bf6bbf6a932a71644127f09480c7e3e\", element=\"279e6c19-b5a6-4ab1-be06-fa851415a738\")>,\n",
       " <selenium.webdriver.remote.webelement.WebElement (session=\"2bf6bbf6a932a71644127f09480c7e3e\", element=\"7faae4c0-2e4e-428c-ab04-3b9a1e2a8154\")>,\n",
       " <selenium.webdriver.remote.webelement.WebElement (session=\"2bf6bbf6a932a71644127f09480c7e3e\", element=\"7c21151b-742f-4765-9772-8252e53747a4\")>,\n",
       " <selenium.webdriver.remote.webelement.WebElement (session=\"2bf6bbf6a932a71644127f09480c7e3e\", element=\"fc2055a9-af87-42ba-a286-e27b857bb0b7\")>,\n",
       " <selenium.webdriver.remote.webelement.WebElement (session=\"2bf6bbf6a932a71644127f09480c7e3e\", element=\"b44161e2-d45f-43ee-869c-9e19ed5d5631\")>,\n",
       " <selenium.webdriver.remote.webelement.WebElement (session=\"2bf6bbf6a932a71644127f09480c7e3e\", element=\"e738f8b6-bece-4a32-804d-25ea8b8c055d\")>,\n",
       " <selenium.webdriver.remote.webelement.WebElement (session=\"2bf6bbf6a932a71644127f09480c7e3e\", element=\"863de426-83db-4d1a-8570-bbbbe45433fb\")>,\n",
       " <selenium.webdriver.remote.webelement.WebElement (session=\"2bf6bbf6a932a71644127f09480c7e3e\", element=\"5cdcff9e-640a-40c4-b110-751f3d64d16d\")>,\n",
       " <selenium.webdriver.remote.webelement.WebElement (session=\"2bf6bbf6a932a71644127f09480c7e3e\", element=\"0d6756f0-95e0-4108-9ce1-e7cb3644e9ba\")>,\n",
       " <selenium.webdriver.remote.webelement.WebElement (session=\"2bf6bbf6a932a71644127f09480c7e3e\", element=\"3a1e47f1-793e-4768-b853-11cb31a0750e\")>,\n",
       " <selenium.webdriver.remote.webelement.WebElement (session=\"2bf6bbf6a932a71644127f09480c7e3e\", element=\"b5ce78fc-12d2-4397-a724-f36325f5ead9\")>,\n",
       " <selenium.webdriver.remote.webelement.WebElement (session=\"2bf6bbf6a932a71644127f09480c7e3e\", element=\"9687e970-7b2d-40c5-801d-83b58932931f\")>,\n",
       " <selenium.webdriver.remote.webelement.WebElement (session=\"2bf6bbf6a932a71644127f09480c7e3e\", element=\"7e58e34f-9595-455c-9d7b-8c19e529e3c9\")>,\n",
       " <selenium.webdriver.remote.webelement.WebElement (session=\"2bf6bbf6a932a71644127f09480c7e3e\", element=\"14ea2d0e-1741-4792-8142-ccc4d1958a3a\")>,\n",
       " <selenium.webdriver.remote.webelement.WebElement (session=\"2bf6bbf6a932a71644127f09480c7e3e\", element=\"2fbcdfaf-80ca-4456-a179-133b7dbacdcf\")>,\n",
       " <selenium.webdriver.remote.webelement.WebElement (session=\"2bf6bbf6a932a71644127f09480c7e3e\", element=\"2fd6b1c8-9abe-4dc5-bcc6-0601bb6d7672\")>,\n",
       " <selenium.webdriver.remote.webelement.WebElement (session=\"2bf6bbf6a932a71644127f09480c7e3e\", element=\"c39465cc-6a2d-44d6-8307-ce2471adb8d1\")>,\n",
       " <selenium.webdriver.remote.webelement.WebElement (session=\"2bf6bbf6a932a71644127f09480c7e3e\", element=\"e2622191-ed79-41a9-a879-7ff85335fcf2\")>,\n",
       " <selenium.webdriver.remote.webelement.WebElement (session=\"2bf6bbf6a932a71644127f09480c7e3e\", element=\"98a5d1c1-e85e-4e40-bfb6-59e1a924dd50\")>,\n",
       " <selenium.webdriver.remote.webelement.WebElement (session=\"2bf6bbf6a932a71644127f09480c7e3e\", element=\"9d8081ff-65ce-4dbd-bc8d-c3fac8a80fe6\")>,\n",
       " <selenium.webdriver.remote.webelement.WebElement (session=\"2bf6bbf6a932a71644127f09480c7e3e\", element=\"b7c89533-9624-4995-ba99-f61e8cc9bd50\")>,\n",
       " <selenium.webdriver.remote.webelement.WebElement (session=\"2bf6bbf6a932a71644127f09480c7e3e\", element=\"6ee4cfca-7f01-4a88-9db4-0e3eaa79a6a6\")>,\n",
       " <selenium.webdriver.remote.webelement.WebElement (session=\"2bf6bbf6a932a71644127f09480c7e3e\", element=\"28ec5ea2-aa9c-4bd6-ab80-a997bdd7a620\")>,\n",
       " <selenium.webdriver.remote.webelement.WebElement (session=\"2bf6bbf6a932a71644127f09480c7e3e\", element=\"058fb2ad-b0f2-4860-a272-097269589b53\")>,\n",
       " <selenium.webdriver.remote.webelement.WebElement (session=\"2bf6bbf6a932a71644127f09480c7e3e\", element=\"f74672cf-064d-4c7a-936c-213b01626c4d\")>,\n",
       " <selenium.webdriver.remote.webelement.WebElement (session=\"2bf6bbf6a932a71644127f09480c7e3e\", element=\"ca203761-32f6-4625-be58-395987efde88\")>,\n",
       " <selenium.webdriver.remote.webelement.WebElement (session=\"2bf6bbf6a932a71644127f09480c7e3e\", element=\"b059dabf-15e2-484d-ae89-7a1462f21658\")>,\n",
       " <selenium.webdriver.remote.webelement.WebElement (session=\"2bf6bbf6a932a71644127f09480c7e3e\", element=\"bd7221c5-3e80-4420-b952-38fcb78471a3\")>,\n",
       " <selenium.webdriver.remote.webelement.WebElement (session=\"2bf6bbf6a932a71644127f09480c7e3e\", element=\"3e230873-f2ce-4b8d-a541-c0f54b989d60\")>,\n",
       " <selenium.webdriver.remote.webelement.WebElement (session=\"2bf6bbf6a932a71644127f09480c7e3e\", element=\"ba3a8ded-5322-4583-8de5-c11720cd4c6a\")>]"
      ]
     },
     "execution_count": 595,
     "metadata": {},
     "output_type": "execute_result"
    }
   ],
   "source": [
    "# Product Description\n",
    "\n",
    "Product_tags = driver.find_elements_by_xpath(\"//a[@class='IRpwTa']\")\n",
    "\n",
    "Product_tags"
   ]
  },
  {
   "cell_type": "code",
   "execution_count": 596,
   "metadata": {},
   "outputs": [
    {
     "data": {
      "text/plain": [
       "['Sneakers For Men',\n",
       " 'Trendy and Stylish Casual Shoes Sneakers For Men',\n",
       " 'Sneakers For Men',\n",
       " 'Unique & Perfect Collection Combo Pack of 02 Shoes for ...',\n",
       " \"Original Luxury Branded Fashionable Men's Casual Walkin...\",\n",
       " 'Sneakers For Men',\n",
       " '5011-Latest Collection Stylish Casual Loafer Sneakers S...',\n",
       " 'Sneakers For Men',\n",
       " 'Super Stylish & Trendy Combo Pack of 02 Pairs Sneakers ...',\n",
       " 'casual for men (blue 06) Sneakers For Men',\n",
       " 'Sneakers For Men',\n",
       " 'Sneakers For Men',\n",
       " 'Combo Pack Of 4 Casual Shoes Loafer Shoes Sneakers For ...',\n",
       " 'Sneakers For Men',\n",
       " 'Sneakers For Men',\n",
       " 'Urban SL Sneakers For Men',\n",
       " \"White Sneaker For Men's/Boy's Sneakers For Men\",\n",
       " 'Sneakers for men(black_6) Sneakers For Men',\n",
       " '494 Perfect Sports Shoes for Running Training Hikking &...',\n",
       " 'Walking Shoes For Men (Black) Sneakers For Men',\n",
       " 'Fashionable casual sneakers shoes Sneakers For Men',\n",
       " 'Sneakers Sneakers For Men',\n",
       " 'Modern & Trendy Collection Combo Pack of 02 Shoes for M...',\n",
       " 'Sneakers For Men',\n",
       " 'Perfect & Affordable Combo Pack of 03 Pairs Casual Snea...',\n",
       " 'Men 5014 Latest Collection Stylish Casual Sports Loafer...',\n",
       " 'Luxury Fashionable casual sneaker shoes Sneakers For Me...',\n",
       " 'Combo Pack of 4 Casual Sneakers With Sneakers For Men',\n",
       " 'Fashion Outdoor Canvas Casual Light Weight Lace-up Even...',\n",
       " 'Sneakers For Men',\n",
       " 'Sneakers For Men',\n",
       " 'Black Sneaker For Men Sneakers For Men',\n",
       " 'Series 7 Sneakers For Men',\n",
       " 'Puma Smash v2 Buck Sneakers For Men',\n",
       " 'Perfect & Affordable Combo Pack of 02 Pairs Sneakers Ou...',\n",
       " 'Modern Trendy Sneakers Shoes Sneakers For Men',\n",
       " 'Men Boxer Sneakers For Men',\n",
       " 'Casual Sneakers White Shoes For Men And Boys Sneakers F...']"
      ]
     },
     "execution_count": 596,
     "metadata": {},
     "output_type": "execute_result"
    }
   ],
   "source": [
    "Product_Description = []\n",
    "\n",
    "for i in Product_tags:\n",
    "    Product_Description.append(i.text)\n",
    "    \n",
    "Product_Description\n",
    "    "
   ]
  },
  {
   "cell_type": "code",
   "execution_count": 587,
   "metadata": {},
   "outputs": [
    {
     "data": {
      "text/plain": [
       "[<selenium.webdriver.remote.webelement.WebElement (session=\"2bf6bbf6a932a71644127f09480c7e3e\", element=\"3bdafe1a-1ebd-4d0b-a37a-049f9e3551f8\")>,\n",
       " <selenium.webdriver.remote.webelement.WebElement (session=\"2bf6bbf6a932a71644127f09480c7e3e\", element=\"ea549ac0-cfef-4ed4-aaa3-adee68dd159f\")>,\n",
       " <selenium.webdriver.remote.webelement.WebElement (session=\"2bf6bbf6a932a71644127f09480c7e3e\", element=\"c9391eeb-35d0-4e63-b6ab-077ba65ba1c8\")>,\n",
       " <selenium.webdriver.remote.webelement.WebElement (session=\"2bf6bbf6a932a71644127f09480c7e3e\", element=\"69ce767e-ea5c-4dc0-a631-ef247cf798f9\")>,\n",
       " <selenium.webdriver.remote.webelement.WebElement (session=\"2bf6bbf6a932a71644127f09480c7e3e\", element=\"7f3875fb-99dd-4c61-97be-94a50a33f56c\")>,\n",
       " <selenium.webdriver.remote.webelement.WebElement (session=\"2bf6bbf6a932a71644127f09480c7e3e\", element=\"3344014b-7777-4017-b988-f12eddb52a52\")>,\n",
       " <selenium.webdriver.remote.webelement.WebElement (session=\"2bf6bbf6a932a71644127f09480c7e3e\", element=\"91633c8b-7b47-44f6-abe4-b25abb22ec3f\")>,\n",
       " <selenium.webdriver.remote.webelement.WebElement (session=\"2bf6bbf6a932a71644127f09480c7e3e\", element=\"cf5ff2ba-5cd3-47ec-8a1f-29d5607a4421\")>,\n",
       " <selenium.webdriver.remote.webelement.WebElement (session=\"2bf6bbf6a932a71644127f09480c7e3e\", element=\"4db69e06-9706-4987-92ea-e59187d90472\")>,\n",
       " <selenium.webdriver.remote.webelement.WebElement (session=\"2bf6bbf6a932a71644127f09480c7e3e\", element=\"037a0730-7289-4bdb-8145-c87b9888df1f\")>,\n",
       " <selenium.webdriver.remote.webelement.WebElement (session=\"2bf6bbf6a932a71644127f09480c7e3e\", element=\"04de1180-7232-4a24-a42b-1b9ed254603e\")>,\n",
       " <selenium.webdriver.remote.webelement.WebElement (session=\"2bf6bbf6a932a71644127f09480c7e3e\", element=\"f1d42154-ad00-432c-9659-1c7cd08c0c12\")>,\n",
       " <selenium.webdriver.remote.webelement.WebElement (session=\"2bf6bbf6a932a71644127f09480c7e3e\", element=\"44d203e8-7338-47c3-b0b4-d4683942303d\")>,\n",
       " <selenium.webdriver.remote.webelement.WebElement (session=\"2bf6bbf6a932a71644127f09480c7e3e\", element=\"76395722-117b-4a80-938d-00280d5b0e52\")>,\n",
       " <selenium.webdriver.remote.webelement.WebElement (session=\"2bf6bbf6a932a71644127f09480c7e3e\", element=\"d7b50cda-21b4-408f-97ff-dc090890cc0d\")>,\n",
       " <selenium.webdriver.remote.webelement.WebElement (session=\"2bf6bbf6a932a71644127f09480c7e3e\", element=\"c5503055-ed15-43b6-81ff-64047db5d714\")>,\n",
       " <selenium.webdriver.remote.webelement.WebElement (session=\"2bf6bbf6a932a71644127f09480c7e3e\", element=\"d2ea5324-a008-4c9e-bc60-c3b22dfd68ba\")>,\n",
       " <selenium.webdriver.remote.webelement.WebElement (session=\"2bf6bbf6a932a71644127f09480c7e3e\", element=\"20e3e0a1-ac79-40e2-bd2e-1efe44f843c7\")>,\n",
       " <selenium.webdriver.remote.webelement.WebElement (session=\"2bf6bbf6a932a71644127f09480c7e3e\", element=\"a3418a88-3f5d-4afc-95e2-aa66085ceccf\")>,\n",
       " <selenium.webdriver.remote.webelement.WebElement (session=\"2bf6bbf6a932a71644127f09480c7e3e\", element=\"03db8bb5-007d-4136-8c63-c103e4f677b8\")>,\n",
       " <selenium.webdriver.remote.webelement.WebElement (session=\"2bf6bbf6a932a71644127f09480c7e3e\", element=\"568d4a3c-f556-43d4-911a-671d7e798bd8\")>,\n",
       " <selenium.webdriver.remote.webelement.WebElement (session=\"2bf6bbf6a932a71644127f09480c7e3e\", element=\"b6c743e5-eaa5-43a9-8c47-08564dd2ee19\")>,\n",
       " <selenium.webdriver.remote.webelement.WebElement (session=\"2bf6bbf6a932a71644127f09480c7e3e\", element=\"84d410f3-66ca-4743-8b4b-0bc25c964917\")>,\n",
       " <selenium.webdriver.remote.webelement.WebElement (session=\"2bf6bbf6a932a71644127f09480c7e3e\", element=\"4cdf9610-9a01-420a-9adb-482ef1c39920\")>,\n",
       " <selenium.webdriver.remote.webelement.WebElement (session=\"2bf6bbf6a932a71644127f09480c7e3e\", element=\"2e4de165-26cb-4995-ae60-9ec0eb2b16be\")>,\n",
       " <selenium.webdriver.remote.webelement.WebElement (session=\"2bf6bbf6a932a71644127f09480c7e3e\", element=\"d76783df-ba8c-47f4-b3b5-7eb9a925f23b\")>,\n",
       " <selenium.webdriver.remote.webelement.WebElement (session=\"2bf6bbf6a932a71644127f09480c7e3e\", element=\"3f85cc83-6184-4ee0-be8b-fca0a661d2f0\")>,\n",
       " <selenium.webdriver.remote.webelement.WebElement (session=\"2bf6bbf6a932a71644127f09480c7e3e\", element=\"7ffaa2f2-eaed-4194-b329-34ace831198d\")>,\n",
       " <selenium.webdriver.remote.webelement.WebElement (session=\"2bf6bbf6a932a71644127f09480c7e3e\", element=\"3398f5ae-4878-452c-ac1a-29834e7d2111\")>,\n",
       " <selenium.webdriver.remote.webelement.WebElement (session=\"2bf6bbf6a932a71644127f09480c7e3e\", element=\"b99f45a0-b5e5-492f-a9da-a5df9436b18d\")>,\n",
       " <selenium.webdriver.remote.webelement.WebElement (session=\"2bf6bbf6a932a71644127f09480c7e3e\", element=\"2b7017e1-cc24-49b6-a480-e48827f11329\")>,\n",
       " <selenium.webdriver.remote.webelement.WebElement (session=\"2bf6bbf6a932a71644127f09480c7e3e\", element=\"4063d9a5-82a1-4bc9-af1b-c4fc20b56d5f\")>,\n",
       " <selenium.webdriver.remote.webelement.WebElement (session=\"2bf6bbf6a932a71644127f09480c7e3e\", element=\"62a04015-756d-46fb-82e3-acae0072121f\")>,\n",
       " <selenium.webdriver.remote.webelement.WebElement (session=\"2bf6bbf6a932a71644127f09480c7e3e\", element=\"e56a2504-a380-4a9f-bd8e-055ecea7308b\")>,\n",
       " <selenium.webdriver.remote.webelement.WebElement (session=\"2bf6bbf6a932a71644127f09480c7e3e\", element=\"88a66780-375c-4c34-896a-2ae9155d8225\")>,\n",
       " <selenium.webdriver.remote.webelement.WebElement (session=\"2bf6bbf6a932a71644127f09480c7e3e\", element=\"6d606be7-0749-4779-9973-ff1a47fbbe40\")>,\n",
       " <selenium.webdriver.remote.webelement.WebElement (session=\"2bf6bbf6a932a71644127f09480c7e3e\", element=\"279b9c2d-3a44-4a36-a440-784b91247056\")>,\n",
       " <selenium.webdriver.remote.webelement.WebElement (session=\"2bf6bbf6a932a71644127f09480c7e3e\", element=\"8cd2ffe3-272a-4a45-be59-3dfb39e605bc\")>,\n",
       " <selenium.webdriver.remote.webelement.WebElement (session=\"2bf6bbf6a932a71644127f09480c7e3e\", element=\"370a9c21-8164-40ad-b04b-13f9c94aa206\")>,\n",
       " <selenium.webdriver.remote.webelement.WebElement (session=\"2bf6bbf6a932a71644127f09480c7e3e\", element=\"b2670666-e28c-479f-9ce1-4e083c8754b0\")>]"
      ]
     },
     "execution_count": 587,
     "metadata": {},
     "output_type": "execute_result"
    }
   ],
   "source": [
    "# Price\n",
    "\n",
    "Price_tags = driver.find_elements_by_xpath(\"//div[@class = '_30jeq3']\")\n",
    "\n",
    "Price_tags"
   ]
  },
  {
   "cell_type": "code",
   "execution_count": 588,
   "metadata": {},
   "outputs": [
    {
     "data": {
      "text/plain": [
       "['₹1,289',\n",
       " '₹299',\n",
       " '₹378',\n",
       " '₹420',\n",
       " '₹499',\n",
       " '₹356',\n",
       " '₹240',\n",
       " '₹449',\n",
       " '₹536',\n",
       " '₹399',\n",
       " '₹299',\n",
       " '₹1,209',\n",
       " '₹399',\n",
       " '₹424',\n",
       " '₹426',\n",
       " '₹1,614',\n",
       " '₹331',\n",
       " '₹399',\n",
       " '₹254',\n",
       " '₹299',\n",
       " '₹449',\n",
       " '₹398',\n",
       " '₹499',\n",
       " '₹1,259',\n",
       " '₹594',\n",
       " '₹240',\n",
       " '₹399',\n",
       " '₹424',\n",
       " '₹474',\n",
       " '₹407',\n",
       " '₹299',\n",
       " '₹1,423',\n",
       " '₹426',\n",
       " '₹416',\n",
       " '₹629',\n",
       " '₹1,437',\n",
       " '₹447',\n",
       " '₹319',\n",
       " '₹260',\n",
       " '₹399']"
      ]
     },
     "execution_count": 588,
     "metadata": {},
     "output_type": "execute_result"
    }
   ],
   "source": [
    "Price = []\n",
    "\n",
    "for i in Price_tags:\n",
    "    Price.append(i.text)\n",
    "    \n",
    "Price\n",
    "    "
   ]
  },
  {
   "cell_type": "code",
   "execution_count": 589,
   "metadata": {},
   "outputs": [
    {
     "data": {
      "text/plain": [
       "[<selenium.webdriver.remote.webelement.WebElement (session=\"2bf6bbf6a932a71644127f09480c7e3e\", element=\"d1fadc3f-cf20-4a09-9d7a-b684ce609a77\")>,\n",
       " <selenium.webdriver.remote.webelement.WebElement (session=\"2bf6bbf6a932a71644127f09480c7e3e\", element=\"8e5a25dc-fdc2-4993-bdbd-0140aa0d016d\")>,\n",
       " <selenium.webdriver.remote.webelement.WebElement (session=\"2bf6bbf6a932a71644127f09480c7e3e\", element=\"314a7352-cf76-40a9-9ca2-7a62547726b2\")>,\n",
       " <selenium.webdriver.remote.webelement.WebElement (session=\"2bf6bbf6a932a71644127f09480c7e3e\", element=\"7da366b2-727d-49bb-a299-6f3631e0b455\")>,\n",
       " <selenium.webdriver.remote.webelement.WebElement (session=\"2bf6bbf6a932a71644127f09480c7e3e\", element=\"1793abb9-fe1a-45ed-aab8-222d3b059cfd\")>,\n",
       " <selenium.webdriver.remote.webelement.WebElement (session=\"2bf6bbf6a932a71644127f09480c7e3e\", element=\"b696d505-a0b0-4b62-8f31-8d350ebd6469\")>,\n",
       " <selenium.webdriver.remote.webelement.WebElement (session=\"2bf6bbf6a932a71644127f09480c7e3e\", element=\"f0de483b-b1a6-439f-86a7-66c1c35b1b61\")>,\n",
       " <selenium.webdriver.remote.webelement.WebElement (session=\"2bf6bbf6a932a71644127f09480c7e3e\", element=\"c51021d9-17dd-459c-8d47-d8500737f944\")>,\n",
       " <selenium.webdriver.remote.webelement.WebElement (session=\"2bf6bbf6a932a71644127f09480c7e3e\", element=\"4976b316-0b1b-4728-a585-cf2f42644f15\")>,\n",
       " <selenium.webdriver.remote.webelement.WebElement (session=\"2bf6bbf6a932a71644127f09480c7e3e\", element=\"f20cb45c-f2a9-4dec-aa52-c30e05b9f496\")>,\n",
       " <selenium.webdriver.remote.webelement.WebElement (session=\"2bf6bbf6a932a71644127f09480c7e3e\", element=\"217c8a79-a94e-4b57-8aa2-1f13192e4c84\")>,\n",
       " <selenium.webdriver.remote.webelement.WebElement (session=\"2bf6bbf6a932a71644127f09480c7e3e\", element=\"f1968481-799c-4010-8eae-0c223f07b211\")>,\n",
       " <selenium.webdriver.remote.webelement.WebElement (session=\"2bf6bbf6a932a71644127f09480c7e3e\", element=\"5d5313df-f107-4546-9ff0-52338def744e\")>,\n",
       " <selenium.webdriver.remote.webelement.WebElement (session=\"2bf6bbf6a932a71644127f09480c7e3e\", element=\"da17ee18-cfa5-4960-b76c-a9a6ee7160cd\")>,\n",
       " <selenium.webdriver.remote.webelement.WebElement (session=\"2bf6bbf6a932a71644127f09480c7e3e\", element=\"ee97b115-78d8-4ef1-8338-1a7f813d9e12\")>,\n",
       " <selenium.webdriver.remote.webelement.WebElement (session=\"2bf6bbf6a932a71644127f09480c7e3e\", element=\"21435c3e-8731-4c4e-8d4f-4d3e7e0ad93d\")>,\n",
       " <selenium.webdriver.remote.webelement.WebElement (session=\"2bf6bbf6a932a71644127f09480c7e3e\", element=\"5735d7bc-d805-4e16-8248-1e64fe5395a1\")>,\n",
       " <selenium.webdriver.remote.webelement.WebElement (session=\"2bf6bbf6a932a71644127f09480c7e3e\", element=\"23bddafa-f95c-4b31-a5e3-b972f96941c7\")>,\n",
       " <selenium.webdriver.remote.webelement.WebElement (session=\"2bf6bbf6a932a71644127f09480c7e3e\", element=\"6a0d1492-ae7a-45a7-bbe1-724cefc1451c\")>,\n",
       " <selenium.webdriver.remote.webelement.WebElement (session=\"2bf6bbf6a932a71644127f09480c7e3e\", element=\"8fb461f7-b8b5-4c85-83ea-716aaaabbe62\")>,\n",
       " <selenium.webdriver.remote.webelement.WebElement (session=\"2bf6bbf6a932a71644127f09480c7e3e\", element=\"6750e69f-a440-479e-a806-51ee6c0feea2\")>,\n",
       " <selenium.webdriver.remote.webelement.WebElement (session=\"2bf6bbf6a932a71644127f09480c7e3e\", element=\"3b4521ee-7935-40dc-a8f4-5253c7294373\")>,\n",
       " <selenium.webdriver.remote.webelement.WebElement (session=\"2bf6bbf6a932a71644127f09480c7e3e\", element=\"422febe1-7e68-4dde-87e8-c0c48f70d9bd\")>,\n",
       " <selenium.webdriver.remote.webelement.WebElement (session=\"2bf6bbf6a932a71644127f09480c7e3e\", element=\"1160d7cb-cf94-4f08-a919-ca25c1d05dde\")>,\n",
       " <selenium.webdriver.remote.webelement.WebElement (session=\"2bf6bbf6a932a71644127f09480c7e3e\", element=\"0eae1509-756b-4fc2-9acf-6b462cae231a\")>,\n",
       " <selenium.webdriver.remote.webelement.WebElement (session=\"2bf6bbf6a932a71644127f09480c7e3e\", element=\"eba1aa0c-53a7-4e10-b232-04c9c4c3ff5c\")>,\n",
       " <selenium.webdriver.remote.webelement.WebElement (session=\"2bf6bbf6a932a71644127f09480c7e3e\", element=\"ea6f7379-f1a0-42e3-9cae-5f560baf44df\")>,\n",
       " <selenium.webdriver.remote.webelement.WebElement (session=\"2bf6bbf6a932a71644127f09480c7e3e\", element=\"cd5e96be-f985-4315-90f5-0695a691bcde\")>,\n",
       " <selenium.webdriver.remote.webelement.WebElement (session=\"2bf6bbf6a932a71644127f09480c7e3e\", element=\"6e8d2530-378f-4de3-829b-7b7c21e6b6e3\")>,\n",
       " <selenium.webdriver.remote.webelement.WebElement (session=\"2bf6bbf6a932a71644127f09480c7e3e\", element=\"d21e27f7-7522-44ae-9e39-7a62a4fa10c4\")>,\n",
       " <selenium.webdriver.remote.webelement.WebElement (session=\"2bf6bbf6a932a71644127f09480c7e3e\", element=\"008ac205-f406-45a9-a369-33557446e038\")>,\n",
       " <selenium.webdriver.remote.webelement.WebElement (session=\"2bf6bbf6a932a71644127f09480c7e3e\", element=\"d538c443-b94d-442b-8302-4351930b0576\")>,\n",
       " <selenium.webdriver.remote.webelement.WebElement (session=\"2bf6bbf6a932a71644127f09480c7e3e\", element=\"12085c76-df89-44e2-9647-af182d627c5f\")>,\n",
       " <selenium.webdriver.remote.webelement.WebElement (session=\"2bf6bbf6a932a71644127f09480c7e3e\", element=\"5bbb90cf-e301-4e89-bcd7-45f9efe60208\")>,\n",
       " <selenium.webdriver.remote.webelement.WebElement (session=\"2bf6bbf6a932a71644127f09480c7e3e\", element=\"6f9f5ec7-6796-4fa2-8fb3-4302f47b0c45\")>,\n",
       " <selenium.webdriver.remote.webelement.WebElement (session=\"2bf6bbf6a932a71644127f09480c7e3e\", element=\"aa85afb2-14cf-4de4-85a3-6d747b941905\")>,\n",
       " <selenium.webdriver.remote.webelement.WebElement (session=\"2bf6bbf6a932a71644127f09480c7e3e\", element=\"bab8433b-5961-45f1-b855-12e5f08f2a83\")>,\n",
       " <selenium.webdriver.remote.webelement.WebElement (session=\"2bf6bbf6a932a71644127f09480c7e3e\", element=\"d28f244c-27c3-454c-8d66-c260bf29a90a\")>,\n",
       " <selenium.webdriver.remote.webelement.WebElement (session=\"2bf6bbf6a932a71644127f09480c7e3e\", element=\"c60ed789-976e-48b6-a4d8-09aa59aa265c\")>,\n",
       " <selenium.webdriver.remote.webelement.WebElement (session=\"2bf6bbf6a932a71644127f09480c7e3e\", element=\"f23045bf-140f-4377-835f-3f5573bbddf6\")>]"
      ]
     },
     "execution_count": 589,
     "metadata": {},
     "output_type": "execute_result"
    }
   ],
   "source": [
    "# discount %\n",
    "discount_tags = driver.find_elements_by_xpath(\"//div[@class='_3Ay6Sb']\")\n",
    "discount_tags"
   ]
  },
  {
   "cell_type": "code",
   "execution_count": 590,
   "metadata": {},
   "outputs": [
    {
     "data": {
      "text/plain": [
       "['65% off',\n",
       " '70% off',\n",
       " '62% off',\n",
       " '71% off',\n",
       " '75% off',\n",
       " '64% off',\n",
       " '51% off',\n",
       " '55% off',\n",
       " '66% off',\n",
       " '60% off',\n",
       " '70% off',\n",
       " '68% off',\n",
       " '88% off',\n",
       " '57% off',\n",
       " '78% off',\n",
       " '57% off',\n",
       " '66% off',\n",
       " '60% off',\n",
       " '74% off',\n",
       " '85% off',\n",
       " '85% off',\n",
       " '60% off',\n",
       " '80% off',\n",
       " '65% off',\n",
       " '77% off',\n",
       " '51% off',\n",
       " '69% off',\n",
       " '78% off',\n",
       " '52% off',\n",
       " '68% off',\n",
       " '70% off',\n",
       " '75% off',\n",
       " '67% off',\n",
       " '58% off',\n",
       " '10% off',\n",
       " '58% off',\n",
       " '75% off',\n",
       " '75% off',\n",
       " '47% off',\n",
       " '60% off']"
      ]
     },
     "execution_count": 590,
     "metadata": {},
     "output_type": "execute_result"
    }
   ],
   "source": [
    "discount = []\n",
    "\n",
    "for i in discount_tags:\n",
    "    discount.append(i.text)\n",
    "    \n",
    "discount\n",
    "    "
   ]
  },
  {
   "cell_type": "code",
   "execution_count": null,
   "metadata": {},
   "outputs": [],
   "source": []
  },
  {
   "cell_type": "markdown",
   "metadata": {},
   "source": [
    "### Q9: Go to the link - https://www.myntra.com/shoes\n",
    "Set Price filter to “Rs. 6649 to Rs. 13099” , Color filter to “Black”, as shown in \n",
    "the below image\n",
    "And then scrape First 100 shoes data you get. The data should include “Brand” of \n",
    "the shoes , Short Shoe description, price of the shoe as shown in the below image."
   ]
  },
  {
   "cell_type": "code",
   "execution_count": 599,
   "metadata": {},
   "outputs": [],
   "source": [
    "import pandas as pd\n",
    "import selenium\n",
    "from selenium import webdriver"
   ]
  },
  {
   "cell_type": "code",
   "execution_count": 600,
   "metadata": {},
   "outputs": [],
   "source": [
    "driver = webdriver.Chrome(r\"C:\\Users\\admin\\Downloads\\chromedriver_win32 (1)\\chromedriver.exe\")"
   ]
  },
  {
   "cell_type": "code",
   "execution_count": 601,
   "metadata": {},
   "outputs": [],
   "source": [
    "url = \"https://www.myntra.com/shoes\"\n",
    "driver.get(url)"
   ]
  },
  {
   "cell_type": "code",
   "execution_count": null,
   "metadata": {},
   "outputs": [],
   "source": [
    "## In the above link the price filter not avail in range 6649 to 13099.so we can use price filter 5342 to 10495"
   ]
  },
  {
   "cell_type": "code",
   "execution_count": 607,
   "metadata": {},
   "outputs": [],
   "source": [
    "Price_filter = driver.find_element_by_xpath('/html/body/div[2]/div/div/main/div[3]/div[1]/section/div/div[5]/ul/li[2]/label/div')\n",
    "Price_filter.click()"
   ]
  },
  {
   "cell_type": "code",
   "execution_count": 605,
   "metadata": {},
   "outputs": [],
   "source": [
    "Color_filter = driver.find_element_by_xpath('/html/body/div[2]/div/div/main/div[3]/div[1]/section/div/div[6]/ul/li[1]/label/div')\n",
    "Color_filter.click()"
   ]
  },
  {
   "cell_type": "code",
   "execution_count": 608,
   "metadata": {},
   "outputs": [
    {
     "data": {
      "text/plain": [
       "[<selenium.webdriver.remote.webelement.WebElement (session=\"9bbbbb967206182b8c126f0009646f22\", element=\"7512027b-d6b2-4d92-9bf5-bf98b07633af\")>,\n",
       " <selenium.webdriver.remote.webelement.WebElement (session=\"9bbbbb967206182b8c126f0009646f22\", element=\"04f469fa-d26a-42db-8fb3-52b800f43d18\")>,\n",
       " <selenium.webdriver.remote.webelement.WebElement (session=\"9bbbbb967206182b8c126f0009646f22\", element=\"68437ee7-e5ec-4504-b128-b88d0b08f41d\")>,\n",
       " <selenium.webdriver.remote.webelement.WebElement (session=\"9bbbbb967206182b8c126f0009646f22\", element=\"37891276-af5d-4214-84b1-4901c5d5ea73\")>,\n",
       " <selenium.webdriver.remote.webelement.WebElement (session=\"9bbbbb967206182b8c126f0009646f22\", element=\"7fad08cc-ff3a-4aeb-8eb0-d3f96b15a5c1\")>,\n",
       " <selenium.webdriver.remote.webelement.WebElement (session=\"9bbbbb967206182b8c126f0009646f22\", element=\"9ce35de7-9be1-49ba-9d87-d9432e6c452d\")>,\n",
       " <selenium.webdriver.remote.webelement.WebElement (session=\"9bbbbb967206182b8c126f0009646f22\", element=\"0bceceb0-f481-4f0d-a594-24b551a81867\")>,\n",
       " <selenium.webdriver.remote.webelement.WebElement (session=\"9bbbbb967206182b8c126f0009646f22\", element=\"93d4ad9c-8a74-4643-903c-18687f447731\")>,\n",
       " <selenium.webdriver.remote.webelement.WebElement (session=\"9bbbbb967206182b8c126f0009646f22\", element=\"9e3b236e-7b9d-4918-85ed-dc716520d47f\")>,\n",
       " <selenium.webdriver.remote.webelement.WebElement (session=\"9bbbbb967206182b8c126f0009646f22\", element=\"4d46d309-a33a-4ba2-b396-56d0a24064a1\")>,\n",
       " <selenium.webdriver.remote.webelement.WebElement (session=\"9bbbbb967206182b8c126f0009646f22\", element=\"b4c4d372-1e16-4997-8cc7-ccfd1ee2dc5b\")>,\n",
       " <selenium.webdriver.remote.webelement.WebElement (session=\"9bbbbb967206182b8c126f0009646f22\", element=\"c2fd37f7-bd0a-488c-93f1-76b4b5254c24\")>,\n",
       " <selenium.webdriver.remote.webelement.WebElement (session=\"9bbbbb967206182b8c126f0009646f22\", element=\"d5d1d8ec-e909-4807-a633-be59671d75b1\")>,\n",
       " <selenium.webdriver.remote.webelement.WebElement (session=\"9bbbbb967206182b8c126f0009646f22\", element=\"d9da1d2f-ddcc-430d-be88-75b8e2073944\")>,\n",
       " <selenium.webdriver.remote.webelement.WebElement (session=\"9bbbbb967206182b8c126f0009646f22\", element=\"319875f9-cf1c-41eb-9821-4c96f7020c31\")>,\n",
       " <selenium.webdriver.remote.webelement.WebElement (session=\"9bbbbb967206182b8c126f0009646f22\", element=\"45ff0b2a-9aca-44be-ae22-44f2c127ccd0\")>,\n",
       " <selenium.webdriver.remote.webelement.WebElement (session=\"9bbbbb967206182b8c126f0009646f22\", element=\"5f379430-a66c-499b-8f2c-f5917f63bb47\")>,\n",
       " <selenium.webdriver.remote.webelement.WebElement (session=\"9bbbbb967206182b8c126f0009646f22\", element=\"03597558-b615-4b4a-b3d7-0b0225d73200\")>,\n",
       " <selenium.webdriver.remote.webelement.WebElement (session=\"9bbbbb967206182b8c126f0009646f22\", element=\"897109f0-2cdb-436e-a52f-b56883f66aef\")>,\n",
       " <selenium.webdriver.remote.webelement.WebElement (session=\"9bbbbb967206182b8c126f0009646f22\", element=\"e9ebba9b-056f-4226-80cc-abb531d91abd\")>,\n",
       " <selenium.webdriver.remote.webelement.WebElement (session=\"9bbbbb967206182b8c126f0009646f22\", element=\"6f50f492-2eaf-4a93-975e-ad8b331b8983\")>,\n",
       " <selenium.webdriver.remote.webelement.WebElement (session=\"9bbbbb967206182b8c126f0009646f22\", element=\"5e493598-b082-4074-ac0c-50f9043ca072\")>,\n",
       " <selenium.webdriver.remote.webelement.WebElement (session=\"9bbbbb967206182b8c126f0009646f22\", element=\"012ddf2a-6ba3-4ac1-a31a-1045339af169\")>,\n",
       " <selenium.webdriver.remote.webelement.WebElement (session=\"9bbbbb967206182b8c126f0009646f22\", element=\"e89d5b33-0087-44bc-a584-a96b0822ba81\")>,\n",
       " <selenium.webdriver.remote.webelement.WebElement (session=\"9bbbbb967206182b8c126f0009646f22\", element=\"0e2794e8-1579-4e82-9cbd-792f58f90c53\")>,\n",
       " <selenium.webdriver.remote.webelement.WebElement (session=\"9bbbbb967206182b8c126f0009646f22\", element=\"e95d21f2-5bf3-46e8-817c-7451224c4afd\")>,\n",
       " <selenium.webdriver.remote.webelement.WebElement (session=\"9bbbbb967206182b8c126f0009646f22\", element=\"2536a4ae-d065-4f5b-b88d-30e104db81f5\")>,\n",
       " <selenium.webdriver.remote.webelement.WebElement (session=\"9bbbbb967206182b8c126f0009646f22\", element=\"293aa848-f3de-4953-870c-c273353ada3d\")>,\n",
       " <selenium.webdriver.remote.webelement.WebElement (session=\"9bbbbb967206182b8c126f0009646f22\", element=\"2b1033e9-d6a5-4f4b-aa7f-26ea17dad471\")>,\n",
       " <selenium.webdriver.remote.webelement.WebElement (session=\"9bbbbb967206182b8c126f0009646f22\", element=\"9a36c368-7854-4da9-9f8b-ab163d0bb12b\")>,\n",
       " <selenium.webdriver.remote.webelement.WebElement (session=\"9bbbbb967206182b8c126f0009646f22\", element=\"61f374f5-8150-4ab6-8cde-f6688adb5770\")>,\n",
       " <selenium.webdriver.remote.webelement.WebElement (session=\"9bbbbb967206182b8c126f0009646f22\", element=\"6c42f4eb-5c90-427e-bbc5-7709d3162120\")>,\n",
       " <selenium.webdriver.remote.webelement.WebElement (session=\"9bbbbb967206182b8c126f0009646f22\", element=\"4a80c365-e429-4d61-b9e9-8a7814aa29d7\")>,\n",
       " <selenium.webdriver.remote.webelement.WebElement (session=\"9bbbbb967206182b8c126f0009646f22\", element=\"9cddd36e-b9fc-445e-9668-416123d81e34\")>,\n",
       " <selenium.webdriver.remote.webelement.WebElement (session=\"9bbbbb967206182b8c126f0009646f22\", element=\"252a136a-28f2-4161-9594-0004145f1fda\")>,\n",
       " <selenium.webdriver.remote.webelement.WebElement (session=\"9bbbbb967206182b8c126f0009646f22\", element=\"f07de9d2-9291-4832-bd97-2eae6c0913e7\")>,\n",
       " <selenium.webdriver.remote.webelement.WebElement (session=\"9bbbbb967206182b8c126f0009646f22\", element=\"f732632c-03d1-4806-a4fa-46b599052ed9\")>,\n",
       " <selenium.webdriver.remote.webelement.WebElement (session=\"9bbbbb967206182b8c126f0009646f22\", element=\"422f9850-5cfb-4278-8b07-1675824be3be\")>,\n",
       " <selenium.webdriver.remote.webelement.WebElement (session=\"9bbbbb967206182b8c126f0009646f22\", element=\"c23fbe75-f45b-4fcf-938a-1c7155e6ba6d\")>,\n",
       " <selenium.webdriver.remote.webelement.WebElement (session=\"9bbbbb967206182b8c126f0009646f22\", element=\"9c346f0b-6f1c-42ba-b601-7019add3b4e7\")>,\n",
       " <selenium.webdriver.remote.webelement.WebElement (session=\"9bbbbb967206182b8c126f0009646f22\", element=\"48df047c-d3be-45d4-bc4b-abcb69691935\")>,\n",
       " <selenium.webdriver.remote.webelement.WebElement (session=\"9bbbbb967206182b8c126f0009646f22\", element=\"d72ad242-f260-4215-a530-8edbc0e9d1ff\")>,\n",
       " <selenium.webdriver.remote.webelement.WebElement (session=\"9bbbbb967206182b8c126f0009646f22\", element=\"2c9b977d-98a3-40ab-903a-df949ac2cc9f\")>,\n",
       " <selenium.webdriver.remote.webelement.WebElement (session=\"9bbbbb967206182b8c126f0009646f22\", element=\"5c778f95-47aa-4ffa-99b7-220a9951df90\")>,\n",
       " <selenium.webdriver.remote.webelement.WebElement (session=\"9bbbbb967206182b8c126f0009646f22\", element=\"9757805b-db7e-47e0-9879-6851a7496693\")>,\n",
       " <selenium.webdriver.remote.webelement.WebElement (session=\"9bbbbb967206182b8c126f0009646f22\", element=\"6384596d-88b7-4ae9-9634-a24aec943c87\")>,\n",
       " <selenium.webdriver.remote.webelement.WebElement (session=\"9bbbbb967206182b8c126f0009646f22\", element=\"e79c2869-be6d-485e-bb9f-9ab4dfddea45\")>,\n",
       " <selenium.webdriver.remote.webelement.WebElement (session=\"9bbbbb967206182b8c126f0009646f22\", element=\"021982d2-c937-4b6a-b28f-ab018b4f72c8\")>,\n",
       " <selenium.webdriver.remote.webelement.WebElement (session=\"9bbbbb967206182b8c126f0009646f22\", element=\"30e9dc9b-60eb-456e-9146-ce274c461a7d\")>,\n",
       " <selenium.webdriver.remote.webelement.WebElement (session=\"9bbbbb967206182b8c126f0009646f22\", element=\"e0074586-6642-4d48-9735-059525243eb4\")>]"
      ]
     },
     "execution_count": 608,
     "metadata": {},
     "output_type": "execute_result"
    }
   ],
   "source": [
    "# Price of shoes\n",
    "Price_tags = driver.find_elements_by_xpath(\"//div[@class='product-price']\")\n",
    "Price_tags"
   ]
  },
  {
   "cell_type": "code",
   "execution_count": 609,
   "metadata": {},
   "outputs": [
    {
     "data": {
      "text/plain": [
       "['Rs. 5396Rs. 7195(25% OFF)',\n",
       " 'Rs. 8999',\n",
       " 'Rs. 7857Rs. 8449(7% OFF)',\n",
       " 'Rs. 6999',\n",
       " 'Rs. 5495',\n",
       " 'Rs. 6079Rs. 7599(20% OFF)',\n",
       " 'Rs. 5999',\n",
       " 'Rs. 9999',\n",
       " 'Rs. 7999',\n",
       " 'Rs. 6999',\n",
       " 'Rs. 6999Rs. 9999(30% OFF)',\n",
       " 'Rs. 6999',\n",
       " 'Rs. 6999',\n",
       " 'Rs. 9749Rs. 14999(35% OFF)',\n",
       " 'Rs. 5499',\n",
       " 'Rs. 7199Rs. 8999(20% OFF)',\n",
       " 'Rs. 7499',\n",
       " 'Rs. 7999',\n",
       " 'Rs. 5399Rs. 5999(10% OFF)',\n",
       " 'Rs. 7999',\n",
       " 'Rs. 6499',\n",
       " 'Rs. 7999',\n",
       " 'Rs. 6299Rs. 6999(10% OFF)',\n",
       " 'Rs. 8999Rs. 9999(10% OFF)',\n",
       " 'Rs. 9999',\n",
       " 'Rs. 6999Rs. 9999(30% OFF)',\n",
       " 'Rs. 6299Rs. 8999(30% OFF)',\n",
       " 'Rs. 6999',\n",
       " 'Rs. 6499',\n",
       " 'Rs. 6299Rs. 8999(30% OFF)',\n",
       " 'Rs. 8999',\n",
       " 'Rs. 5499',\n",
       " 'Rs. 7499',\n",
       " 'Rs. 5999',\n",
       " 'Rs. 8099Rs. 8999(10% OFF)',\n",
       " 'Rs. 5599Rs. 6999(20% OFF)',\n",
       " 'Rs. 6499',\n",
       " 'Rs. 8799Rs. 10999(20% OFF)',\n",
       " 'Rs. 5399Rs. 5999(10% OFF)',\n",
       " 'Rs. 5399Rs. 5999(10% OFF)',\n",
       " 'Rs. 5399Rs. 5999(10% OFF)',\n",
       " 'Rs. 6299Rs. 8999(30% OFF)',\n",
       " 'Rs. 9999',\n",
       " 'Rs. 5999',\n",
       " 'Rs. 8799Rs. 10999(20% OFF)',\n",
       " 'Rs. 10490',\n",
       " 'Rs. 7149Rs. 10999(35% OFF)',\n",
       " 'Rs. 5490',\n",
       " 'Rs. 8449Rs. 12999(35% OFF)',\n",
       " 'Rs. 9999']"
      ]
     },
     "execution_count": 609,
     "metadata": {},
     "output_type": "execute_result"
    }
   ],
   "source": [
    "Price_of_shoes = []\n",
    "\n",
    "for i in Price_tags:\n",
    "    Price_of_shoes.append(i.text)\n",
    "    \n",
    "Price_of_shoes\n",
    "    "
   ]
  },
  {
   "cell_type": "code",
   "execution_count": 610,
   "metadata": {},
   "outputs": [
    {
     "data": {
      "text/plain": [
       "[<selenium.webdriver.remote.webelement.WebElement (session=\"9bbbbb967206182b8c126f0009646f22\", element=\"34423cff-c9e5-4cd5-b964-a724fe24a2c3\")>,\n",
       " <selenium.webdriver.remote.webelement.WebElement (session=\"9bbbbb967206182b8c126f0009646f22\", element=\"da232618-2e9f-4fde-a504-2dae359ab6b9\")>,\n",
       " <selenium.webdriver.remote.webelement.WebElement (session=\"9bbbbb967206182b8c126f0009646f22\", element=\"baaba80b-7f01-4c68-803a-9eb41ebd338c\")>,\n",
       " <selenium.webdriver.remote.webelement.WebElement (session=\"9bbbbb967206182b8c126f0009646f22\", element=\"6c5a1e24-900b-4043-9ed0-a2931567f855\")>,\n",
       " <selenium.webdriver.remote.webelement.WebElement (session=\"9bbbbb967206182b8c126f0009646f22\", element=\"04b02506-f148-4935-929e-acf64640b344\")>,\n",
       " <selenium.webdriver.remote.webelement.WebElement (session=\"9bbbbb967206182b8c126f0009646f22\", element=\"5e7d8cf9-b78f-451e-93ba-8e3f3daf98bd\")>,\n",
       " <selenium.webdriver.remote.webelement.WebElement (session=\"9bbbbb967206182b8c126f0009646f22\", element=\"50df8fb6-3d94-453e-82d3-129c4d3295bf\")>,\n",
       " <selenium.webdriver.remote.webelement.WebElement (session=\"9bbbbb967206182b8c126f0009646f22\", element=\"59dc75cd-f764-40d9-94ce-a43792ec4140\")>,\n",
       " <selenium.webdriver.remote.webelement.WebElement (session=\"9bbbbb967206182b8c126f0009646f22\", element=\"4f9b256f-f814-402e-bbc5-3e5937ad12a9\")>,\n",
       " <selenium.webdriver.remote.webelement.WebElement (session=\"9bbbbb967206182b8c126f0009646f22\", element=\"8a5b8ea3-d456-45d4-8d5a-46616445527c\")>,\n",
       " <selenium.webdriver.remote.webelement.WebElement (session=\"9bbbbb967206182b8c126f0009646f22\", element=\"75cf15a2-9161-4e6a-b8c3-55fe10670c63\")>,\n",
       " <selenium.webdriver.remote.webelement.WebElement (session=\"9bbbbb967206182b8c126f0009646f22\", element=\"41667a59-48d8-4072-a4df-be6135d7cc10\")>,\n",
       " <selenium.webdriver.remote.webelement.WebElement (session=\"9bbbbb967206182b8c126f0009646f22\", element=\"f75ea530-1ac0-4da2-8f88-662be20cebc9\")>,\n",
       " <selenium.webdriver.remote.webelement.WebElement (session=\"9bbbbb967206182b8c126f0009646f22\", element=\"035180bb-0587-4d4c-98ea-0e10c1ab6400\")>,\n",
       " <selenium.webdriver.remote.webelement.WebElement (session=\"9bbbbb967206182b8c126f0009646f22\", element=\"9fabdedb-8124-490f-b548-1e3c3eb7193c\")>,\n",
       " <selenium.webdriver.remote.webelement.WebElement (session=\"9bbbbb967206182b8c126f0009646f22\", element=\"488f4eaa-1b26-45b7-beeb-6420d683a381\")>,\n",
       " <selenium.webdriver.remote.webelement.WebElement (session=\"9bbbbb967206182b8c126f0009646f22\", element=\"f7edaa0a-f83b-43d9-b80d-a0ab8378e585\")>,\n",
       " <selenium.webdriver.remote.webelement.WebElement (session=\"9bbbbb967206182b8c126f0009646f22\", element=\"322219c3-936d-4774-92b0-6b3cbe3278d2\")>,\n",
       " <selenium.webdriver.remote.webelement.WebElement (session=\"9bbbbb967206182b8c126f0009646f22\", element=\"65d885da-3184-4d49-ab3b-a55f74c7890b\")>,\n",
       " <selenium.webdriver.remote.webelement.WebElement (session=\"9bbbbb967206182b8c126f0009646f22\", element=\"9b3bc962-4bcc-4b51-803c-f4323bd642ba\")>,\n",
       " <selenium.webdriver.remote.webelement.WebElement (session=\"9bbbbb967206182b8c126f0009646f22\", element=\"47e00ec6-f1ef-4b36-8c72-a093d20f1c4a\")>,\n",
       " <selenium.webdriver.remote.webelement.WebElement (session=\"9bbbbb967206182b8c126f0009646f22\", element=\"3da330c2-8c28-4e8a-a961-b73453357fa2\")>,\n",
       " <selenium.webdriver.remote.webelement.WebElement (session=\"9bbbbb967206182b8c126f0009646f22\", element=\"e2da4d94-f2d4-4e8b-b8c0-7d4db8bb888e\")>,\n",
       " <selenium.webdriver.remote.webelement.WebElement (session=\"9bbbbb967206182b8c126f0009646f22\", element=\"8f723a0e-e48d-4229-bb65-8139a90eb9d2\")>,\n",
       " <selenium.webdriver.remote.webelement.WebElement (session=\"9bbbbb967206182b8c126f0009646f22\", element=\"40b32970-4550-4f6f-8056-a2120361f3bf\")>,\n",
       " <selenium.webdriver.remote.webelement.WebElement (session=\"9bbbbb967206182b8c126f0009646f22\", element=\"25e2f5e0-f64d-46f2-aed0-6edbdf80b3a1\")>,\n",
       " <selenium.webdriver.remote.webelement.WebElement (session=\"9bbbbb967206182b8c126f0009646f22\", element=\"2061b337-7b1d-4423-8087-0903697d924a\")>,\n",
       " <selenium.webdriver.remote.webelement.WebElement (session=\"9bbbbb967206182b8c126f0009646f22\", element=\"64fde45b-c73a-4de2-b4a6-1820b90dd8c0\")>,\n",
       " <selenium.webdriver.remote.webelement.WebElement (session=\"9bbbbb967206182b8c126f0009646f22\", element=\"63ab66aa-02c0-4bb1-b05f-5ee3a7e8e406\")>,\n",
       " <selenium.webdriver.remote.webelement.WebElement (session=\"9bbbbb967206182b8c126f0009646f22\", element=\"dd7da3ec-ef70-4325-92d9-4cfba53ebc6f\")>,\n",
       " <selenium.webdriver.remote.webelement.WebElement (session=\"9bbbbb967206182b8c126f0009646f22\", element=\"0366bbc9-c8f7-4fa5-89ab-3af2f36db4f9\")>,\n",
       " <selenium.webdriver.remote.webelement.WebElement (session=\"9bbbbb967206182b8c126f0009646f22\", element=\"1e24d1ac-4dfc-440f-b14c-36583bd7bb73\")>,\n",
       " <selenium.webdriver.remote.webelement.WebElement (session=\"9bbbbb967206182b8c126f0009646f22\", element=\"5e6068ec-e0d4-4af7-adb0-2921d72158de\")>,\n",
       " <selenium.webdriver.remote.webelement.WebElement (session=\"9bbbbb967206182b8c126f0009646f22\", element=\"f3291ea4-d9a2-43b0-bff8-d97873ffba98\")>,\n",
       " <selenium.webdriver.remote.webelement.WebElement (session=\"9bbbbb967206182b8c126f0009646f22\", element=\"e2ae7cdd-61ca-464c-9b57-7975a970d0c3\")>,\n",
       " <selenium.webdriver.remote.webelement.WebElement (session=\"9bbbbb967206182b8c126f0009646f22\", element=\"ca4d6c8d-617b-4ee6-a947-d8ac145bfad5\")>,\n",
       " <selenium.webdriver.remote.webelement.WebElement (session=\"9bbbbb967206182b8c126f0009646f22\", element=\"130eed91-0100-4428-b2c3-085893ae5f3f\")>,\n",
       " <selenium.webdriver.remote.webelement.WebElement (session=\"9bbbbb967206182b8c126f0009646f22\", element=\"0b04379e-11e2-497b-94a1-480536e34822\")>,\n",
       " <selenium.webdriver.remote.webelement.WebElement (session=\"9bbbbb967206182b8c126f0009646f22\", element=\"bb4cbd55-a7fe-4e31-85f0-605a2e7fa24b\")>,\n",
       " <selenium.webdriver.remote.webelement.WebElement (session=\"9bbbbb967206182b8c126f0009646f22\", element=\"6227b806-ad7a-415b-a5ee-ef56fc0db3d4\")>,\n",
       " <selenium.webdriver.remote.webelement.WebElement (session=\"9bbbbb967206182b8c126f0009646f22\", element=\"d0c00aea-5877-45a6-bb7d-ba93fbbde05c\")>,\n",
       " <selenium.webdriver.remote.webelement.WebElement (session=\"9bbbbb967206182b8c126f0009646f22\", element=\"09493bf6-c15a-4ea9-a421-5d09c4f0876c\")>,\n",
       " <selenium.webdriver.remote.webelement.WebElement (session=\"9bbbbb967206182b8c126f0009646f22\", element=\"76242768-994b-41b8-a9c4-3a77758f9dd8\")>,\n",
       " <selenium.webdriver.remote.webelement.WebElement (session=\"9bbbbb967206182b8c126f0009646f22\", element=\"134c3226-38c0-4060-8f4f-56363a196185\")>,\n",
       " <selenium.webdriver.remote.webelement.WebElement (session=\"9bbbbb967206182b8c126f0009646f22\", element=\"de38759b-f418-433d-a17d-9b5cdabde246\")>,\n",
       " <selenium.webdriver.remote.webelement.WebElement (session=\"9bbbbb967206182b8c126f0009646f22\", element=\"445745e4-45fc-4eaf-b5ec-4642e32ff7c8\")>,\n",
       " <selenium.webdriver.remote.webelement.WebElement (session=\"9bbbbb967206182b8c126f0009646f22\", element=\"220b888a-b8e5-484b-aa1c-f01a12832a96\")>,\n",
       " <selenium.webdriver.remote.webelement.WebElement (session=\"9bbbbb967206182b8c126f0009646f22\", element=\"1621d8db-0e12-49aa-97e4-6c7f82c025d4\")>,\n",
       " <selenium.webdriver.remote.webelement.WebElement (session=\"9bbbbb967206182b8c126f0009646f22\", element=\"8c37be33-1c8b-4d5b-bcda-000c9d8bf0f6\")>,\n",
       " <selenium.webdriver.remote.webelement.WebElement (session=\"9bbbbb967206182b8c126f0009646f22\", element=\"6041b3d7-32bb-477b-8cde-dba4c903ba7e\")>]"
      ]
     },
     "execution_count": 610,
     "metadata": {},
     "output_type": "execute_result"
    }
   ],
   "source": [
    "# Product of shoes\n",
    "Product_tags = driver.find_elements_by_xpath(\"//div[@class='product-productMetaInfo']\")\n",
    "Product_tags"
   ]
  },
  {
   "cell_type": "code",
   "execution_count": 611,
   "metadata": {},
   "outputs": [
    {
     "data": {
      "text/plain": [
       "['Nike\\nMen ZOOM SPAN 3 Running Shoes\\nRs. 5396Rs. 7195(25% OFF)',\n",
       " 'UNDER ARMOUR\\nMen Charged Bandit 6 Running\\nRs. 8999\\nOnly Few Left!',\n",
       " 'Kalenji By Decathlon\\nMen KD500 Running Shoe\\nRs. 7857Rs. 8449(7% OFF)',\n",
       " 'Puma\\nMen Cell Fraction Fade Running\\nRs. 6999',\n",
       " 'Nike\\nMen Crater Remixa Sneakers\\nRs. 5495',\n",
       " 'ADIDAS\\nWomen Response SR Running\\nRs. 6079Rs. 7599(20% OFF)\\nOnly Few Left!',\n",
       " 'Puma\\nAxelion Block Running Shoes\\nRs. 5999',\n",
       " 'UNDER ARMOUR\\nUnisex Project Rock Recruit\\nRs. 9999',\n",
       " 'UNDER ARMOUR\\nMen Charged Vantage Running\\nRs. 7999\\nOnly Few Left!',\n",
       " 'UNDER ARMOUR\\nMen Charged Pursuit 2 SE Shoes\\nRs. 6999',\n",
       " 'ADIDAS\\nWomen SUPERNOVA Running Shoes\\nRs. 6999Rs. 9999(30% OFF)\\nOnly Few Left!',\n",
       " 'UNDER ARMOUR\\nMen Charged Assert 8 Marble\\nRs. 6999\\nOnly Few Left!',\n",
       " 'UNDER ARMOUR\\nMen Charged Pursuit 2 SE\\nRs. 6999',\n",
       " 'Puma\\nWomen Deviate Nitro Running\\nRs. 9749Rs. 14999(35% OFF)\\nOnly Few Left!',\n",
       " 'Puma\\nWomen BETTER FOAM Adore Shoes\\nRs. 5499\\nOnly Few Left!',\n",
       " 'Geox\\nMen Perforated Slip On Sneaker\\nRs. 7199Rs. 8999(20% OFF)\\nOnly Few Left!',\n",
       " 'UNDER ARMOUR\\nGS SC 3Zero IV Basketball\\nRs. 7499',\n",
       " 'UNDER ARMOUR\\nMen Charged Rogue 2.5 RFLCT\\nRs. 7999',\n",
       " 'Hush Puppies\\nMen Solid Leather Formal Oxfords\\nRs. 5399Rs. 5999(10% OFF)',\n",
       " 'UNDER ARMOUR\\nMen Charged Commit 3 Training\\nRs. 7999',\n",
       " 'Puma\\nMen SOFTRIDE Rift Shoes\\nRs. 6499',\n",
       " 'UNDER ARMOUR\\nWomen Charged Vantage ClrShft\\nRs. 7999\\nOnly Few Left!',\n",
       " 'Hush Puppies\\nMen Leather Slip-On Sneakers\\nRs. 6299Rs. 6999(10% OFF)',\n",
       " 'Hush Puppies\\nMen Formal Derbys\\nRs. 8999Rs. 9999(10% OFF)',\n",
       " 'UNDER ARMOUR\\nMen HOVR Sonic STRT Tech Shoes\\nRs. 9999',\n",
       " 'Hush Puppies\\nMen Leather Slip-On Sneakers\\nRs. 6999Rs. 9999(30% OFF)',\n",
       " 'Hush Puppies\\nMen Solid Leather Formal Slip-Ons\\nRs. 6299Rs. 8999(30% OFF)',\n",
       " 'FORCLAZ By Decathlon\\nTREKKING 100 Boots\\nRs. 6999',\n",
       " 'Skechers\\nMen Equalizer 4.0 Trail\\nRs. 6499\\nOnly Few Left!',\n",
       " 'Puma\\nWomen UltraRide Running Shoes\\nRs. 6299Rs. 8999(30% OFF)',\n",
       " 'PUMA Hoops\\nUnisex Clyde Basketball Shoes\\nRs. 8999',\n",
       " 'Quechua By Decathlon\\nWomen Waterproof Hiking Shoes\\nRs. 5499',\n",
       " 'UNDER ARMOUR\\nWomen Charged Impulse Shft\\nRs. 7499\\nOnly Few Left!',\n",
       " 'Puma\\nMen Leader VT Running Shoes\\nRs. 5999',\n",
       " 'Hush Puppies\\nMen Solid Leather Formal Slip-Ons\\nRs. 8099Rs. 8999(10% OFF)',\n",
       " 'Bugatti\\nMen Perforated Mule Sneakers\\nRs. 5599Rs. 6999(20% OFF)\\nOnly Few Left!',\n",
       " 'Puma\\nMen Running Shoes\\nRs. 6499',\n",
       " 'Geox\\nMen Woven Design Sneakers\\nRs. 8799Rs. 10999(20% OFF)\\nOnly Few Left!',\n",
       " 'Hush Puppies\\nMen Leather Monk Shoes\\nRs. 5399Rs. 5999(10% OFF)',\n",
       " 'Hush Puppies\\nMen Leather Formal Oxfords\\nRs. 5399Rs. 5999(10% OFF)',\n",
       " 'Hush Puppies\\nMen Leather Formal Brogues\\nRs. 5399Rs. 5999(10% OFF)',\n",
       " 'Hush Puppies\\nMen Colourblocked Driving Shoes\\nRs. 6299Rs. 8999(30% OFF)',\n",
       " 'Quechua By Decathlon\\nMen Trekking Shoes\\nRs. 9999',\n",
       " 'UNDER ARMOUR\\nMen Victory Sneakers\\nRs. 5999\\nOnly Few Left!',\n",
       " 'Cole Haan\\nLeather Sneakers\\nRs. 8799Rs. 10999(20% OFF)\\nOnly Few Left!',\n",
       " 'Geox\\nMen Leather Semiformal Driving\\nRs. 10490\\nOnly Few Left!',\n",
       " 'PUMA Hoops\\nUnisex Clyde Basketball Shoes\\nRs. 7149Rs. 10999(35% OFF)\\nOnly Few Left!',\n",
       " 'Metro\\nWomen High-Top Heeled Boots\\nRs. 5490',\n",
       " 'Puma\\nWomen Eternity Nitro Running\\nRs. 8449Rs. 12999(35% OFF)\\nOnly Few Left!',\n",
       " 'Geox\\nMen Leather Formal Derbys\\nRs. 9999\\nOnly Few Left!']"
      ]
     },
     "execution_count": 611,
     "metadata": {},
     "output_type": "execute_result"
    }
   ],
   "source": [
    "Product_of_shoes = []\n",
    "\n",
    "for i in Product_tags:\n",
    "    Product_of_shoes.append(i.text)\n",
    "    \n",
    "Product_of_shoes"
   ]
  },
  {
   "cell_type": "code",
   "execution_count": 615,
   "metadata": {},
   "outputs": [
    {
     "data": {
      "text/plain": [
       "[<selenium.webdriver.remote.webelement.WebElement (session=\"9bbbbb967206182b8c126f0009646f22\", element=\"5acd3fb7-b695-4c07-8bcf-6632417223f9\")>,\n",
       " <selenium.webdriver.remote.webelement.WebElement (session=\"9bbbbb967206182b8c126f0009646f22\", element=\"e4d25cb8-a4e6-4d94-b585-85c2035d5024\")>,\n",
       " <selenium.webdriver.remote.webelement.WebElement (session=\"9bbbbb967206182b8c126f0009646f22\", element=\"0210e832-796f-4268-9695-5615b2b0f953\")>,\n",
       " <selenium.webdriver.remote.webelement.WebElement (session=\"9bbbbb967206182b8c126f0009646f22\", element=\"393ed933-f242-48da-9ae1-0aac632fdfcb\")>,\n",
       " <selenium.webdriver.remote.webelement.WebElement (session=\"9bbbbb967206182b8c126f0009646f22\", element=\"df890969-35e8-4257-b4bc-e53939879275\")>,\n",
       " <selenium.webdriver.remote.webelement.WebElement (session=\"9bbbbb967206182b8c126f0009646f22\", element=\"3cf0d430-bd84-429a-9b6f-d5dc42c1bf27\")>,\n",
       " <selenium.webdriver.remote.webelement.WebElement (session=\"9bbbbb967206182b8c126f0009646f22\", element=\"fde780f6-e159-469a-801c-b73e44ea653f\")>,\n",
       " <selenium.webdriver.remote.webelement.WebElement (session=\"9bbbbb967206182b8c126f0009646f22\", element=\"d275816a-5a73-4494-8a68-d6f3de48f724\")>,\n",
       " <selenium.webdriver.remote.webelement.WebElement (session=\"9bbbbb967206182b8c126f0009646f22\", element=\"4ff38dd5-eb62-47f7-a580-b65b636c2b19\")>,\n",
       " <selenium.webdriver.remote.webelement.WebElement (session=\"9bbbbb967206182b8c126f0009646f22\", element=\"e4b13e03-2a75-454c-8210-8e699e4cb0ea\")>,\n",
       " <selenium.webdriver.remote.webelement.WebElement (session=\"9bbbbb967206182b8c126f0009646f22\", element=\"0159adf8-68ad-45d9-8aab-3b77c58465c7\")>,\n",
       " <selenium.webdriver.remote.webelement.WebElement (session=\"9bbbbb967206182b8c126f0009646f22\", element=\"808a1c01-83a1-4039-ba6c-bcebd506d966\")>,\n",
       " <selenium.webdriver.remote.webelement.WebElement (session=\"9bbbbb967206182b8c126f0009646f22\", element=\"a863152f-e525-41c7-8ccd-c5f47feadcaf\")>,\n",
       " <selenium.webdriver.remote.webelement.WebElement (session=\"9bbbbb967206182b8c126f0009646f22\", element=\"8ff1b817-0eb5-4954-b31b-db3792eb07e7\")>,\n",
       " <selenium.webdriver.remote.webelement.WebElement (session=\"9bbbbb967206182b8c126f0009646f22\", element=\"6cc6db63-db7d-4888-9c10-1bc2d6c06355\")>,\n",
       " <selenium.webdriver.remote.webelement.WebElement (session=\"9bbbbb967206182b8c126f0009646f22\", element=\"6fb70c5e-ef01-476b-a810-bc32eed1e8fe\")>,\n",
       " <selenium.webdriver.remote.webelement.WebElement (session=\"9bbbbb967206182b8c126f0009646f22\", element=\"270b4acb-a791-45ff-a691-949da4496778\")>,\n",
       " <selenium.webdriver.remote.webelement.WebElement (session=\"9bbbbb967206182b8c126f0009646f22\", element=\"7f7103c2-5f6b-4950-902d-77e63b3c45d3\")>,\n",
       " <selenium.webdriver.remote.webelement.WebElement (session=\"9bbbbb967206182b8c126f0009646f22\", element=\"3d9fa90d-a704-448b-9cd1-58a1baa8bea0\")>,\n",
       " <selenium.webdriver.remote.webelement.WebElement (session=\"9bbbbb967206182b8c126f0009646f22\", element=\"d4b1a883-f64b-4d4f-a028-b7c7b55b16d5\")>,\n",
       " <selenium.webdriver.remote.webelement.WebElement (session=\"9bbbbb967206182b8c126f0009646f22\", element=\"ebaf5213-237c-4f44-a3c7-a49ae8c465db\")>,\n",
       " <selenium.webdriver.remote.webelement.WebElement (session=\"9bbbbb967206182b8c126f0009646f22\", element=\"ee9a7adb-3099-4162-97c8-df89031d46b8\")>,\n",
       " <selenium.webdriver.remote.webelement.WebElement (session=\"9bbbbb967206182b8c126f0009646f22\", element=\"38393132-149d-4e17-a47e-fabaf88f37e4\")>,\n",
       " <selenium.webdriver.remote.webelement.WebElement (session=\"9bbbbb967206182b8c126f0009646f22\", element=\"f34f71f3-3a7a-4d31-8c11-b8cd029b5eac\")>,\n",
       " <selenium.webdriver.remote.webelement.WebElement (session=\"9bbbbb967206182b8c126f0009646f22\", element=\"99a33b9c-fb8c-422c-8881-1a65a1e7ab63\")>,\n",
       " <selenium.webdriver.remote.webelement.WebElement (session=\"9bbbbb967206182b8c126f0009646f22\", element=\"91115fb3-f8e4-464a-94cf-52946f2bd7ec\")>,\n",
       " <selenium.webdriver.remote.webelement.WebElement (session=\"9bbbbb967206182b8c126f0009646f22\", element=\"cdffb6f0-e8f3-4557-8cd2-aeaab3bea522\")>,\n",
       " <selenium.webdriver.remote.webelement.WebElement (session=\"9bbbbb967206182b8c126f0009646f22\", element=\"95ddb93a-213d-46f9-a98d-a71c873331ab\")>,\n",
       " <selenium.webdriver.remote.webelement.WebElement (session=\"9bbbbb967206182b8c126f0009646f22\", element=\"94463877-7cfe-4c74-99c8-4a0eecafd91e\")>,\n",
       " <selenium.webdriver.remote.webelement.WebElement (session=\"9bbbbb967206182b8c126f0009646f22\", element=\"e5966c58-704f-499c-bc0b-2b35ee8b2ae6\")>,\n",
       " <selenium.webdriver.remote.webelement.WebElement (session=\"9bbbbb967206182b8c126f0009646f22\", element=\"1564672e-1925-4fb9-b60b-cd30301e3667\")>,\n",
       " <selenium.webdriver.remote.webelement.WebElement (session=\"9bbbbb967206182b8c126f0009646f22\", element=\"be765047-53d6-4626-8fa1-2b569dda3af4\")>,\n",
       " <selenium.webdriver.remote.webelement.WebElement (session=\"9bbbbb967206182b8c126f0009646f22\", element=\"42f4f0fb-5e4d-4600-bb3d-a4f49fdb30ad\")>,\n",
       " <selenium.webdriver.remote.webelement.WebElement (session=\"9bbbbb967206182b8c126f0009646f22\", element=\"8d0ec2a8-1b60-4612-b137-99f9bc5f5632\")>,\n",
       " <selenium.webdriver.remote.webelement.WebElement (session=\"9bbbbb967206182b8c126f0009646f22\", element=\"2d321a1f-bf5f-4a86-9a3f-b7c316350546\")>,\n",
       " <selenium.webdriver.remote.webelement.WebElement (session=\"9bbbbb967206182b8c126f0009646f22\", element=\"fcb829d7-fdc6-4aca-a497-784ae342e440\")>,\n",
       " <selenium.webdriver.remote.webelement.WebElement (session=\"9bbbbb967206182b8c126f0009646f22\", element=\"7b77166f-969c-4bd5-80e5-e3ed493f4a9b\")>,\n",
       " <selenium.webdriver.remote.webelement.WebElement (session=\"9bbbbb967206182b8c126f0009646f22\", element=\"aebc9f87-a18b-489c-ab4b-3ce901cf5be9\")>,\n",
       " <selenium.webdriver.remote.webelement.WebElement (session=\"9bbbbb967206182b8c126f0009646f22\", element=\"394e7464-4316-4e73-989f-247a9e8ff3aa\")>,\n",
       " <selenium.webdriver.remote.webelement.WebElement (session=\"9bbbbb967206182b8c126f0009646f22\", element=\"4403e778-5ef4-4c05-9e07-4c0647044270\")>,\n",
       " <selenium.webdriver.remote.webelement.WebElement (session=\"9bbbbb967206182b8c126f0009646f22\", element=\"2a95e66c-85d3-426c-8081-a38805e13a30\")>,\n",
       " <selenium.webdriver.remote.webelement.WebElement (session=\"9bbbbb967206182b8c126f0009646f22\", element=\"6aa8cb9a-fe53-4209-a516-929781125e82\")>,\n",
       " <selenium.webdriver.remote.webelement.WebElement (session=\"9bbbbb967206182b8c126f0009646f22\", element=\"0c2eb82d-5df8-48a0-8c71-3086ee2f5f13\")>,\n",
       " <selenium.webdriver.remote.webelement.WebElement (session=\"9bbbbb967206182b8c126f0009646f22\", element=\"e945e155-67ef-41ce-8b87-0caf209a8cf6\")>,\n",
       " <selenium.webdriver.remote.webelement.WebElement (session=\"9bbbbb967206182b8c126f0009646f22\", element=\"d27572b5-2829-4093-8d9b-19b7b3ce7c97\")>,\n",
       " <selenium.webdriver.remote.webelement.WebElement (session=\"9bbbbb967206182b8c126f0009646f22\", element=\"ea352026-0a17-49c6-aef8-4f4028af6fab\")>,\n",
       " <selenium.webdriver.remote.webelement.WebElement (session=\"9bbbbb967206182b8c126f0009646f22\", element=\"ab2cea69-f450-485e-bc65-dd3860a58ec3\")>,\n",
       " <selenium.webdriver.remote.webelement.WebElement (session=\"9bbbbb967206182b8c126f0009646f22\", element=\"4efcb703-ad7d-4f9c-8a7a-ba7c5efbfc4e\")>,\n",
       " <selenium.webdriver.remote.webelement.WebElement (session=\"9bbbbb967206182b8c126f0009646f22\", element=\"70ba5139-722f-434e-bdc9-450b9277dc1e\")>,\n",
       " <selenium.webdriver.remote.webelement.WebElement (session=\"9bbbbb967206182b8c126f0009646f22\", element=\"e8f5b79b-3c97-406d-a0d5-c13aaa352556\")>]"
      ]
     },
     "execution_count": 615,
     "metadata": {},
     "output_type": "execute_result"
    }
   ],
   "source": [
    "# Brand\n",
    "\n",
    "Brand_tags = driver.find_elements_by_xpath(\"//h3[@class='product-brand']\")\n",
    "Brand_tags"
   ]
  },
  {
   "cell_type": "code",
   "execution_count": 616,
   "metadata": {},
   "outputs": [
    {
     "data": {
      "text/plain": [
       "['Nike',\n",
       " 'UNDER ARMOUR',\n",
       " 'Kalenji By Decathlon',\n",
       " 'Puma',\n",
       " 'Nike',\n",
       " 'ADIDAS',\n",
       " 'Puma',\n",
       " 'UNDER ARMOUR',\n",
       " 'UNDER ARMOUR',\n",
       " 'UNDER ARMOUR',\n",
       " 'ADIDAS',\n",
       " 'UNDER ARMOUR',\n",
       " 'UNDER ARMOUR',\n",
       " 'Puma',\n",
       " 'Puma',\n",
       " 'Geox',\n",
       " 'UNDER ARMOUR',\n",
       " 'UNDER ARMOUR',\n",
       " 'Hush Puppies',\n",
       " 'UNDER ARMOUR',\n",
       " 'Puma',\n",
       " 'UNDER ARMOUR',\n",
       " 'Hush Puppies',\n",
       " 'Hush Puppies',\n",
       " 'UNDER ARMOUR',\n",
       " 'Hush Puppies',\n",
       " 'Hush Puppies',\n",
       " 'FORCLAZ By Decathlon',\n",
       " 'Skechers',\n",
       " 'Puma',\n",
       " 'PUMA Hoops',\n",
       " 'Quechua By Decathlon',\n",
       " 'UNDER ARMOUR',\n",
       " 'Puma',\n",
       " 'Hush Puppies',\n",
       " 'Bugatti',\n",
       " 'Puma',\n",
       " 'Geox',\n",
       " 'Hush Puppies',\n",
       " 'Hush Puppies',\n",
       " 'Hush Puppies',\n",
       " 'Hush Puppies',\n",
       " 'Quechua By Decathlon',\n",
       " 'UNDER ARMOUR',\n",
       " 'Cole Haan',\n",
       " 'Geox',\n",
       " 'PUMA Hoops',\n",
       " 'Metro',\n",
       " 'Puma',\n",
       " 'Geox']"
      ]
     },
     "execution_count": 616,
     "metadata": {},
     "output_type": "execute_result"
    }
   ],
   "source": [
    "Brand = []\n",
    "for i in Brand_tags:\n",
    "    Brand.append(i.text)\n",
    "    \n",
    "Brand"
   ]
  },
  {
   "cell_type": "code",
   "execution_count": null,
   "metadata": {},
   "outputs": [],
   "source": []
  },
  {
   "cell_type": "markdown",
   "metadata": {},
   "source": [
    "### Q10: Go to webpage https://www.amazon.in/\n",
    " Enter “Laptop” in the search field and then click the search icon.\n",
    " Then set CPU Type filter to “Intel Core i7” and “Intel Core i9” as shown in the \n",
    "below image\n",
    "\n",
    "After setting the filters scrape first 10 laptops data. You have to scrape 3 attributes \n",
    "for each laptop:\n",
    "1. title\n",
    "2. Ratings\n",
    "3. Price\n",
    "As shown in the below image as the tick marked attributes"
   ]
  },
  {
   "cell_type": "code",
   "execution_count": 618,
   "metadata": {},
   "outputs": [],
   "source": [
    "import pandas as pd\n",
    "import selenium\n",
    "from selenium import webdriver"
   ]
  },
  {
   "cell_type": "code",
   "execution_count": 619,
   "metadata": {},
   "outputs": [],
   "source": [
    "# lets first connect to the web driver\n",
    "driver = webdriver.Chrome(r\"C:\\Users\\admin\\Downloads\\chromedriver_win32 (1)\\chromedriver.exe\")"
   ]
  },
  {
   "cell_type": "code",
   "execution_count": 620,
   "metadata": {},
   "outputs": [],
   "source": [
    "url = \" https://www.amazon.in/\"\n",
    "driver.get(url)"
   ]
  },
  {
   "cell_type": "code",
   "execution_count": 621,
   "metadata": {},
   "outputs": [
    {
     "data": {
      "text/plain": [
       "<selenium.webdriver.remote.webelement.WebElement (session=\"679a1fcc0ef9724f5b20df7420e35a17\", element=\"013e9b42-c726-404f-8c2a-4cea14f9bff3\")>"
      ]
     },
     "execution_count": 621,
     "metadata": {},
     "output_type": "execute_result"
    }
   ],
   "source": [
    "search_laptop = driver.find_element_by_id(\"twotabsearchtextbox\")\n",
    "search_laptop"
   ]
  },
  {
   "cell_type": "code",
   "execution_count": 622,
   "metadata": {},
   "outputs": [],
   "source": [
    "search_laptop.send_keys(\"laptop\")"
   ]
  },
  {
   "cell_type": "code",
   "execution_count": 625,
   "metadata": {},
   "outputs": [
    {
     "data": {
      "text/plain": [
       "<selenium.webdriver.remote.webelement.WebElement (session=\"679a1fcc0ef9724f5b20df7420e35a17\", element=\"d910e9b8-dd73-4653-a712-67b28f9adabb\")>"
      ]
     },
     "execution_count": 625,
     "metadata": {},
     "output_type": "execute_result"
    }
   ],
   "source": [
    "# do click using xpath function\n",
    "search_btn = driver.find_element_by_xpath(\"//div[@class='nav-search-submit nav-sprite']\")\n",
    "\n",
    "search_btn"
   ]
  },
  {
   "cell_type": "code",
   "execution_count": 626,
   "metadata": {},
   "outputs": [],
   "source": [
    "search_btn.click()"
   ]
  },
  {
   "cell_type": "code",
   "execution_count": 627,
   "metadata": {},
   "outputs": [],
   "source": [
    "CPU_filter = driver.find_element_by_xpath('/html/body/div[1]/div[2]/div[1]/div[2]/div/div[3]/span/div[1]/span/div/div/div[5]/ul[1]/li[26]/span/a/div')\n",
    "CPU_filter.click()"
   ]
  },
  {
   "cell_type": "code",
   "execution_count": 628,
   "metadata": {},
   "outputs": [],
   "source": [
    "CPU_filter = driver.find_element_by_xpath('/html/body/div[1]/div[2]/div[1]/div[2]/div/div[3]/span/div[1]/span/div/div/div[5]/ul[1]/li[28]/span/a/div')\n",
    "CPU_filter.click()"
   ]
  },
  {
   "cell_type": "code",
   "execution_count": 629,
   "metadata": {},
   "outputs": [
    {
     "data": {
      "text/plain": [
       "[<selenium.webdriver.remote.webelement.WebElement (session=\"679a1fcc0ef9724f5b20df7420e35a17\", element=\"831a4efd-8143-4265-ac70-73e7cceb0873\")>,\n",
       " <selenium.webdriver.remote.webelement.WebElement (session=\"679a1fcc0ef9724f5b20df7420e35a17\", element=\"a681cefb-0d53-4118-b9b4-209081dfa94f\")>,\n",
       " <selenium.webdriver.remote.webelement.WebElement (session=\"679a1fcc0ef9724f5b20df7420e35a17\", element=\"e6905848-f0ef-4e04-a7b9-4156968c22f4\")>,\n",
       " <selenium.webdriver.remote.webelement.WebElement (session=\"679a1fcc0ef9724f5b20df7420e35a17\", element=\"886e3975-f88b-4726-99dc-ba886113edaf\")>,\n",
       " <selenium.webdriver.remote.webelement.WebElement (session=\"679a1fcc0ef9724f5b20df7420e35a17\", element=\"4c928d14-d6f6-417a-86ac-487583b60654\")>,\n",
       " <selenium.webdriver.remote.webelement.WebElement (session=\"679a1fcc0ef9724f5b20df7420e35a17\", element=\"6930d1e0-2934-4e4c-9511-021a1d33e205\")>,\n",
       " <selenium.webdriver.remote.webelement.WebElement (session=\"679a1fcc0ef9724f5b20df7420e35a17\", element=\"70ee0eb3-2f72-4497-99f5-603741382c03\")>,\n",
       " <selenium.webdriver.remote.webelement.WebElement (session=\"679a1fcc0ef9724f5b20df7420e35a17\", element=\"85cc4029-ea16-4e17-a53b-bdfd837ebc02\")>,\n",
       " <selenium.webdriver.remote.webelement.WebElement (session=\"679a1fcc0ef9724f5b20df7420e35a17\", element=\"63974db5-f49e-471e-b5d8-e39fe0c28d36\")>,\n",
       " <selenium.webdriver.remote.webelement.WebElement (session=\"679a1fcc0ef9724f5b20df7420e35a17\", element=\"0cfe144b-66da-428b-a93b-d048eed48d34\")>,\n",
       " <selenium.webdriver.remote.webelement.WebElement (session=\"679a1fcc0ef9724f5b20df7420e35a17\", element=\"5080e7ee-e109-4153-8a5f-8e7b2e2c0142\")>,\n",
       " <selenium.webdriver.remote.webelement.WebElement (session=\"679a1fcc0ef9724f5b20df7420e35a17\", element=\"d1eef70a-90e2-40d2-94ab-7b37d1ed22af\")>,\n",
       " <selenium.webdriver.remote.webelement.WebElement (session=\"679a1fcc0ef9724f5b20df7420e35a17\", element=\"117b17db-a7df-4f3d-b15a-5a811a3400b4\")>,\n",
       " <selenium.webdriver.remote.webelement.WebElement (session=\"679a1fcc0ef9724f5b20df7420e35a17\", element=\"96486cdd-6e65-4380-a249-7bbc81937514\")>,\n",
       " <selenium.webdriver.remote.webelement.WebElement (session=\"679a1fcc0ef9724f5b20df7420e35a17\", element=\"03489506-f72c-4ef0-9c13-a4248265d0c0\")>,\n",
       " <selenium.webdriver.remote.webelement.WebElement (session=\"679a1fcc0ef9724f5b20df7420e35a17\", element=\"73948265-f765-4f53-9651-317a1de044c2\")>,\n",
       " <selenium.webdriver.remote.webelement.WebElement (session=\"679a1fcc0ef9724f5b20df7420e35a17\", element=\"89060d5f-a063-4610-aae4-f95ebd92f4d7\")>,\n",
       " <selenium.webdriver.remote.webelement.WebElement (session=\"679a1fcc0ef9724f5b20df7420e35a17\", element=\"58d586c7-47a1-4eae-9a84-decf4eaf2027\")>,\n",
       " <selenium.webdriver.remote.webelement.WebElement (session=\"679a1fcc0ef9724f5b20df7420e35a17\", element=\"4ff26ac7-672a-4fa3-a798-d06de2bc4c9d\")>,\n",
       " <selenium.webdriver.remote.webelement.WebElement (session=\"679a1fcc0ef9724f5b20df7420e35a17\", element=\"3136a09e-3f52-47f9-b4ea-4be383f320c7\")>,\n",
       " <selenium.webdriver.remote.webelement.WebElement (session=\"679a1fcc0ef9724f5b20df7420e35a17\", element=\"dd47d66f-fd36-4ca0-b141-d0aa34156e72\")>,\n",
       " <selenium.webdriver.remote.webelement.WebElement (session=\"679a1fcc0ef9724f5b20df7420e35a17\", element=\"d46b6802-8f9f-4ef6-bf46-2dbee47a3939\")>,\n",
       " <selenium.webdriver.remote.webelement.WebElement (session=\"679a1fcc0ef9724f5b20df7420e35a17\", element=\"86f7a03e-4893-447c-bf54-2b3415175a01\")>,\n",
       " <selenium.webdriver.remote.webelement.WebElement (session=\"679a1fcc0ef9724f5b20df7420e35a17\", element=\"d5960bdc-569b-4624-985b-68d2b45356a0\")>,\n",
       " <selenium.webdriver.remote.webelement.WebElement (session=\"679a1fcc0ef9724f5b20df7420e35a17\", element=\"1ae8a56a-022e-41fb-8d3b-153554532f9e\")>,\n",
       " <selenium.webdriver.remote.webelement.WebElement (session=\"679a1fcc0ef9724f5b20df7420e35a17\", element=\"ce85b5cd-5903-41c9-8aca-b65cb6e01d1f\")>,\n",
       " <selenium.webdriver.remote.webelement.WebElement (session=\"679a1fcc0ef9724f5b20df7420e35a17\", element=\"79fd3cd0-794a-4ed8-a53a-9922cb233e8b\")>,\n",
       " <selenium.webdriver.remote.webelement.WebElement (session=\"679a1fcc0ef9724f5b20df7420e35a17\", element=\"7ee87077-325e-4cb3-b217-25f9071d73b7\")>,\n",
       " <selenium.webdriver.remote.webelement.WebElement (session=\"679a1fcc0ef9724f5b20df7420e35a17\", element=\"e5fd9d38-1b9f-44a4-83dd-70fc7e61d335\")>]"
      ]
     },
     "execution_count": 629,
     "metadata": {},
     "output_type": "execute_result"
    }
   ],
   "source": [
    "# title\n",
    "\n",
    "title_tags = driver.find_elements_by_xpath(\"//h2[@class='a-size-mini a-spacing-none a-color-base s-line-clamp-2']\")\n",
    "title_tags"
   ]
  },
  {
   "cell_type": "code",
   "execution_count": 630,
   "metadata": {},
   "outputs": [
    {
     "data": {
      "text/plain": [
       "['Acer Swift 5 14\" (35.56cms) Full HD IPS Display with Touchscreen Ultra Thin and Light Notebook (Intel i7 - 11th Gen/16GB RAM/1TB SSD/Win10/Intel Iris Xe Graphics/1.05 Kg/Mist Green), SF514-55TA',\n",
       " 'HP Envy 11th Gen Core i7 Processor 13.3-inch (33.78 cms) FHD Touchscreen Laptop (16GB/1TB SSD/Win 10/NVIDIA MX450 2GB/Natural Silver/1.3 kg), 13-ba1018TX',\n",
       " 'HP Pavilion (2021) Thin & Light 11th Gen Core i7 Laptop, 16 GB RAM, 1TB SSD, Iris Xe Graphics, 14\" (35.56cms) FHD Screen, Windows 10, MS Office, Backlit Keyboard (14-dv0058TU)',\n",
       " 'Life Digital Laptop 15.6-inch (39.62 cms) (Intel Core i7, 4GB RAM, 256GB SSD, Windows 10), ZED AIR CX7',\n",
       " 'Mi Notebook Horizon Edition 14 Intel Core i7-10510U 10th Gen 14-inch (35.56 cms) Thin and Light Laptop(8GB/512GB SSD/Windows 10/Nvidia MX350 2GB Graphics/Grey/1.35Kg), XMA1904-AF+Webcam',\n",
       " 'Life Digital Laptop 15.6-inch (39.62 cms) (Intel Core i7, 8GB RAM, 512GB SSD, Windows 10), ZED AIR CX7',\n",
       " 'HP 14 Thin & Light 14\" (35.56cms) FHD Laptop (11th Gen Intel i7-1165G7/8GB/512GB SSD/Windows 10/MS Office 2019/Alexa Built-in/Pale Gold/1.47 kg), 14s-dr2007TU',\n",
       " 'Dell 14 (2021) i7-1165G7 2in1 Touch Screen Laptop, 16Gb RAM, 512Gb SSD, 14” (35.56 cms) FHD Display, Win 10 + MSO, Backlit KB + FPR + Active Pen, Silver Metal Color (Inspiron 5410, D560469WIN9S)',\n",
       " 'ASUS TUF Gaming F15 (2020), 15.6-inch (39.62 cms) FHD 144Hz, Intel Core i7-10870H 10th Gen, NVIDIA GeForce GTX 1650 4GB Graphics, Gaming Laptop(8GB/512GB SSDWindows 10/Gray/2.3 Kg), FX566LH-HN255T',\n",
       " 'Lenovo IdeaPad Flex 5 11th Gen Intel Core i7 14\"(35.56cm) FHD IPS 2-in-1 Touchscreen Laptop(16GB/512GB SSD/Windows 10/MS Office/Lenovo Digital Pen/Fingerprint Reader/Graphite Grey/1.5Kg), 82HS0092IN',\n",
       " '(Renewed) Life Digital Laptop 15.6-inch (39.62 cms) (Intel Core i7, 8GB RAM, 512GB SSD, Windows 10), ZED AIR CX7',\n",
       " 'ASUS VivoBook S S14 Intel Core i7-1165G7 11th Gen, 14-inch FHD Thin and Light Laptop (8GB RAM/512GB SSD + 32GB Optane Memory/Windows 10/Office 2019/Iris X Graphics- Indie Black/1.4 Kg), S433EA-AM701TS',\n",
       " 'MSI GF75 Thin, Intel i7-10750H, 17.3\" (43.9 cm) FHD IPS-Level 144Hz Panel Laptop (8GB/512GB NVMe SSD/Windows 10 Home/Nvidia GTX1650 4GB GDDR6/Black/2.2Kg), 10SCXR-654IN',\n",
       " 'Dell Inspiron 5502 15.6\" FHD AG Display Laptop (11th Gen i7-1165G7/8 GB/512 SSD/NVIDIA MX 330 2GB/Win 10 + MSO/Silver) D560377WIN9S',\n",
       " 'Mi Notebook Horizon Edition 14 Intel Core i7-10510U 10th Gen 14-inch (35.56 cms) Thin and Light Laptop(8GB/512GB SSD/Windows 10/Nvidia MX350 2GB Graphics/Grey/1.35Kg), XMA1904-AF+Webcam',\n",
       " 'Lenovo Yoga 7 11th Gen Intel Core i7-1165G7 14\" (35.56cm) FHD IPS 2-in-1 Touchscreen Laptop (16GB/512GB SSD/Windows 10/MS Office/Lenovo Digital Pen/Fingerprint Reader/Slate Grey/1.43Kg), 82BH004HIN',\n",
       " '(Renewed) Lenovo Legion Y740 Intel 9th Gen Core i7 15.6-Inch (39.62 cms) 1920 x 1080 (Full HD) Laptop (16 GB/1TB SSD/Windows 10 Home/MS Office /NVIDIA GeForce RTX 2060/Black/2.2 Kg), 81UH006YIN',\n",
       " '(Renewed) Lenovo Intel Core i7-4th Gen 14 Inch(35.56 cms) 1920 x 1080 HD Laptop (8GB RAM/256GB SSD/Windows 10 Pro/MS Office/ Intel HD graphics,Black,2.0kg) Lenovo ThinkPad T440p',\n",
       " '(Renewed) Lenovo Intel Core i7-4th Gen 14 Inch(35.56 cms) 1920 x 1080 HD Laptop (8GB RAM/500GB HDD/Windows 10 Pro/MS Office/ Intel HD graphics,Black,2.0kg) Lenovo ThinkPad T440p',\n",
       " '(Renewed) Lenovo Intel Core i7-4th Gen 14 Inch(35.56 cms) 1920 x 1080 HD Laptop (8GB RAM/128GB SSD & 1TB HDD/Windows 10 Pro/MS Office/ Intel HD graphics,Black,2.0kg) Lenovo ThinkPad T440p',\n",
       " '(Renewed) Lenovo Intel Core i7-4th Gen 14 Inch(35.56 cms) 1920 x 1080 HD Laptop (16GB RAM /1TB SSD/Windows 10 Pro/MS Office/ Intel HD graphics,Black,2.0kg) Lenovo ThinkPad T440p',\n",
       " '(Renewed) Lenovo Intel Core i7-4th Gen 14 Inch(35.56 cms) 1920 x 1080 HD Laptop (4GB RAM/500GB HDD/Windows 10 Pro/MS Office/ Intel HD graphics,Black,2.0kg) Lenovo ThinkPad T440p',\n",
       " 'HP 14 10th Gen Intel Core i7 Ultra Thin and Light FHD Laptop (i7-1065G7/8GB/512GB SSD/Win 10/MS Office 2019/Natural Silver/1.46 Kg), 14s-DR1010TU',\n",
       " 'NEXSTGO Primus NX201 NP15N1IN008P 15.6-inch Laptop (Core i7-8550U/8GB/256GBSSD/Windows 10 Pro/Full HD + IR/Finger Print/Integrated Graphics/Thin & Light/1.88KG), Dark Gray',\n",
       " 'HP Pavilion x360 (2021) 14\" (35.56cms) FHD Touchscreen Laptop, 11th Gen Core i7, 8 GB RAM, 512GB SSD, 2-in-1 Convertible, Windows 10, MS Office, Finger Print Reader (14-dw1040TU)',\n",
       " '(Renewed) Lenovo T430 14-inch Laptop (Core i7/ 8GB RAM(Upgradable to 16)/512GB SSD/Windows 10 Pro/MS Office 2019, Intel Integrated Graphics, PAN INDIA WARRANTY) Black',\n",
       " 'OMEN 17 Gaming Laptop, NVIDIA GeForce RTX 2070, Intel Core i7-10750H, 16 GB DDR4 RAM, 512 GB PCIe NVMe SSD, 17.3\" 144Hz Full HD, Windows 10 Home, RGB Keyboard (17-cb1080nr, 2020 Model)',\n",
       " 'Lenovo IdeaPad Gaming 3 Intel Core i7 10th Gen 15.6\" FHD IPS 250Nits Gaming Laptop (8GB/512GB SSD/Win10/NVIDIA GTX 1650 4GB GDDR6 Graphics/120Hz/Onyx Black/2.2Kg), 81Y4019EIN',\n",
       " 'Lenovo IdeaPad Gaming 3 10th Gen Intel Core i7 15.6-inch FHD IPS Gaming Laptop (8GB/1TB HDD + 256 GB SSD/Windows 10/NVIDIA GTX 1650 4GB GDDR6/with M100 RGB Gaming Mouse/Onyx Black/2.2Kg), 81Y400VAIN']"
      ]
     },
     "execution_count": 630,
     "metadata": {},
     "output_type": "execute_result"
    }
   ],
   "source": [
    "titles = []\n",
    "for i in title_tags:\n",
    "    titles.append(i.text)\n",
    "    \n",
    "titles\n",
    "    \n",
    "\n",
    "    "
   ]
  },
  {
   "cell_type": "code",
   "execution_count": 660,
   "metadata": {},
   "outputs": [
    {
     "data": {
      "text/plain": [
       "['₹1,289',\n",
       " '₹299',\n",
       " '₹378',\n",
       " '₹420',\n",
       " '₹499',\n",
       " '₹356',\n",
       " '₹240',\n",
       " '₹449',\n",
       " '₹536',\n",
       " '₹399',\n",
       " '₹299',\n",
       " '₹1,209',\n",
       " '₹399',\n",
       " '₹424',\n",
       " '₹426',\n",
       " '₹1,614',\n",
       " '₹331',\n",
       " '₹399',\n",
       " '₹254',\n",
       " '₹299',\n",
       " '₹449',\n",
       " '₹398',\n",
       " '₹499',\n",
       " '₹1,259',\n",
       " '₹594',\n",
       " '₹240',\n",
       " '₹399',\n",
       " '₹424',\n",
       " '₹474',\n",
       " '₹407',\n",
       " '₹299',\n",
       " '₹1,423',\n",
       " '₹426',\n",
       " '₹416',\n",
       " '₹629',\n",
       " '₹1,437',\n",
       " '₹447',\n",
       " '₹319',\n",
       " '₹260',\n",
       " '₹399']"
      ]
     },
     "execution_count": 660,
     "metadata": {},
     "output_type": "execute_result"
    }
   ],
   "source": [
    "#  Price\n",
    "Price_tags = driver.find_elements_by_xpath(\"//a[@class='a-section a-spacing-none a-spacing-top-small']\")\n",
    "\n",
    "Price"
   ]
  },
  {
   "cell_type": "code",
   "execution_count": null,
   "metadata": {},
   "outputs": [],
   "source": []
  }
 ],
 "metadata": {
  "kernelspec": {
   "display_name": "Python 3",
   "language": "python",
   "name": "python3"
  },
  "language_info": {
   "codemirror_mode": {
    "name": "ipython",
    "version": 3
   },
   "file_extension": ".py",
   "mimetype": "text/x-python",
   "name": "python",
   "nbconvert_exporter": "python",
   "pygments_lexer": "ipython3",
   "version": "3.8.5"
  }
 },
 "nbformat": 4,
 "nbformat_minor": 4
}
